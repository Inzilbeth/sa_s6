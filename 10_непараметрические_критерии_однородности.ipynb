{
 "cells": [
  {
   "cell_type": "markdown",
   "id": "15a70b06-03ab-4f7c-a9e4-47bf5e3f7fd8",
   "metadata": {},
   "source": [
    "# Задание 10\n",
    "\n",
    "## Описание\n",
    "\n",
    "Применить непараметрические критерии однородности"
   ]
  },
  {
   "cell_type": "markdown",
   "id": "dab57a17-0dd5-42c3-979e-dc7728653016",
   "metadata": {},
   "source": [
    "## Подготовка"
   ]
  },
  {
   "cell_type": "code",
   "execution_count": 1,
   "id": "5dcd0b4f-89e6-4bfb-9f25-e6cd63b43f3c",
   "metadata": {},
   "outputs": [],
   "source": [
    "import numpy as np\n",
    "import pandas as pd\n",
    "from scipy.stats import (\n",
    "    norm,\n",
    "    chi2,\n",
    "    ranksums,\n",
    "    wilcoxon,\n",
    "    friedmanchisquare,\n",
    "    kruskal,\n",
    "    median_test,\n",
    ")"
   ]
  },
  {
   "cell_type": "code",
   "execution_count": 2,
   "id": "070dd547-efd6-4d42-821e-50e98a1d9d17",
   "metadata": {},
   "outputs": [],
   "source": [
    "# данные о наблюдениях за массой тела до и после диеты у 10 индивидов\n",
    "body_mass_before = np.array([68, 80, 92, 81, 70, 79, 78, 66, 57, 76])\n",
    "body_mass_after = np.array([60, 84, 87, 79, 74, 71, 72, 67, 57, 70])"
   ]
  },
  {
   "cell_type": "code",
   "execution_count": 3,
   "id": "d15b3aa1-466f-456d-8318-8bec671d74ea",
   "metadata": {},
   "outputs": [],
   "source": [
    "# время решения контрольных задач (в секундах) одиннадцатью учащимися до и после упражнений по устному счету\n",
    "time_to_solve_before = np.array([87, 61, 98, 90, 93, 74, 83, 72, 81, 75, 83])\n",
    "time_to_solve_after = np.array([50, 45, 79, 90, 88, 65, 52, 79, 84, 61, 52])"
   ]
  },
  {
   "cell_type": "code",
   "execution_count": 4,
   "id": "0308bc3e-d15d-493f-80b1-62b3a5a754f6",
   "metadata": {},
   "outputs": [],
   "source": [
    "# просто матрица со слайда\n",
    "presentation_matrix = np.array([\n",
    "    [52, 45, 38],\n",
    "    [63, 79, 50],\n",
    "    [45, 57, 39],\n",
    "    [53, 51, 43],\n",
    "    [47, 50, 56],\n",
    "    [62, 72, 49],\n",
    "    [49, 52, 40],\n",
    "])"
   ]
  },
  {
   "cell_type": "code",
   "execution_count": 5,
   "id": "175a2b7d-3000-46c8-a800-416d4d36913e",
   "metadata": {},
   "outputs": [],
   "source": [
    "alcoholics = pd.read_csv('data_big.csv', index_col=0)"
   ]
  },
  {
   "cell_type": "code",
   "execution_count": 6,
   "id": "cd064513-c374-422c-ab54-ce867ac25ef9",
   "metadata": {},
   "outputs": [],
   "source": [
    "addicts = pd.read_excel('addicts0.xls', sheet_name=1)"
   ]
  },
  {
   "cell_type": "markdown",
   "id": "505d5777-a2b5-4eb6-8e0b-0052f0ffd157",
   "metadata": {},
   "source": [
    "## Решение"
   ]
  },
  {
   "cell_type": "markdown",
   "id": "875467bb-8028-4c96-a823-6e8c03455220",
   "metadata": {},
   "source": [
    "### Критерий Вилкоксона для зависимых выборок"
   ]
  },
  {
   "cell_type": "code",
   "execution_count": 7,
   "id": "21705f9f-6679-400f-85d1-4eb07ed4bdbe",
   "metadata": {},
   "outputs": [
    {
     "name": "stdout",
     "output_type": "stream",
     "text": [
      "WilcoxonResult(statistic=37.0, pvalue=0.042503047233143215)\n"
     ]
    },
    {
     "name": "stderr",
     "output_type": "stream",
     "text": [
      "D:\\Utilities\\Anaconda\\envs\\cm\\lib\\site-packages\\scipy\\stats\\_morestats.py:3428: UserWarning: Sample size too small for normal approximation.\n",
      "  warnings.warn(\"Sample size too small for normal approximation.\")\n"
     ]
    }
   ],
   "source": [
    "# 'greater', т.к. предполагаем, что вес уменьшится после диеты\n",
    "print(wilcoxon(body_mass_before, body_mass_after, mode='approx', alternative='greater')) "
   ]
  },
  {
   "cell_type": "markdown",
   "id": "877e6f1e-1814-4c2b-b2ae-f333bbf2d48a",
   "metadata": {},
   "source": [
    "0.04 < 0.05 => есть основания полагать, что после диеты вес уменьшается"
   ]
  },
  {
   "cell_type": "code",
   "execution_count": 8,
   "id": "97492cc8-02aa-4351-a8d9-4ba7debf15ee",
   "metadata": {},
   "outputs": [
    {
     "name": "stdout",
     "output_type": "stream",
     "text": [
      "WilcoxonResult(statistic=51.0, pvalue=0.00826724633396133)\n"
     ]
    }
   ],
   "source": [
    "# 'greater', т.к. предполагаем, что время решения уменьшится после упражнений\n",
    "print(wilcoxon(time_to_solve_before, time_to_solve_after, mode='approx', alternative='greater'))"
   ]
  },
  {
   "cell_type": "markdown",
   "id": "deb03084-a7d2-42b5-b9dc-80649bc39ed3",
   "metadata": {},
   "source": [
    "0.008 << 0.05 => есть серьезные основания полагать, что после упражнений время на решение уменьшается"
   ]
  },
  {
   "cell_type": "code",
   "execution_count": 9,
   "id": "cc628589-6e9e-4974-bcb0-707708443c2b",
   "metadata": {},
   "outputs": [
    {
     "name": "stdout",
     "output_type": "stream",
     "text": [
      "1.1764705882352942\n",
      "0.9705882352941176\n",
      "WilcoxonResult(statistic=5.0, pvalue=0.019630657257290667)\n"
     ]
    }
   ],
   "source": [
    "depressed_1 = alcoholics['depressed.mood.1'].to_numpy()\n",
    "depressed_2 = alcoholics['depressed.mood.2'].to_numpy()\n",
    "\n",
    "print(depressed_1.mean())\n",
    "print(depressed_2.mean())\n",
    "\n",
    "# 'two-sided', т.к. заранее точно нельзя сказать, как изменится уровень депрессии, ищем любую связь\n",
    "print(wilcoxon(depressed_1, depressed_2, mode='approx', alternative='two-sided'))"
   ]
  },
  {
   "cell_type": "markdown",
   "id": "1c9046a5-e07e-47e3-99cb-643eb4bfa3f7",
   "metadata": {},
   "source": [
    "0.2 < 0.05 => есть основания полагать, что наблюдается изменение. С учетом средних значений, вероятно, депрессивность уменьшается"
   ]
  },
  {
   "cell_type": "markdown",
   "id": "681ce50c-8a80-4948-ba95-c973da1c1deb",
   "metadata": {},
   "source": [
    "### Критерий Фридмана для нескольких зависимых выборок"
   ]
  },
  {
   "cell_type": "code",
   "execution_count": 10,
   "id": "c0f32ccc-1e0a-4f3b-beaf-90da7e9d4e16",
   "metadata": {},
   "outputs": [
    {
     "name": "stdout",
     "output_type": "stream",
     "text": [
      "FriedmanchisquareResult(statistic=6.0, pvalue=0.04978706836786395)\n"
     ]
    }
   ],
   "source": [
    "print(friedmanchisquare(*presentation_matrix.T))"
   ]
  },
  {
   "cell_type": "markdown",
   "id": "3f1f158a-80c4-4eba-8b8a-dfe2d8be254d",
   "metadata": {},
   "source": [
    "0.498 почти равно 0.05 => есть слабые основания полагать, что есть статистически значимое отличие между медианами множеств"
   ]
  },
  {
   "cell_type": "code",
   "execution_count": 11,
   "id": "e5aec583-048c-4416-be0d-bc6b31efed09",
   "metadata": {},
   "outputs": [
    {
     "name": "stdout",
     "output_type": "stream",
     "text": [
      "1.1818181818181819\n",
      "0.6363636363636364\n",
      "0.09090909090909091\n",
      "FriedmanchisquareResult(statistic=31.52380952380952, pvalue=1.427880088929277e-07)\n"
     ]
    }
   ],
   "source": [
    "depressed_data = alcoholics[['depressed.mood.1', 'depressed.mood.3', 'depressed.mood.9']].dropna().to_numpy()\n",
    "\n",
    "print(depressed_data[:, 0].mean())\n",
    "print(depressed_data[:, 1].mean())\n",
    "print(depressed_data[:, 2].mean())\n",
    "print(friedmanchisquare(*depressed_data.T))"
   ]
  },
  {
   "cell_type": "markdown",
   "id": "c96faeb0-4525-48a4-9e90-70cf71166675",
   "metadata": {},
   "source": [
    "1.4e-7 << 0.05 => есть серьезные основания полагать, что есть статистически значимое отличие между медианами множеств"
   ]
  },
  {
   "cell_type": "markdown",
   "id": "86a746e7-86cc-44d7-a416-cee3f592cc87",
   "metadata": {},
   "source": [
    "### Критерий Краскела-Уоллиса для нескольких независимых выборок"
   ]
  },
  {
   "cell_type": "code",
   "execution_count": 12,
   "id": "c3b16a38-d192-4d7d-a05d-9354d3eb6561",
   "metadata": {},
   "outputs": [
    {
     "name": "stdout",
     "output_type": "stream",
     "text": [
      "KruskalResult(statistic=0.267666570559128, pvalue=0.9659902133618656)\n"
     ]
    }
   ],
   "source": [
    "eight_classes_drug, middle_school_drug, incomplete_higher_drug, higher_drug = (\n",
    "    addicts[addicts.educat == 1].asi4_dr.dropna().to_numpy(),\n",
    "    addicts[addicts.educat == 2].asi4_dr.dropna().to_numpy(),\n",
    "    addicts[addicts.educat == 3].asi4_dr.dropna().to_numpy(),\n",
    "    addicts[addicts.educat == 4].asi4_dr.dropna().to_numpy(),\n",
    ")\n",
    "\n",
    "print(kruskal(eight_classes_drug, middle_school_drug, incomplete_higher_drug, higher_drug))"
   ]
  },
  {
   "cell_type": "markdown",
   "id": "6a8fd399-440e-45ef-8dc1-a312cd815107",
   "metadata": {},
   "source": [
    "0.966 >> 0.05 => образование не имеет статически значимого влияния на параметр \"употребление наркотиков\""
   ]
  },
  {
   "cell_type": "code",
   "execution_count": 13,
   "id": "cbe94ef1-6ecb-4091-842e-9f8f29462bea",
   "metadata": {},
   "outputs": [
    {
     "name": "stdout",
     "output_type": "stream",
     "text": [
      "KruskalResult(statistic=8.921122877272833, pvalue=0.0303581927931991)\n"
     ]
    }
   ],
   "source": [
    "eight_classes_social, middle_school_social, incomplete_higher_social, higher_social = (\n",
    "    addicts[addicts.educat == 1].asi2_emp.dropna().to_numpy(),\n",
    "    addicts[addicts.educat == 2].asi2_emp.dropna().to_numpy(),\n",
    "    addicts[addicts.educat == 3].asi2_emp.dropna().to_numpy(),\n",
    "    addicts[addicts.educat == 4].asi2_emp.dropna().to_numpy(),\n",
    ")\n",
    "\n",
    "print(kruskal(eight_classes_social, middle_school_social, incomplete_higher_social, higher_social))"
   ]
  },
  {
   "cell_type": "markdown",
   "id": "79680e36-15d1-4350-b850-1478dc534ea6",
   "metadata": {},
   "source": [
    "0.03 < 0.05 =>  образование имеет статически значимое влияния на социальный статус"
   ]
  },
  {
   "cell_type": "markdown",
   "id": "d433b584-86d3-4595-9806-6e4ed64e4354",
   "metadata": {},
   "source": [
    "### Медианный тест для нескольких независимых выборок"
   ]
  },
  {
   "cell_type": "code",
   "execution_count": 14,
   "id": "45383501-0640-4fb2-a151-03f28605e3f3",
   "metadata": {},
   "outputs": [
    {
     "name": "stdout",
     "output_type": "stream",
     "text": [
      "statistic: 1.2381145594605654\n",
      "p-value: 0.7438781224488737\n",
      "median: 0.3\n",
      "[[  2  42   5   2]\n",
      " [ 19 180  23   7]]\n"
     ]
    }
   ],
   "source": [
    "statistic, pvalue, median, table = median_test(eight_classes_drug, middle_school_drug, incomplete_higher_drug, higher_drug)\n",
    "\n",
    "print(f\"statistic: {statistic}\")\n",
    "print(f\"p-value: {pvalue}\")\n",
    "print(f\"median: {median}\")\n",
    "print(table)"
   ]
  },
  {
   "cell_type": "markdown",
   "id": "ffaaf198-a2b2-48f9-b048-d3ac6c8fde51",
   "metadata": {},
   "source": [
    "0.74 >> 0.05 => образование не имеет статически значимого влияния на параметр \"употребление наркотиков\""
   ]
  },
  {
   "cell_type": "code",
   "execution_count": 15,
   "id": "360324ff-3893-4c4c-a8b7-9fcdfe5e6886",
   "metadata": {},
   "outputs": [
    {
     "name": "stdout",
     "output_type": "stream",
     "text": [
      "statistic: 6.753860518566401\n",
      "p-value: 0.08017092006384198\n",
      "median: 0.915\n",
      "[[ 12 116   9   2]\n",
      " [  9 105  18   7]]\n"
     ]
    }
   ],
   "source": [
    "statistic, pvalue, median, table = median_test(eight_classes_social, middle_school_social, incomplete_higher_social, higher_social)\n",
    "\n",
    "print(f\"statistic: {statistic}\")\n",
    "print(f\"p-value: {pvalue}\")\n",
    "print(f\"median: {median}\")\n",
    "print(table)"
   ]
  },
  {
   "cell_type": "markdown",
   "id": "6a048274-9ab4-4bb2-a071-4a0422552580",
   "metadata": {},
   "source": [
    "0.08 > 0.05 =>  образование может влияният на социальный статус"
   ]
  }
 ],
 "metadata": {
  "kernelspec": {
   "display_name": "Python 3 (ipykernel)",
   "language": "python",
   "name": "python3"
  },
  "language_info": {
   "codemirror_mode": {
    "name": "ipython",
    "version": 3
   },
   "file_extension": ".py",
   "mimetype": "text/x-python",
   "name": "python",
   "nbconvert_exporter": "python",
   "pygments_lexer": "ipython3",
   "version": "3.8.18"
  }
 },
 "nbformat": 4,
 "nbformat_minor": 5
}
