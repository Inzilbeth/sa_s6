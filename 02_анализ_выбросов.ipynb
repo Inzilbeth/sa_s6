{
 "cells": [
  {
   "cell_type": "markdown",
   "id": "a0962fd8-8753-4653-b77c-0f9eaa048c23",
   "metadata": {},
   "source": [
    "# Задание 2\n",
    "\n",
    "## Описание\n",
    "\n",
    "По данным addicts0.xls проанализировать на предмет выбросов индексы тяжести."
   ]
  },
  {
   "cell_type": "markdown",
   "id": "d5d2dcd9-c449-4775-8b4f-7a6d83d66951",
   "metadata": {},
   "source": [
    "## Подготовка"
   ]
  },
  {
   "cell_type": "code",
   "execution_count": 2,
   "id": "b4709b8c-4632-4abf-9328-2726d0790c3d",
   "metadata": {},
   "outputs": [],
   "source": [
    "import pandas as pd\n",
    "import numpy as np\n",
    "from scipy.stats import f\n",
    "import plotly.express as px"
   ]
  },
  {
   "cell_type": "code",
   "execution_count": 3,
   "id": "36becc20-4488-4cac-9de5-d90c8e263318",
   "metadata": {},
   "outputs": [],
   "source": [
    "df = pd.read_excel('addicts0.xls', sheet_name=1)\n",
    "necessary_columns = ['asi1_med', 'asi2_emp', 'asi4_dr']\n",
    "df = df[necessary_columns]\n",
    "df.fillna(df.mean(), inplace=True)"
   ]
  },
  {
   "cell_type": "markdown",
   "id": "32e572a8-86e4-40e5-acfb-2d8136d22194",
   "metadata": {},
   "source": [
    "## Решение"
   ]
  },
  {
   "cell_type": "code",
   "execution_count": 4,
   "id": "f98af9d2-b57c-4b7d-85a5-97918538ab57",
   "metadata": {},
   "outputs": [],
   "source": [
    "def calculate_mean(df):\n",
    "    return df.sum().to_numpy() / len(df)\n",
    "     \n",
    "\n",
    "def calculate_cov_matrix(df):\n",
    "    centered = df - calculate_mean(df)\n",
    "    return centered.apply(lambda row: np.outer(row, row), axis=1).sum() / (len(df) - 1)\n",
    "     \n",
    "\n",
    "def calculate_mahalanobis_square_distance(x, df):\n",
    "    d = x - calculate_mean(df)\n",
    "    cov_matrix = calculate_cov_matrix(df)\n",
    "    return d.dot(np.linalg.inv(cov_matrix).dot(d))\n",
    "     \n",
    "\n",
    "def calculate_statistics(x, df):\n",
    "    n = len(df)\n",
    "    p = len(df.columns)\n",
    "    return ((n - p) * n) / ((n ** 2 - 1) * p) * calculate_mahalanobis_square_distance(x, df)\n",
    "     \n",
    "\n",
    "def calculate_p_value(index, df):\n",
    "    x = df.loc[index].to_numpy()\n",
    "    reduced_df = df.drop([index])\n",
    "\n",
    "    statistics = calculate_statistics(x, reduced_df)\n",
    "\n",
    "    n = len(reduced_df)\n",
    "    p = len(reduced_df.columns)\n",
    "\n",
    "    # Вычисление степени свободы: [количество переменных] и [количество наблюдений минус количество переменных]\n",
    "    dfn, dfd = p, n - p\n",
    "\n",
    "    # Вычисление P-значения, используя кумулятивное распределение Фишера (F-распределение)\n",
    "    return 1 - f.cdf(statistics, dfn=dfn, dfd=dfd)\n",
    "     \n",
    "\n",
    "def mark_outliers(df, alpha = 0.01):\n",
    "    while True:\n",
    "        filtered_df = df[~df['is_outlier']]\n",
    "        filtered_df = filtered_df.drop(columns=['is_outlier'])\n",
    "        p_values = filtered_df.apply(lambda row: calculate_p_value(row.name, filtered_df), axis=1)\n",
    "\n",
    "        if p_values.min() >= alpha:\n",
    "            break\n",
    "\n",
    "        print(f'{p_values.idxmin()}: {df.loc[p_values.idxmin()].drop(\"is_outlier\").to_numpy()}')\n",
    "        df.loc[p_values.idxmin(), 'is_outlier'] = True"
   ]
  },
  {
   "cell_type": "code",
   "execution_count": 5,
   "id": "575d5849-b6f4-40e2-8442-e5e04a7320b9",
   "metadata": {},
   "outputs": [
    {
     "name": "stdout",
     "output_type": "stream",
     "text": [
      "46: [0.0 1.0 0.66]\n",
      "268: [0.0 1.0 0.09]\n",
      "98: [0.97 0.5 0.19]\n",
      "219: [0.0 1.0 0.11]\n",
      "85: [0.0 0.0 0.2]\n",
      "170: [1.0 1.0 0.38]\n",
      "145: [0.83 1.0 0.41]\n",
      "147: [0.0 1.0 0.12]\n",
      "222: [0.0 0.85 0.12]\n",
      "6: [0.0 1.0 0.42]\n"
     ]
    }
   ],
   "source": [
    "df['is_outlier'] = False\n",
    "mark_outliers(df)"
   ]
  },
  {
   "cell_type": "code",
   "execution_count": 10,
   "id": "db547428-c610-4766-8d0a-bfbf4f3342f0",
   "metadata": {},
   "outputs": [
    {
     "data": {
      "application/vnd.plotly.v1+json": {
       "config": {
        "plotlyServerURL": "https://plot.ly"
       },
       "data": [
        {
         "hovertemplate": "is_outlier=False<br>asi1_med=%{x}<br>asi2_emp=%{y}<br>asi4_dr=%{z}<extra></extra>",
         "legendgroup": "False",
         "marker": {
          "color": "#636efa",
          "line": {
           "color": "DarkSlateGrey",
           "width": 0.5
          },
          "opacity": 0.8,
          "size": 5,
          "symbol": "circle"
         },
         "mode": "markers",
         "name": "False",
         "scene": "scene",
         "showlegend": true,
         "type": "scatter3d",
         "x": [
          0.19,
          0.44,
          0.5,
          0,
          0,
          0.52,
          0,
          0,
          0.16,
          0,
          0.7,
          0,
          0.6,
          0.83,
          0,
          0.4,
          0,
          0.6,
          0.28,
          0.6,
          0.54,
          0,
          0.36,
          0.36,
          0.39,
          0.17,
          0.18,
          0.37,
          0.53,
          0,
          0.2,
          0.3,
          0.57,
          0.3,
          0,
          0.2,
          0.1,
          0.5,
          0.3,
          0.56,
          0.37,
          0,
          0,
          0.3,
          0,
          0,
          0.2,
          0.58,
          0.24,
          0.17,
          0.59,
          0,
          0,
          0.91,
          0,
          0.6,
          0,
          0,
          0,
          0.25,
          0.58,
          0.83,
          0,
          0.58,
          0.56,
          0,
          0,
          0,
          0,
          0.36,
          0.34,
          0.3,
          0.53,
          0,
          0.2,
          0,
          0.42,
          0.4,
          0.6,
          0.6,
          0,
          0.75,
          0,
          0,
          0.1,
          0,
          0.69,
          0,
          0.29,
          0.97,
          0,
          0.7,
          0,
          0.2,
          0,
          0.63,
          0,
          0.27,
          0.17,
          0,
          0,
          0.03,
          0,
          0,
          0.6,
          0.9,
          0,
          0,
          0,
          0,
          0.41,
          0.7,
          0,
          0,
          0.41,
          0,
          0.39,
          0.17,
          0.41,
          0,
          0.25,
          0.59,
          0.56,
          0,
          0,
          0.39,
          0.37,
          0.39,
          0.6,
          0.3,
          0,
          0.35,
          0,
          0,
          0.4,
          0,
          0,
          0.2,
          0,
          0.55,
          0.02,
          0,
          0.63,
          0,
          0.6,
          0.2,
          0.33,
          0,
          0.6,
          0.5,
          0.31,
          0.36,
          0.31,
          0,
          0.26,
          0.42,
          0,
          0.86,
          0.39,
          0.4,
          0.4,
          0,
          0,
          0.17,
          0.53,
          0,
          0,
          0,
          0.42,
          0,
          0.25,
          0.44,
          0,
          0.59,
          0.91,
          0.63,
          0,
          0,
          0,
          0.3,
          0,
          0,
          0.36,
          0.29,
          0,
          0.18,
          0,
          0.26,
          0,
          0.58,
          0,
          0.6,
          0.08,
          0.6,
          0.17,
          0,
          0,
          0.6,
          0.48,
          0.58,
          0,
          0,
          0.4,
          0,
          0,
          0.51,
          0.6,
          0.42,
          0,
          0.56,
          0,
          0,
          0,
          0,
          0,
          0.89,
          0.34,
          0,
          0.31,
          0.25,
          0,
          0.08,
          0.2,
          0,
          0,
          0.4,
          0,
          0,
          0.35,
          0,
          0.34,
          0.46,
          0,
          0.7,
          0.17,
          0.06,
          0,
          0.52,
          0.33,
          0,
          0.42,
          0,
          0,
          0.74,
          0,
          0.41,
          0.2,
          0,
          0.53,
          0.2,
          0.3,
          0.19,
          0.99,
          0,
          0.4,
          0,
          0,
          0.39,
          0.29,
          0,
          0,
          0,
          0.02,
          0,
          0.33,
          0.1,
          0,
          0,
          0,
          0.4
         ],
         "y": [
          0.7,
          0.23,
          1,
          0.8,
          0.75,
          0.5,
          0.24,
          1,
          1,
          0.96,
          0.19,
          0.5,
          1,
          0.75,
          1,
          1,
          1,
          0.25,
          1,
          1,
          1,
          1,
          0.69,
          1,
          1,
          0.5,
          0.5,
          0.5,
          0.9,
          1,
          1,
          0.25,
          1,
          1,
          1,
          0.7,
          1,
          1,
          1,
          1,
          0.5,
          0.74,
          0.71,
          1,
          0.75,
          1,
          1,
          0.19,
          0.25,
          0.7,
          1,
          1,
          1,
          0.75,
          1,
          1,
          1,
          1,
          1,
          0.56,
          0.19,
          0.69,
          0.24,
          1,
          0.8,
          0.5,
          0.69,
          0.8,
          0.5,
          1,
          1,
          0.5,
          1,
          0.96,
          0.71,
          1,
          1,
          1,
          0.7,
          1,
          0.53,
          1,
          0.83,
          1,
          0.52,
          0.87,
          0.74,
          0.38,
          1,
          0.75,
          0.75,
          0.5,
          0.73,
          0.44,
          1,
          0.44,
          1,
          1,
          0.89,
          0.33,
          1,
          0.87,
          0.94,
          1,
          1,
          0.5,
          0.75,
          0.31,
          1,
          0.69,
          0.75,
          0.2,
          0.86,
          1,
          1,
          0.36,
          1,
          1,
          0.74,
          0.76,
          0.75,
          1,
          1,
          1,
          0.81,
          0.75,
          1,
          1,
          1,
          0.92,
          0.81,
          1,
          0.53,
          0.31,
          0.2,
          0.75,
          1,
          0.7,
          0.7,
          0.55,
          0.75,
          0.7,
          0.94,
          0.29,
          0.27,
          1,
          0.5,
          0.5,
          0.69,
          0.81,
          1,
          1,
          1,
          1,
          1,
          0.5,
          1,
          1,
          1,
          0.2,
          1,
          1,
          0.2,
          1,
          1,
          1,
          0.81,
          0.24,
          0.75,
          0.85,
          0.91,
          0.75,
          1,
          0.84,
          1,
          1,
          0.88,
          0.75,
          0.26,
          0.18,
          0.24,
          0.75,
          1,
          1,
          1,
          1,
          1,
          0.75,
          1,
          0.56,
          0.18,
          1,
          1,
          0.5,
          0.26,
          1,
          1,
          0.75,
          1,
          0.69,
          0.7,
          1,
          0.76,
          0.73,
          1,
          1,
          0.11,
          1,
          0.29,
          0.18,
          0.34,
          1,
          0.5,
          1,
          0.5,
          1,
          0.91,
          0.5,
          1,
          0.75,
          1,
          1,
          1,
          0.98,
          0.5,
          0.56,
          0.5,
          1,
          1,
          0.5,
          1,
          0.69,
          0.75,
          0.1,
          1,
          1,
          1,
          1,
          1,
          1,
          0.75,
          0.68,
          1,
          0.5,
          0.75,
          0.8,
          0.75,
          0.784136690647482,
          1,
          0.7,
          0,
          1,
          1,
          1,
          0.77,
          0.3,
          1,
          1,
          1,
          1,
          0.9,
          0.5,
          1,
          1,
          0.784136690647482,
          0.59,
          1,
          1,
          1,
          1
         ],
         "z": [
          0.3,
          0.27,
          0.3,
          0.26,
          0.23,
          0.3,
          0.28,
          0.3,
          0.29,
          0.34,
          0.3,
          0.3,
          0.3,
          0.24,
          0.33,
          0.3,
          0.31,
          0.3,
          0.23,
          0.3,
          0.3,
          0.33,
          0.3,
          0.4,
          0.27,
          0.3,
          0.3,
          0.3,
          0.3,
          0.27,
          0.3,
          0.3,
          0.27,
          0.39,
          0.32,
          0.3,
          0.29,
          0.3,
          0.3,
          0.3,
          0.32,
          0.31,
          0.27,
          0.3,
          0.27,
          0.24,
          0.21,
          0.32,
          0.4,
          0.3,
          0.32,
          0.23,
          0.29,
          0.24,
          0.26,
          0.3,
          0.22,
          0.33,
          0.3,
          0.33,
          0.3,
          0.3,
          0.31,
          0.3,
          0.26,
          0.28,
          0.27,
          0.3,
          0.3,
          0.22,
          0.3,
          0.3,
          0.3,
          0.3,
          0.3,
          0.23,
          0.3,
          0.3,
          0.3,
          0.3,
          0.2,
          0.3,
          0.26,
          0.28,
          0.28,
          0.28,
          0.22,
          0.28,
          0.3,
          0.28,
          0.27,
          0.21,
          0.3,
          0.3,
          0.31,
          0.32,
          0.18,
          0.23,
          0.28,
          0.27,
          0.26,
          0.21,
          0.25,
          0.3,
          0.32,
          0.3,
          0.26,
          0.23,
          0.31,
          0.21,
          0.23,
          0.3,
          0.18,
          0.25,
          0.24,
          0.21,
          0.28,
          0.3,
          0.34,
          0.27,
          0.25,
          0.3,
          0.3,
          0.36,
          0.28,
          0.26,
          0.33,
          0.26,
          0.35,
          0.3,
          0.24,
          0.24,
          0.27,
          0.28,
          0.3,
          0.29,
          0.38,
          0.3,
          0.3,
          0.34,
          0.23,
          0.3,
          0.24,
          0.17,
          0.3,
          0.22,
          0.27,
          0.23,
          0.3,
          0.29,
          0.33,
          0.3,
          0.29,
          0.4,
          0.25,
          0.3,
          0.38,
          0.32,
          0.21,
          0.24,
          0.25,
          0.27,
          0.29,
          0.31,
          0.3,
          0.36,
          0.25,
          0.25,
          0.18,
          0.29,
          0.27,
          0.29,
          0.23,
          0.26,
          0.37,
          0.3,
          0.33,
          0.3,
          0.26,
          0.3,
          0.29,
          0.2,
          0.21,
          0.27,
          0.33,
          0.23,
          0.23,
          0.26,
          0.29,
          0.3,
          0.32,
          0.3,
          0.3,
          0.3,
          0.31,
          0.23,
          0.19,
          0.38,
          0.24,
          0.3,
          0.27,
          0.33,
          0.32,
          0.37,
          0.26,
          0.3,
          0.3,
          0.3,
          0.3,
          0.3,
          0.3,
          0.16,
          0.23,
          0.3,
          0.32,
          0.26,
          0.25,
          0.26,
          0.3,
          0.2,
          0.21,
          0.3,
          0.21,
          0.31,
          0.24,
          0.3,
          0.3,
          0.14,
          0.25,
          0.3,
          0.24,
          0.3,
          0.15,
          0.3,
          0.3,
          0.22,
          0.26,
          0.18,
          0.16,
          0.3,
          0.26,
          0.32,
          0.3,
          0.3,
          0.3,
          0.22,
          0.3,
          0.31,
          0.3,
          0.3,
          0.3,
          0.23,
          0.26,
          0.23,
          0.3,
          0.2,
          0.15,
          0.32,
          0.24,
          0.35,
          0.3,
          0.3,
          0.29,
          0.31,
          0.23,
          0.25,
          0.25,
          0.21,
          0.29,
          0.3
         ]
        },
        {
         "hovertemplate": "is_outlier=True<br>asi1_med=%{x}<br>asi2_emp=%{y}<br>asi4_dr=%{z}<extra></extra>",
         "legendgroup": "True",
         "marker": {
          "color": "#EF553B",
          "line": {
           "color": "DarkSlateGrey",
           "width": 0.5
          },
          "opacity": 0.8,
          "size": 5,
          "symbol": "circle"
         },
         "mode": "markers",
         "name": "True",
         "scene": "scene",
         "showlegend": true,
         "type": "scatter3d",
         "x": [
          0,
          0,
          0,
          0.97,
          0.83,
          0,
          1,
          0,
          0,
          0
         ],
         "y": [
          1,
          1,
          0,
          0.5,
          1,
          1,
          1,
          1,
          0.85,
          1
         ],
         "z": [
          0.42,
          0.66,
          0.2,
          0.19,
          0.41,
          0.12,
          0.38,
          0.11,
          0.12,
          0.09
         ]
        }
       ],
       "layout": {
        "dragmode": "zoom",
        "height": 800,
        "legend": {
         "title": {
          "text": "is_outlier"
         },
         "tracegroupgap": 0
        },
        "margin": {
         "b": 0,
         "l": 0,
         "r": 0,
         "t": 50
        },
        "scene": {
         "aspectmode": "auto",
         "aspectratio": {
          "x": 1.2060770350021577,
          "y": 1.2060770350021577,
          "z": 0.68746390995123
         },
         "camera": {
          "center": {
           "x": 0.1401286821625094,
           "y": -0.026081188108803444,
           "z": -0.11404749405370596
          },
          "eye": {
           "x": 1.4823507948871053,
           "y": -1.812627501171582,
           "z": -1.648556495490226
          },
          "projection": {
           "type": "perspective"
          },
          "up": {
           "x": -0.42877361773471445,
           "y": 0.381318260431134,
           "z": -0.818993021335627
          }
         },
         "domain": {
          "x": [
           0,
           1
          ],
          "y": [
           0,
           1
          ]
         },
         "dragmode": "orbit",
         "xaxis": {
          "backgroundcolor": "lightgrey",
          "gridcolor": "white",
          "showbackground": true,
          "title": {
           "text": "ASI1_MED"
          },
          "type": "linear",
          "zerolinecolor": "white"
         },
         "yaxis": {
          "backgroundcolor": "lightgrey",
          "gridcolor": "white",
          "showbackground": true,
          "title": {
           "text": "ASI2_EMP"
          },
          "type": "linear",
          "zerolinecolor": "white"
         },
         "zaxis": {
          "backgroundcolor": "lightgrey",
          "gridcolor": "white",
          "showbackground": true,
          "title": {
           "text": "ASI4_DR"
          },
          "type": "linear",
          "zerolinecolor": "white"
         }
        },
        "template": {
         "data": {
          "bar": [
           {
            "error_x": {
             "color": "#2a3f5f"
            },
            "error_y": {
             "color": "#2a3f5f"
            },
            "marker": {
             "line": {
              "color": "white",
              "width": 0.5
             },
             "pattern": {
              "fillmode": "overlay",
              "size": 10,
              "solidity": 0.2
             }
            },
            "type": "bar"
           }
          ],
          "barpolar": [
           {
            "marker": {
             "line": {
              "color": "white",
              "width": 0.5
             },
             "pattern": {
              "fillmode": "overlay",
              "size": 10,
              "solidity": 0.2
             }
            },
            "type": "barpolar"
           }
          ],
          "carpet": [
           {
            "aaxis": {
             "endlinecolor": "#2a3f5f",
             "gridcolor": "#C8D4E3",
             "linecolor": "#C8D4E3",
             "minorgridcolor": "#C8D4E3",
             "startlinecolor": "#2a3f5f"
            },
            "baxis": {
             "endlinecolor": "#2a3f5f",
             "gridcolor": "#C8D4E3",
             "linecolor": "#C8D4E3",
             "minorgridcolor": "#C8D4E3",
             "startlinecolor": "#2a3f5f"
            },
            "type": "carpet"
           }
          ],
          "choropleth": [
           {
            "colorbar": {
             "outlinewidth": 0,
             "ticks": ""
            },
            "type": "choropleth"
           }
          ],
          "contour": [
           {
            "colorbar": {
             "outlinewidth": 0,
             "ticks": ""
            },
            "colorscale": [
             [
              0,
              "#0d0887"
             ],
             [
              0.1111111111111111,
              "#46039f"
             ],
             [
              0.2222222222222222,
              "#7201a8"
             ],
             [
              0.3333333333333333,
              "#9c179e"
             ],
             [
              0.4444444444444444,
              "#bd3786"
             ],
             [
              0.5555555555555556,
              "#d8576b"
             ],
             [
              0.6666666666666666,
              "#ed7953"
             ],
             [
              0.7777777777777778,
              "#fb9f3a"
             ],
             [
              0.8888888888888888,
              "#fdca26"
             ],
             [
              1,
              "#f0f921"
             ]
            ],
            "type": "contour"
           }
          ],
          "contourcarpet": [
           {
            "colorbar": {
             "outlinewidth": 0,
             "ticks": ""
            },
            "type": "contourcarpet"
           }
          ],
          "heatmap": [
           {
            "colorbar": {
             "outlinewidth": 0,
             "ticks": ""
            },
            "colorscale": [
             [
              0,
              "#0d0887"
             ],
             [
              0.1111111111111111,
              "#46039f"
             ],
             [
              0.2222222222222222,
              "#7201a8"
             ],
             [
              0.3333333333333333,
              "#9c179e"
             ],
             [
              0.4444444444444444,
              "#bd3786"
             ],
             [
              0.5555555555555556,
              "#d8576b"
             ],
             [
              0.6666666666666666,
              "#ed7953"
             ],
             [
              0.7777777777777778,
              "#fb9f3a"
             ],
             [
              0.8888888888888888,
              "#fdca26"
             ],
             [
              1,
              "#f0f921"
             ]
            ],
            "type": "heatmap"
           }
          ],
          "heatmapgl": [
           {
            "colorbar": {
             "outlinewidth": 0,
             "ticks": ""
            },
            "colorscale": [
             [
              0,
              "#0d0887"
             ],
             [
              0.1111111111111111,
              "#46039f"
             ],
             [
              0.2222222222222222,
              "#7201a8"
             ],
             [
              0.3333333333333333,
              "#9c179e"
             ],
             [
              0.4444444444444444,
              "#bd3786"
             ],
             [
              0.5555555555555556,
              "#d8576b"
             ],
             [
              0.6666666666666666,
              "#ed7953"
             ],
             [
              0.7777777777777778,
              "#fb9f3a"
             ],
             [
              0.8888888888888888,
              "#fdca26"
             ],
             [
              1,
              "#f0f921"
             ]
            ],
            "type": "heatmapgl"
           }
          ],
          "histogram": [
           {
            "marker": {
             "pattern": {
              "fillmode": "overlay",
              "size": 10,
              "solidity": 0.2
             }
            },
            "type": "histogram"
           }
          ],
          "histogram2d": [
           {
            "colorbar": {
             "outlinewidth": 0,
             "ticks": ""
            },
            "colorscale": [
             [
              0,
              "#0d0887"
             ],
             [
              0.1111111111111111,
              "#46039f"
             ],
             [
              0.2222222222222222,
              "#7201a8"
             ],
             [
              0.3333333333333333,
              "#9c179e"
             ],
             [
              0.4444444444444444,
              "#bd3786"
             ],
             [
              0.5555555555555556,
              "#d8576b"
             ],
             [
              0.6666666666666666,
              "#ed7953"
             ],
             [
              0.7777777777777778,
              "#fb9f3a"
             ],
             [
              0.8888888888888888,
              "#fdca26"
             ],
             [
              1,
              "#f0f921"
             ]
            ],
            "type": "histogram2d"
           }
          ],
          "histogram2dcontour": [
           {
            "colorbar": {
             "outlinewidth": 0,
             "ticks": ""
            },
            "colorscale": [
             [
              0,
              "#0d0887"
             ],
             [
              0.1111111111111111,
              "#46039f"
             ],
             [
              0.2222222222222222,
              "#7201a8"
             ],
             [
              0.3333333333333333,
              "#9c179e"
             ],
             [
              0.4444444444444444,
              "#bd3786"
             ],
             [
              0.5555555555555556,
              "#d8576b"
             ],
             [
              0.6666666666666666,
              "#ed7953"
             ],
             [
              0.7777777777777778,
              "#fb9f3a"
             ],
             [
              0.8888888888888888,
              "#fdca26"
             ],
             [
              1,
              "#f0f921"
             ]
            ],
            "type": "histogram2dcontour"
           }
          ],
          "mesh3d": [
           {
            "colorbar": {
             "outlinewidth": 0,
             "ticks": ""
            },
            "type": "mesh3d"
           }
          ],
          "parcoords": [
           {
            "line": {
             "colorbar": {
              "outlinewidth": 0,
              "ticks": ""
             }
            },
            "type": "parcoords"
           }
          ],
          "pie": [
           {
            "automargin": true,
            "type": "pie"
           }
          ],
          "scatter": [
           {
            "fillpattern": {
             "fillmode": "overlay",
             "size": 10,
             "solidity": 0.2
            },
            "type": "scatter"
           }
          ],
          "scatter3d": [
           {
            "line": {
             "colorbar": {
              "outlinewidth": 0,
              "ticks": ""
             }
            },
            "marker": {
             "colorbar": {
              "outlinewidth": 0,
              "ticks": ""
             }
            },
            "type": "scatter3d"
           }
          ],
          "scattercarpet": [
           {
            "marker": {
             "colorbar": {
              "outlinewidth": 0,
              "ticks": ""
             }
            },
            "type": "scattercarpet"
           }
          ],
          "scattergeo": [
           {
            "marker": {
             "colorbar": {
              "outlinewidth": 0,
              "ticks": ""
             }
            },
            "type": "scattergeo"
           }
          ],
          "scattergl": [
           {
            "marker": {
             "colorbar": {
              "outlinewidth": 0,
              "ticks": ""
             }
            },
            "type": "scattergl"
           }
          ],
          "scattermapbox": [
           {
            "marker": {
             "colorbar": {
              "outlinewidth": 0,
              "ticks": ""
             }
            },
            "type": "scattermapbox"
           }
          ],
          "scatterpolar": [
           {
            "marker": {
             "colorbar": {
              "outlinewidth": 0,
              "ticks": ""
             }
            },
            "type": "scatterpolar"
           }
          ],
          "scatterpolargl": [
           {
            "marker": {
             "colorbar": {
              "outlinewidth": 0,
              "ticks": ""
             }
            },
            "type": "scatterpolargl"
           }
          ],
          "scatterternary": [
           {
            "marker": {
             "colorbar": {
              "outlinewidth": 0,
              "ticks": ""
             }
            },
            "type": "scatterternary"
           }
          ],
          "surface": [
           {
            "colorbar": {
             "outlinewidth": 0,
             "ticks": ""
            },
            "colorscale": [
             [
              0,
              "#0d0887"
             ],
             [
              0.1111111111111111,
              "#46039f"
             ],
             [
              0.2222222222222222,
              "#7201a8"
             ],
             [
              0.3333333333333333,
              "#9c179e"
             ],
             [
              0.4444444444444444,
              "#bd3786"
             ],
             [
              0.5555555555555556,
              "#d8576b"
             ],
             [
              0.6666666666666666,
              "#ed7953"
             ],
             [
              0.7777777777777778,
              "#fb9f3a"
             ],
             [
              0.8888888888888888,
              "#fdca26"
             ],
             [
              1,
              "#f0f921"
             ]
            ],
            "type": "surface"
           }
          ],
          "table": [
           {
            "cells": {
             "fill": {
              "color": "#EBF0F8"
             },
             "line": {
              "color": "white"
             }
            },
            "header": {
             "fill": {
              "color": "#C8D4E3"
             },
             "line": {
              "color": "white"
             }
            },
            "type": "table"
           }
          ]
         },
         "layout": {
          "annotationdefaults": {
           "arrowcolor": "#2a3f5f",
           "arrowhead": 0,
           "arrowwidth": 1
          },
          "autotypenumbers": "strict",
          "coloraxis": {
           "colorbar": {
            "outlinewidth": 0,
            "ticks": ""
           }
          },
          "colorscale": {
           "diverging": [
            [
             0,
             "#8e0152"
            ],
            [
             0.1,
             "#c51b7d"
            ],
            [
             0.2,
             "#de77ae"
            ],
            [
             0.3,
             "#f1b6da"
            ],
            [
             0.4,
             "#fde0ef"
            ],
            [
             0.5,
             "#f7f7f7"
            ],
            [
             0.6,
             "#e6f5d0"
            ],
            [
             0.7,
             "#b8e186"
            ],
            [
             0.8,
             "#7fbc41"
            ],
            [
             0.9,
             "#4d9221"
            ],
            [
             1,
             "#276419"
            ]
           ],
           "sequential": [
            [
             0,
             "#0d0887"
            ],
            [
             0.1111111111111111,
             "#46039f"
            ],
            [
             0.2222222222222222,
             "#7201a8"
            ],
            [
             0.3333333333333333,
             "#9c179e"
            ],
            [
             0.4444444444444444,
             "#bd3786"
            ],
            [
             0.5555555555555556,
             "#d8576b"
            ],
            [
             0.6666666666666666,
             "#ed7953"
            ],
            [
             0.7777777777777778,
             "#fb9f3a"
            ],
            [
             0.8888888888888888,
             "#fdca26"
            ],
            [
             1,
             "#f0f921"
            ]
           ],
           "sequentialminus": [
            [
             0,
             "#0d0887"
            ],
            [
             0.1111111111111111,
             "#46039f"
            ],
            [
             0.2222222222222222,
             "#7201a8"
            ],
            [
             0.3333333333333333,
             "#9c179e"
            ],
            [
             0.4444444444444444,
             "#bd3786"
            ],
            [
             0.5555555555555556,
             "#d8576b"
            ],
            [
             0.6666666666666666,
             "#ed7953"
            ],
            [
             0.7777777777777778,
             "#fb9f3a"
            ],
            [
             0.8888888888888888,
             "#fdca26"
            ],
            [
             1,
             "#f0f921"
            ]
           ]
          },
          "colorway": [
           "#636efa",
           "#EF553B",
           "#00cc96",
           "#ab63fa",
           "#FFA15A",
           "#19d3f3",
           "#FF6692",
           "#B6E880",
           "#FF97FF",
           "#FECB52"
          ],
          "font": {
           "color": "#2a3f5f"
          },
          "geo": {
           "bgcolor": "white",
           "lakecolor": "white",
           "landcolor": "white",
           "showlakes": true,
           "showland": true,
           "subunitcolor": "#C8D4E3"
          },
          "hoverlabel": {
           "align": "left"
          },
          "hovermode": "closest",
          "mapbox": {
           "style": "light"
          },
          "paper_bgcolor": "white",
          "plot_bgcolor": "white",
          "polar": {
           "angularaxis": {
            "gridcolor": "#EBF0F8",
            "linecolor": "#EBF0F8",
            "ticks": ""
           },
           "bgcolor": "white",
           "radialaxis": {
            "gridcolor": "#EBF0F8",
            "linecolor": "#EBF0F8",
            "ticks": ""
           }
          },
          "scene": {
           "xaxis": {
            "backgroundcolor": "white",
            "gridcolor": "#DFE8F3",
            "gridwidth": 2,
            "linecolor": "#EBF0F8",
            "showbackground": true,
            "ticks": "",
            "zerolinecolor": "#EBF0F8"
           },
           "yaxis": {
            "backgroundcolor": "white",
            "gridcolor": "#DFE8F3",
            "gridwidth": 2,
            "linecolor": "#EBF0F8",
            "showbackground": true,
            "ticks": "",
            "zerolinecolor": "#EBF0F8"
           },
           "zaxis": {
            "backgroundcolor": "white",
            "gridcolor": "#DFE8F3",
            "gridwidth": 2,
            "linecolor": "#EBF0F8",
            "showbackground": true,
            "ticks": "",
            "zerolinecolor": "#EBF0F8"
           }
          },
          "shapedefaults": {
           "line": {
            "color": "#2a3f5f"
           }
          },
          "ternary": {
           "aaxis": {
            "gridcolor": "#DFE8F3",
            "linecolor": "#A2B1C6",
            "ticks": ""
           },
           "baxis": {
            "gridcolor": "#DFE8F3",
            "linecolor": "#A2B1C6",
            "ticks": ""
           },
           "bgcolor": "white",
           "caxis": {
            "gridcolor": "#DFE8F3",
            "linecolor": "#A2B1C6",
            "ticks": ""
           }
          },
          "title": {
           "x": 0.05
          },
          "xaxis": {
           "automargin": true,
           "gridcolor": "#EBF0F8",
           "linecolor": "#EBF0F8",
           "ticks": "",
           "title": {
            "standoff": 15
           },
           "zerolinecolor": "#EBF0F8",
           "zerolinewidth": 2
          },
          "yaxis": {
           "automargin": true,
           "gridcolor": "#EBF0F8",
           "linecolor": "#EBF0F8",
           "ticks": "",
           "title": {
            "standoff": 15
           },
           "zerolinecolor": "#EBF0F8",
           "zerolinewidth": 2
          }
         }
        },
        "title": {
         "text": "3D Scatter Plot"
        },
        "width": 1100
       }
      },
      "image/png": "[encoded data removed]",
      "text/html": [
       "<div>                            <div id=\"6c60c464-a9b6-4692-a7b9-9506eeb02f07\" class=\"plotly-graph-div\" style=\"height:800px; width:1100px;\"></div>            <script type=\"text/javascript\">                require([\"plotly\"], function(Plotly) {                    window.PLOTLYENV=window.PLOTLYENV || {};                                    if (document.getElementById(\"6c60c464-a9b6-4692-a7b9-9506eeb02f07\")) {                    Plotly.newPlot(                        \"6c60c464-a9b6-4692-a7b9-9506eeb02f07\",                        [{\"hovertemplate\":\"is_outlier=False\\u003cbr\\u003easi1_med=%{x}\\u003cbr\\u003easi2_emp=%{y}\\u003cbr\\u003easi4_dr=%{z}\\u003cextra\\u003e\\u003c\\u002fextra\\u003e\",\"legendgroup\":\"False\",\"marker\":{\"color\":\"#636efa\",\"symbol\":\"circle\",\"line\":{\"color\":\"DarkSlateGrey\",\"width\":0.5},\"opacity\":0.8,\"size\":5},\"mode\":\"markers\",\"name\":\"False\",\"scene\":\"scene\",\"showlegend\":true,\"x\":[0.19,0.44,0.5,0.0,0.0,0.52,0.0,0.0,0.16,0.0,0.7,0.0,0.6,0.83,0.0,0.4,0.0,0.6,0.28,0.6,0.54,0.0,0.36,0.36,0.39,0.17,0.18,0.37,0.53,0.0,0.2,0.3,0.57,0.3,0.0,0.2,0.1,0.5,0.3,0.56,0.37,0.0,0.0,0.3,0.0,0.0,0.2,0.58,0.24,0.17,0.59,0.0,0.0,0.91,0.0,0.6,0.0,0.0,0.0,0.25,0.58,0.83,0.0,0.58,0.56,0.0,0.0,0.0,0.0,0.36,0.34,0.3,0.53,0.0,0.2,0.0,0.42,0.4,0.6,0.6,0.0,0.75,0.0,0.0,0.1,0.0,0.69,0.0,0.29,0.97,0.0,0.7,0.0,0.2,0.0,0.63,0.0,0.27,0.17,0.0,0.0,0.03,0.0,0.0,0.6,0.9,0.0,0.0,0.0,0.0,0.41,0.7,0.0,0.0,0.41,0.0,0.39,0.17,0.41,0.0,0.25,0.59,0.56,0.0,0.0,0.39,0.37,0.39,0.6,0.3,0.0,0.35,0.0,0.0,0.4,0.0,0.0,0.2,0.0,0.55,0.02,0.0,0.63,0.0,0.6,0.2,0.33,0.0,0.6,0.5,0.31,0.36,0.31,0.0,0.26,0.42,0.0,0.86,0.39,0.4,0.4,0.0,0.0,0.17,0.53,0.0,0.0,0.0,0.42,0.0,0.25,0.44,0.0,0.59,0.91,0.63,0.0,0.0,0.0,0.3,0.0,0.0,0.36,0.29,0.0,0.18,0.0,0.26,0.0,0.58,0.0,0.6,0.08,0.6,0.17,0.0,0.0,0.6,0.48,0.58,0.0,0.0,0.4,0.0,0.0,0.51,0.6,0.42,0.0,0.56,0.0,0.0,0.0,0.0,0.0,0.89,0.34,0.0,0.31,0.25,0.0,0.08,0.2,0.0,0.0,0.4,0.0,0.0,0.35,0.0,0.34,0.46,0.0,0.7,0.17,0.06,0.0,0.52,0.33,0.0,0.42,0.0,0.0,0.74,0.0,0.41,0.2,0.0,0.53,0.2,0.3,0.19,0.99,0.0,0.4,0.0,0.0,0.39,0.29,0.0,0.0,0.0,0.02,0.0,0.33,0.1,0.0,0.0,0.0,0.4],\"y\":[0.7,0.23,1.0,0.8,0.75,0.5,0.24,1.0,1.0,0.96,0.19,0.5,1.0,0.75,1.0,1.0,1.0,0.25,1.0,1.0,1.0,1.0,0.69,1.0,1.0,0.5,0.5,0.5,0.9,1.0,1.0,0.25,1.0,1.0,1.0,0.7,1.0,1.0,1.0,1.0,0.5,0.74,0.71,1.0,0.75,1.0,1.0,0.19,0.25,0.7,1.0,1.0,1.0,0.75,1.0,1.0,1.0,1.0,1.0,0.56,0.19,0.69,0.24,1.0,0.8,0.5,0.69,0.8,0.5,1.0,1.0,0.5,1.0,0.96,0.71,1.0,1.0,1.0,0.7,1.0,0.53,1.0,0.83,1.0,0.52,0.87,0.74,0.38,1.0,0.75,0.75,0.5,0.73,0.44,1.0,0.44,1.0,1.0,0.89,0.33,1.0,0.87,0.94,1.0,1.0,0.5,0.75,0.31,1.0,0.69,0.75,0.2,0.86,1.0,1.0,0.36,1.0,1.0,0.74,0.76,0.75,1.0,1.0,1.0,0.81,0.75,1.0,1.0,1.0,0.92,0.81,1.0,0.53,0.31,0.2,0.75,1.0,0.7,0.7,0.55,0.75,0.7,0.94,0.29,0.27,1.0,0.5,0.5,0.69,0.81,1.0,1.0,1.0,1.0,1.0,0.5,1.0,1.0,1.0,0.2,1.0,1.0,0.2,1.0,1.0,1.0,0.81,0.24,0.75,0.85,0.91,0.75,1.0,0.84,1.0,1.0,0.88,0.75,0.26,0.18,0.24,0.75,1.0,1.0,1.0,1.0,1.0,0.75,1.0,0.56,0.18,1.0,1.0,0.5,0.26,1.0,1.0,0.75,1.0,0.69,0.7,1.0,0.76,0.73,1.0,1.0,0.11,1.0,0.29,0.18,0.34,1.0,0.5,1.0,0.5,1.0,0.91,0.5,1.0,0.75,1.0,1.0,1.0,0.98,0.5,0.56,0.5,1.0,1.0,0.5,1.0,0.69,0.75,0.1,1.0,1.0,1.0,1.0,1.0,1.0,0.75,0.68,1.0,0.5,0.75,0.8,0.75,0.784136690647482,1.0,0.7,0.0,1.0,1.0,1.0,0.77,0.3,1.0,1.0,1.0,1.0,0.9,0.5,1.0,1.0,0.784136690647482,0.59,1.0,1.0,1.0,1.0],\"z\":[0.3,0.27,0.3,0.26,0.23,0.3,0.28,0.3,0.29,0.34,0.3,0.3,0.3,0.24,0.33,0.3,0.31,0.3,0.23,0.3,0.3,0.33,0.3,0.4,0.27,0.3,0.3,0.3,0.3,0.27,0.3,0.3,0.27,0.39,0.32,0.3,0.29,0.3,0.3,0.3,0.32,0.31,0.27,0.3,0.27,0.24,0.21,0.32,0.4,0.3,0.32,0.23,0.29,0.24,0.26,0.3,0.22,0.33,0.3,0.33,0.3,0.3,0.31,0.3,0.26,0.28,0.27,0.3,0.3,0.22,0.3,0.3,0.3,0.3,0.3,0.23,0.3,0.3,0.3,0.3,0.2,0.3,0.26,0.28,0.28,0.28,0.22,0.28,0.3,0.28,0.27,0.21,0.3,0.3,0.31,0.32,0.18,0.23,0.28,0.27,0.26,0.21,0.25,0.3,0.32,0.3,0.26,0.23,0.31,0.21,0.23,0.3,0.18,0.25,0.24,0.21,0.28,0.3,0.34,0.27,0.25,0.3,0.3,0.36,0.28,0.26,0.33,0.26,0.35,0.3,0.24,0.24,0.27,0.28,0.3,0.29,0.38,0.3,0.3,0.34,0.23,0.3,0.24,0.17,0.3,0.22,0.27,0.23,0.3,0.29,0.33,0.3,0.29,0.4,0.25,0.3,0.38,0.32,0.21,0.24,0.25,0.27,0.29,0.31,0.3,0.36,0.25,0.25,0.18,0.29,0.27,0.29,0.23,0.26,0.37,0.3,0.33,0.3,0.26,0.3,0.29,0.2,0.21,0.27,0.33,0.23,0.23,0.26,0.29,0.3,0.32,0.3,0.3,0.3,0.31,0.23,0.19,0.38,0.24,0.3,0.27,0.33,0.32,0.37,0.26,0.3,0.3,0.3,0.3,0.3,0.3,0.16,0.23,0.3,0.32,0.26,0.25,0.26,0.3,0.2,0.21,0.3,0.21,0.31,0.24,0.3,0.3,0.14,0.25,0.3,0.24,0.3,0.15,0.3,0.3,0.22,0.26,0.18,0.16,0.3,0.26,0.32,0.3,0.3,0.3,0.22,0.3,0.31,0.3,0.3,0.3,0.23,0.26,0.23,0.3,0.2,0.15,0.32,0.24,0.35,0.3,0.3,0.29,0.31,0.23,0.25,0.25,0.21,0.29,0.3],\"type\":\"scatter3d\"},{\"hovertemplate\":\"is_outlier=True\\u003cbr\\u003easi1_med=%{x}\\u003cbr\\u003easi2_emp=%{y}\\u003cbr\\u003easi4_dr=%{z}\\u003cextra\\u003e\\u003c\\u002fextra\\u003e\",\"legendgroup\":\"True\",\"marker\":{\"color\":\"#EF553B\",\"symbol\":\"circle\",\"line\":{\"color\":\"DarkSlateGrey\",\"width\":0.5},\"opacity\":0.8,\"size\":5},\"mode\":\"markers\",\"name\":\"True\",\"scene\":\"scene\",\"showlegend\":true,\"x\":[0.0,0.0,0.0,0.97,0.83,0.0,1.0,0.0,0.0,0.0],\"y\":[1.0,1.0,0.0,0.5,1.0,1.0,1.0,1.0,0.85,1.0],\"z\":[0.42,0.66,0.2,0.19,0.41,0.12,0.38,0.11,0.12,0.09],\"type\":\"scatter3d\"}],                        {\"template\":{\"data\":{\"barpolar\":[{\"marker\":{\"line\":{\"color\":\"white\",\"width\":0.5},\"pattern\":{\"fillmode\":\"overlay\",\"size\":10,\"solidity\":0.2}},\"type\":\"barpolar\"}],\"bar\":[{\"error_x\":{\"color\":\"#2a3f5f\"},\"error_y\":{\"color\":\"#2a3f5f\"},\"marker\":{\"line\":{\"color\":\"white\",\"width\":0.5},\"pattern\":{\"fillmode\":\"overlay\",\"size\":10,\"solidity\":0.2}},\"type\":\"bar\"}],\"carpet\":[{\"aaxis\":{\"endlinecolor\":\"#2a3f5f\",\"gridcolor\":\"#C8D4E3\",\"linecolor\":\"#C8D4E3\",\"minorgridcolor\":\"#C8D4E3\",\"startlinecolor\":\"#2a3f5f\"},\"baxis\":{\"endlinecolor\":\"#2a3f5f\",\"gridcolor\":\"#C8D4E3\",\"linecolor\":\"#C8D4E3\",\"minorgridcolor\":\"#C8D4E3\",\"startlinecolor\":\"#2a3f5f\"},\"type\":\"carpet\"}],\"choropleth\":[{\"colorbar\":{\"outlinewidth\":0,\"ticks\":\"\"},\"type\":\"choropleth\"}],\"contourcarpet\":[{\"colorbar\":{\"outlinewidth\":0,\"ticks\":\"\"},\"type\":\"contourcarpet\"}],\"contour\":[{\"colorbar\":{\"outlinewidth\":0,\"ticks\":\"\"},\"colorscale\":[[0.0,\"#0d0887\"],[0.1111111111111111,\"#46039f\"],[0.2222222222222222,\"#7201a8\"],[0.3333333333333333,\"#9c179e\"],[0.4444444444444444,\"#bd3786\"],[0.5555555555555556,\"#d8576b\"],[0.6666666666666666,\"#ed7953\"],[0.7777777777777778,\"#fb9f3a\"],[0.8888888888888888,\"#fdca26\"],[1.0,\"#f0f921\"]],\"type\":\"contour\"}],\"heatmapgl\":[{\"colorbar\":{\"outlinewidth\":0,\"ticks\":\"\"},\"colorscale\":[[0.0,\"#0d0887\"],[0.1111111111111111,\"#46039f\"],[0.2222222222222222,\"#7201a8\"],[0.3333333333333333,\"#9c179e\"],[0.4444444444444444,\"#bd3786\"],[0.5555555555555556,\"#d8576b\"],[0.6666666666666666,\"#ed7953\"],[0.7777777777777778,\"#fb9f3a\"],[0.8888888888888888,\"#fdca26\"],[1.0,\"#f0f921\"]],\"type\":\"heatmapgl\"}],\"heatmap\":[{\"colorbar\":{\"outlinewidth\":0,\"ticks\":\"\"},\"colorscale\":[[0.0,\"#0d0887\"],[0.1111111111111111,\"#46039f\"],[0.2222222222222222,\"#7201a8\"],[0.3333333333333333,\"#9c179e\"],[0.4444444444444444,\"#bd3786\"],[0.5555555555555556,\"#d8576b\"],[0.6666666666666666,\"#ed7953\"],[0.7777777777777778,\"#fb9f3a\"],[0.8888888888888888,\"#fdca26\"],[1.0,\"#f0f921\"]],\"type\":\"heatmap\"}],\"histogram2dcontour\":[{\"colorbar\":{\"outlinewidth\":0,\"ticks\":\"\"},\"colorscale\":[[0.0,\"#0d0887\"],[0.1111111111111111,\"#46039f\"],[0.2222222222222222,\"#7201a8\"],[0.3333333333333333,\"#9c179e\"],[0.4444444444444444,\"#bd3786\"],[0.5555555555555556,\"#d8576b\"],[0.6666666666666666,\"#ed7953\"],[0.7777777777777778,\"#fb9f3a\"],[0.8888888888888888,\"#fdca26\"],[1.0,\"#f0f921\"]],\"type\":\"histogram2dcontour\"}],\"histogram2d\":[{\"colorbar\":{\"outlinewidth\":0,\"ticks\":\"\"},\"colorscale\":[[0.0,\"#0d0887\"],[0.1111111111111111,\"#46039f\"],[0.2222222222222222,\"#7201a8\"],[0.3333333333333333,\"#9c179e\"],[0.4444444444444444,\"#bd3786\"],[0.5555555555555556,\"#d8576b\"],[0.6666666666666666,\"#ed7953\"],[0.7777777777777778,\"#fb9f3a\"],[0.8888888888888888,\"#fdca26\"],[1.0,\"#f0f921\"]],\"type\":\"histogram2d\"}],\"histogram\":[{\"marker\":{\"pattern\":{\"fillmode\":\"overlay\",\"size\":10,\"solidity\":0.2}},\"type\":\"histogram\"}],\"mesh3d\":[{\"colorbar\":{\"outlinewidth\":0,\"ticks\":\"\"},\"type\":\"mesh3d\"}],\"parcoords\":[{\"line\":{\"colorbar\":{\"outlinewidth\":0,\"ticks\":\"\"}},\"type\":\"parcoords\"}],\"pie\":[{\"automargin\":true,\"type\":\"pie\"}],\"scatter3d\":[{\"line\":{\"colorbar\":{\"outlinewidth\":0,\"ticks\":\"\"}},\"marker\":{\"colorbar\":{\"outlinewidth\":0,\"ticks\":\"\"}},\"type\":\"scatter3d\"}],\"scattercarpet\":[{\"marker\":{\"colorbar\":{\"outlinewidth\":0,\"ticks\":\"\"}},\"type\":\"scattercarpet\"}],\"scattergeo\":[{\"marker\":{\"colorbar\":{\"outlinewidth\":0,\"ticks\":\"\"}},\"type\":\"scattergeo\"}],\"scattergl\":[{\"marker\":{\"colorbar\":{\"outlinewidth\":0,\"ticks\":\"\"}},\"type\":\"scattergl\"}],\"scattermapbox\":[{\"marker\":{\"colorbar\":{\"outlinewidth\":0,\"ticks\":\"\"}},\"type\":\"scattermapbox\"}],\"scatterpolargl\":[{\"marker\":{\"colorbar\":{\"outlinewidth\":0,\"ticks\":\"\"}},\"type\":\"scatterpolargl\"}],\"scatterpolar\":[{\"marker\":{\"colorbar\":{\"outlinewidth\":0,\"ticks\":\"\"}},\"type\":\"scatterpolar\"}],\"scatter\":[{\"fillpattern\":{\"fillmode\":\"overlay\",\"size\":10,\"solidity\":0.2},\"type\":\"scatter\"}],\"scatterternary\":[{\"marker\":{\"colorbar\":{\"outlinewidth\":0,\"ticks\":\"\"}},\"type\":\"scatterternary\"}],\"surface\":[{\"colorbar\":{\"outlinewidth\":0,\"ticks\":\"\"},\"colorscale\":[[0.0,\"#0d0887\"],[0.1111111111111111,\"#46039f\"],[0.2222222222222222,\"#7201a8\"],[0.3333333333333333,\"#9c179e\"],[0.4444444444444444,\"#bd3786\"],[0.5555555555555556,\"#d8576b\"],[0.6666666666666666,\"#ed7953\"],[0.7777777777777778,\"#fb9f3a\"],[0.8888888888888888,\"#fdca26\"],[1.0,\"#f0f921\"]],\"type\":\"surface\"}],\"table\":[{\"cells\":{\"fill\":{\"color\":\"#EBF0F8\"},\"line\":{\"color\":\"white\"}},\"header\":{\"fill\":{\"color\":\"#C8D4E3\"},\"line\":{\"color\":\"white\"}},\"type\":\"table\"}]},\"layout\":{\"annotationdefaults\":{\"arrowcolor\":\"#2a3f5f\",\"arrowhead\":0,\"arrowwidth\":1},\"autotypenumbers\":\"strict\",\"coloraxis\":{\"colorbar\":{\"outlinewidth\":0,\"ticks\":\"\"}},\"colorscale\":{\"diverging\":[[0,\"#8e0152\"],[0.1,\"#c51b7d\"],[0.2,\"#de77ae\"],[0.3,\"#f1b6da\"],[0.4,\"#fde0ef\"],[0.5,\"#f7f7f7\"],[0.6,\"#e6f5d0\"],[0.7,\"#b8e186\"],[0.8,\"#7fbc41\"],[0.9,\"#4d9221\"],[1,\"#276419\"]],\"sequential\":[[0.0,\"#0d0887\"],[0.1111111111111111,\"#46039f\"],[0.2222222222222222,\"#7201a8\"],[0.3333333333333333,\"#9c179e\"],[0.4444444444444444,\"#bd3786\"],[0.5555555555555556,\"#d8576b\"],[0.6666666666666666,\"#ed7953\"],[0.7777777777777778,\"#fb9f3a\"],[0.8888888888888888,\"#fdca26\"],[1.0,\"#f0f921\"]],\"sequentialminus\":[[0.0,\"#0d0887\"],[0.1111111111111111,\"#46039f\"],[0.2222222222222222,\"#7201a8\"],[0.3333333333333333,\"#9c179e\"],[0.4444444444444444,\"#bd3786\"],[0.5555555555555556,\"#d8576b\"],[0.6666666666666666,\"#ed7953\"],[0.7777777777777778,\"#fb9f3a\"],[0.8888888888888888,\"#fdca26\"],[1.0,\"#f0f921\"]]},\"colorway\":[\"#636efa\",\"#EF553B\",\"#00cc96\",\"#ab63fa\",\"#FFA15A\",\"#19d3f3\",\"#FF6692\",\"#B6E880\",\"#FF97FF\",\"#FECB52\"],\"font\":{\"color\":\"#2a3f5f\"},\"geo\":{\"bgcolor\":\"white\",\"lakecolor\":\"white\",\"landcolor\":\"white\",\"showlakes\":true,\"showland\":true,\"subunitcolor\":\"#C8D4E3\"},\"hoverlabel\":{\"align\":\"left\"},\"hovermode\":\"closest\",\"mapbox\":{\"style\":\"light\"},\"paper_bgcolor\":\"white\",\"plot_bgcolor\":\"white\",\"polar\":{\"angularaxis\":{\"gridcolor\":\"#EBF0F8\",\"linecolor\":\"#EBF0F8\",\"ticks\":\"\"},\"bgcolor\":\"white\",\"radialaxis\":{\"gridcolor\":\"#EBF0F8\",\"linecolor\":\"#EBF0F8\",\"ticks\":\"\"}},\"scene\":{\"xaxis\":{\"backgroundcolor\":\"white\",\"gridcolor\":\"#DFE8F3\",\"gridwidth\":2,\"linecolor\":\"#EBF0F8\",\"showbackground\":true,\"ticks\":\"\",\"zerolinecolor\":\"#EBF0F8\"},\"yaxis\":{\"backgroundcolor\":\"white\",\"gridcolor\":\"#DFE8F3\",\"gridwidth\":2,\"linecolor\":\"#EBF0F8\",\"showbackground\":true,\"ticks\":\"\",\"zerolinecolor\":\"#EBF0F8\"},\"zaxis\":{\"backgroundcolor\":\"white\",\"gridcolor\":\"#DFE8F3\",\"gridwidth\":2,\"linecolor\":\"#EBF0F8\",\"showbackground\":true,\"ticks\":\"\",\"zerolinecolor\":\"#EBF0F8\"}},\"shapedefaults\":{\"line\":{\"color\":\"#2a3f5f\"}},\"ternary\":{\"aaxis\":{\"gridcolor\":\"#DFE8F3\",\"linecolor\":\"#A2B1C6\",\"ticks\":\"\"},\"baxis\":{\"gridcolor\":\"#DFE8F3\",\"linecolor\":\"#A2B1C6\",\"ticks\":\"\"},\"bgcolor\":\"white\",\"caxis\":{\"gridcolor\":\"#DFE8F3\",\"linecolor\":\"#A2B1C6\",\"ticks\":\"\"}},\"title\":{\"x\":0.05},\"xaxis\":{\"automargin\":true,\"gridcolor\":\"#EBF0F8\",\"linecolor\":\"#EBF0F8\",\"ticks\":\"\",\"title\":{\"standoff\":15},\"zerolinecolor\":\"#EBF0F8\",\"zerolinewidth\":2},\"yaxis\":{\"automargin\":true,\"gridcolor\":\"#EBF0F8\",\"linecolor\":\"#EBF0F8\",\"ticks\":\"\",\"title\":{\"standoff\":15},\"zerolinecolor\":\"#EBF0F8\",\"zerolinewidth\":2}}},\"scene\":{\"domain\":{\"x\":[0.0,1.0],\"y\":[0.0,1.0]},\"xaxis\":{\"title\":{\"text\":\"ASI1_MED\"},\"backgroundcolor\":\"lightgrey\",\"gridcolor\":\"white\",\"showbackground\":true,\"zerolinecolor\":\"white\"},\"yaxis\":{\"title\":{\"text\":\"ASI2_EMP\"},\"backgroundcolor\":\"lightgrey\",\"gridcolor\":\"white\",\"showbackground\":true,\"zerolinecolor\":\"white\"},\"zaxis\":{\"title\":{\"text\":\"ASI4_DR\"},\"backgroundcolor\":\"lightgrey\",\"gridcolor\":\"white\",\"showbackground\":true,\"zerolinecolor\":\"white\"}},\"legend\":{\"title\":{\"text\":\"is_outlier\"},\"tracegroupgap\":0},\"margin\":{\"t\":50,\"l\":0,\"r\":0,\"b\":0},\"title\":{\"text\":\"3D Scatter Plot\"},\"height\":800,\"width\":1100},                        {\"responsive\": true}                    ).then(function(){\n",
       "                            \n",
       "var gd = document.getElementById('6c60c464-a9b6-4692-a7b9-9506eeb02f07');\n",
       "var x = new MutationObserver(function (mutations, observer) {{\n",
       "        var display = window.getComputedStyle(gd).display;\n",
       "        if (!display || display === 'none') {{\n",
       "            console.log([gd, 'removed!']);\n",
       "            Plotly.purge(gd);\n",
       "            observer.disconnect();\n",
       "        }}\n",
       "}});\n",
       "\n",
       "// Listen for the removal of the full notebook cells\n",
       "var notebookContainer = gd.closest('#notebook-container');\n",
       "if (notebookContainer) {{\n",
       "    x.observe(notebookContainer, {childList: true});\n",
       "}}\n",
       "\n",
       "// Listen for the clearing of the current output cell\n",
       "var outputEl = gd.closest('.output');\n",
       "if (outputEl) {{\n",
       "    x.observe(outputEl, {childList: true});\n",
       "}}\n",
       "\n",
       "                        })                };                });            </script>        </div>"
      ]
     },
     "metadata": {},
     "output_type": "display_data"
    }
   ],
   "source": [
    "# asi1_med -- медицинский статус\n",
    "# asi2_emp -- социальный статус\n",
    "# asi4_dr -- употребление наркотиков\n",
    "fig = px.scatter_3d(df, x='asi1_med', y='asi2_emp', z='asi4_dr', color='is_outlier')\n",
    "\n",
    "fig.update_traces(marker=dict(size=5, \n",
    "                              opacity=0.8, \n",
    "                              line=dict(width=0.5, color='DarkSlateGrey')),\n",
    "                  selector=dict(mode='markers'))\n",
    "\n",
    "fig.update_layout(title='3D Scatter Plot',\n",
    "                  scene=dict(\n",
    "                      xaxis_title='ASI1_MED',\n",
    "                      yaxis_title='ASI2_EMP',\n",
    "                      zaxis_title='ASI4_DR',\n",
    "                      xaxis=dict(backgroundcolor=\"lightgrey\",\n",
    "                                 gridcolor=\"white\",\n",
    "                                 showbackground=True,\n",
    "                                 zerolinecolor=\"white\",),\n",
    "                      yaxis=dict(backgroundcolor=\"lightgrey\",\n",
    "                                 gridcolor=\"white\",\n",
    "                                 showbackground=True,\n",
    "                                 zerolinecolor=\"white\"),\n",
    "                      zaxis=dict(backgroundcolor=\"lightgrey\",\n",
    "                                 gridcolor=\"white\",\n",
    "                                 showbackground=True,\n",
    "                                 zerolinecolor=\"white\")),\n",
    "                  margin=dict(l=0, r=0, b=0, t=50),\n",
    "                  template='plotly_white',\n",
    "                  height=800,\n",
    "                  width=1100)\n",
    "\n",
    "fig.show()"
   ]
  }
 ],
 "metadata": {
  "kernelspec": {
   "display_name": "Python 3 (ipykernel)",
   "language": "python",
   "name": "python3"
  },
  "language_info": {
   "codemirror_mode": {
    "name": "ipython",
    "version": 3
   },
   "file_extension": ".py",
   "mimetype": "text/x-python",
   "name": "python",
   "nbconvert_exporter": "python",
   "pygments_lexer": "ipython3",
   "version": "3.8.18"
  }
 },
 "nbformat": 4,
 "nbformat_minor": 5
}
