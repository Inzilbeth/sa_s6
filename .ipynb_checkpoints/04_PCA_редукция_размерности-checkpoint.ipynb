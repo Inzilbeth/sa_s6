{
 "cells": [
  {
   "cell_type": "markdown",
   "id": "b6495b1b-2ffe-4430-a2aa-d3cde08d4dad",
   "metadata": {},
   "source": [
    "# Задание 4\n",
    "\n",
    "## Описание\n",
    "\n",
    "Провести PCA на data_big.csv. Интерпретировать главные компоненты на основе факторных весов."
   ]
  },
  {
   "cell_type": "markdown",
   "id": "1353c3f5-cf5a-4264-8d32-ee29fb88d7c1",
   "metadata": {},
   "source": [
    "This code is a Python script designed to perform Principal Component Analysis (PCA) on given datasets and visualize the relationships between the principal components. Here's a breakdown of what each part of the code does:\n",
    "\n",
    "    principal_component_analysis Function:\n",
    "        Input: A pandas DataFrame (data), the number of principal components to retain (n_components), and a list of columns to drop from the dataset (drop_columns).\n",
    "        Process:\n",
    "            Data Cleaning: The specified columns are dropped, and any rows with missing values (NaN) are also removed.\n",
    "            Standardization: The data is scaled using StandardScaler to have a mean of 0 and a standard deviation of 1.\n",
    "            PCA: The PCA model is fitted to the scaled data, retaining the specified number of components.\n",
    "            Variance Contribution: The percentage of variance explained by each principal component is calculated.\n",
    "            Loadings: The components (also known as loadings) indicate how much each original feature contributes to each principal component.\n",
    "            Scores: These are the transformed data points represented in the principal component space.\n",
    "        Output: Returns the variance contribution, loadings (components), and scores (transformed data points).\n",
    "\n",
    "    compare_component_scores Function:\n",
    "        Input: The scores (principal component scores), and indices of two principal components to compare.\n",
    "        Process: Uses Plotly Express to create a scatter plot visualizing the relationship between the two specified principal components.\n",
    "        Output: Displays the scatter plot.\n",
    "\n",
    "    Application to Dataset:\n",
    "        The script reads a dataset from 'data_big.csv' and performs PCA on two subsets of this dataset, presumably representing data from different days (first_day and second_day).\n",
    "        It analyzes the first and second subsets using the principal_component_analysis function and captures the variance contribution, components, and scores.\n",
    "        For each day, it filters and displays the components based on their absolute values being greater than specified thresholds (e.g., > 0.2, > 0.25).\n",
    "        The relationships between different pairs of principal components are visualized using the compare_component_scores function for both subsets of the data.\n",
    "\n",
    "In summary, this code is used to conduct PCA on two subsets of a larger dataset, examine the importance of each original feature in the principal components, and visualize the relationships between the principal components to understand the structure of the data better."
   ]
  },
  {
   "cell_type": "markdown",
   "id": "a42efe79-6ee5-4537-96f5-04e17863de1e",
   "metadata": {},
   "source": [
    "## Подготовка"
   ]
  },
  {
   "cell_type": "code",
   "execution_count": 4,
   "id": "987a9105-b4f1-438c-a8ae-4c87e86aca8a",
   "metadata": {},
   "outputs": [],
   "source": [
    "import numpy as np\n",
    "import pandas as pd\n",
    "import plotly.express as px\n",
    "from sklearn.decomposition import PCA\n",
    "from sklearn.preprocessing import StandardScaler"
   ]
  },
  {
   "cell_type": "code",
   "execution_count": 5,
   "id": "c85ec1f0-230f-4f7d-8b3a-6c614a341242",
   "metadata": {},
   "outputs": [],
   "source": [
    "data = pd.read_csv('data_big.csv')"
   ]
  },
  {
   "cell_type": "markdown",
   "id": "e6268618-0021-41ab-83c1-9ae6ae102225",
   "metadata": {},
   "source": [
    "## Решение"
   ]
  },
  {
   "cell_type": "code",
   "execution_count": 39,
   "id": "48fcbb28-7bdf-4200-b283-d6c290f24227",
   "metadata": {},
   "outputs": [],
   "source": [
    "def principal_component_analysis(\n",
    "        data,\n",
    "        n_components=3,\n",
    "        drop_columns=['combined1.1', 'combined2.1'],\n",
    "):\n",
    "    data = data.copy()\n",
    "\n",
    "    # X <- na.omit(data[,c(3:20,23:31)])\n",
    "    data.drop(columns=drop_columns, inplace=True)\n",
    "    data.dropna(inplace=True)\n",
    "\n",
    "    # pc <- princomp(scale(X))\n",
    "    scaler = StandardScaler()\n",
    "    scaled_data = scaler.fit_transform(data)\n",
    "\n",
    "    model = PCA(n_components=n_components)\n",
    "    model.fit(scaled_data)\n",
    "\n",
    "    # (pcsdev/sum(pcsdev)*100)[seq(10)]\n",
    "    # Вместо стандартного отклонения есть дисперсия (sigma^2 = D)\n",
    "    variance_contribution = model.explained_variance_ratio_ * 100\n",
    "\n",
    "    # pc$loadings[,seq(3)]\n",
    "    components = pd.DataFrame(model.components_.T, index=data.columns)\n",
    "\n",
    "    # pc$scores\n",
    "    scores = model.transform(scaled_data)\n",
    "\n",
    "    return variance_contribution, components, scores\n",
    "     \n",
    "\n",
    "def compare_component_scores(scores: np.ndarray, first_component_index: int, second_component_index: int) -> None:\n",
    "    fig = px.scatter(\n",
    "        scores,\n",
    "        x=first_component_index,\n",
    "        y=second_component_index,\n",
    "        hover_data={'index': list(range(scores.shape[0]))},\n",
    "        color=first_component_index,  # Color points by the first component score for differentiation\n",
    "        symbol=second_component_index,  # Different marker symbols for the second component\n",
    "    )\n",
    "    \n",
    "    fig.update_traces(marker=dict(size=10, line=dict(width=2, color='DarkSlateGrey')),  # Update marker style\n",
    "                      selector=dict(mode='markers'))  # Apply only to marker elements\n",
    "    \n",
    "    fig.update_layout(\n",
    "        title=f'Relationship Between Component {first_component_index} and Component {second_component_index}',\n",
    "        title_x=0.5,  # Center the title\n",
    "        paper_bgcolor='LightSteelBlue',  # Background color\n",
    "        plot_bgcolor='Azure',  # Plot area background color\n",
    "        hovermode='closest'  # Update hover mode\n",
    "    )\n",
    "    \n",
    "    fig.update_xaxes(title=f'Component {first_component_index}', gridcolor='LightGray')  # Update x-axis properties\n",
    "    fig.update_yaxes(title=f'Component {second_component_index}', gridcolor='LightGray')  # Update y-axis properties\n",
    "\n",
    "    fig.update_layout(showlegend=False)\n",
    "    \n",
    "    fig.show()"
   ]
  },
  {
   "cell_type": "code",
   "execution_count": 7,
   "id": "e7c09009-9ddd-4132-92a8-7b41661475ae",
   "metadata": {},
   "outputs": [],
   "source": [
    "first_day = data.iloc[:, 2:31]\n",
    "first_day_variance_contribution, first_day_components, first_day_scores = principal_component_analysis(first_day)"
   ]
  },
  {
   "cell_type": "code",
   "execution_count": 8,
   "id": "6baae209-dab1-492d-ba52-21d7ef70c664",
   "metadata": {},
   "outputs": [
    {
     "data": {
      "text/plain": [
       "array([20.05844683, 15.95005239,  9.35910533])"
      ]
     },
     "execution_count": 8,
     "metadata": {},
     "output_type": "execute_result"
    }
   ],
   "source": [
    "first_day_variance_contribution"
   ]
  },
  {
   "cell_type": "code",
   "execution_count": 9,
   "id": "fc416000-31e2-4f62-95cb-db62b9d26bd8",
   "metadata": {},
   "outputs": [
    {
     "data": {
      "text/html": [
       "<div>\n",
       "<style scoped>\n",
       "    .dataframe tbody tr th:only-of-type {\n",
       "        vertical-align: middle;\n",
       "    }\n",
       "\n",
       "    .dataframe tbody tr th {\n",
       "        vertical-align: top;\n",
       "    }\n",
       "\n",
       "    .dataframe thead th {\n",
       "        text-align: right;\n",
       "    }\n",
       "</style>\n",
       "<table border=\"1\" class=\"dataframe\">\n",
       "  <thead>\n",
       "    <tr style=\"text-align: right;\">\n",
       "      <th></th>\n",
       "      <th>0</th>\n",
       "      <th>1</th>\n",
       "      <th>2</th>\n",
       "    </tr>\n",
       "  </thead>\n",
       "  <tbody>\n",
       "    <tr>\n",
       "      <th>depressed.mood.1</th>\n",
       "      <td>-0.185961</td>\n",
       "      <td>0.109399</td>\n",
       "      <td>0.208067</td>\n",
       "    </tr>\n",
       "    <tr>\n",
       "      <th>anxiety.1</th>\n",
       "      <td>-0.062101</td>\n",
       "      <td>0.062217</td>\n",
       "      <td>0.098085</td>\n",
       "    </tr>\n",
       "    <tr>\n",
       "      <th>suspiciousness.1</th>\n",
       "      <td>-0.064675</td>\n",
       "      <td>0.271265</td>\n",
       "      <td>0.293979</td>\n",
       "    </tr>\n",
       "    <tr>\n",
       "      <th>irritability.1</th>\n",
       "      <td>-0.049026</td>\n",
       "      <td>0.146249</td>\n",
       "      <td>-0.017966</td>\n",
       "    </tr>\n",
       "    <tr>\n",
       "      <th>craving.to.alcohol.1</th>\n",
       "      <td>-0.160420</td>\n",
       "      <td>0.278009</td>\n",
       "      <td>-0.150759</td>\n",
       "    </tr>\n",
       "    <tr>\n",
       "      <th>weakness.1</th>\n",
       "      <td>-0.156399</td>\n",
       "      <td>0.136650</td>\n",
       "      <td>-0.139019</td>\n",
       "    </tr>\n",
       "    <tr>\n",
       "      <th>insomia.1</th>\n",
       "      <td>0.001480</td>\n",
       "      <td>0.065864</td>\n",
       "      <td>0.404339</td>\n",
       "    </tr>\n",
       "    <tr>\n",
       "      <th>headache.1</th>\n",
       "      <td>0.021112</td>\n",
       "      <td>0.272655</td>\n",
       "      <td>0.314640</td>\n",
       "    </tr>\n",
       "    <tr>\n",
       "      <th>tremor.1</th>\n",
       "      <td>-0.069909</td>\n",
       "      <td>0.292130</td>\n",
       "      <td>-0.180044</td>\n",
       "    </tr>\n",
       "    <tr>\n",
       "      <th>polyuria.1</th>\n",
       "      <td>0.034275</td>\n",
       "      <td>0.074385</td>\n",
       "      <td>0.261947</td>\n",
       "    </tr>\n",
       "    <tr>\n",
       "      <th>sweating.1</th>\n",
       "      <td>0.184844</td>\n",
       "      <td>0.174365</td>\n",
       "      <td>0.022644</td>\n",
       "    </tr>\n",
       "    <tr>\n",
       "      <th>transient.hallusinations.1</th>\n",
       "      <td>-0.012719</td>\n",
       "      <td>0.163683</td>\n",
       "      <td>0.213997</td>\n",
       "    </tr>\n",
       "    <tr>\n",
       "      <th>vomiting.1</th>\n",
       "      <td>-0.149474</td>\n",
       "      <td>0.262921</td>\n",
       "      <td>0.129693</td>\n",
       "    </tr>\n",
       "    <tr>\n",
       "      <th>anoreksia.1</th>\n",
       "      <td>-0.213481</td>\n",
       "      <td>0.069921</td>\n",
       "      <td>0.028231</td>\n",
       "    </tr>\n",
       "    <tr>\n",
       "      <th>diarrhea.1</th>\n",
       "      <td>-0.102552</td>\n",
       "      <td>0.228505</td>\n",
       "      <td>0.228759</td>\n",
       "    </tr>\n",
       "    <tr>\n",
       "      <th>thirst.1</th>\n",
       "      <td>-0.059155</td>\n",
       "      <td>0.231991</td>\n",
       "      <td>0.151790</td>\n",
       "    </tr>\n",
       "    <tr>\n",
       "      <th>chest.pain.1</th>\n",
       "      <td>-0.079746</td>\n",
       "      <td>0.000995</td>\n",
       "      <td>0.072854</td>\n",
       "    </tr>\n",
       "    <tr>\n",
       "      <th>hyperemia.1</th>\n",
       "      <td>-0.187020</td>\n",
       "      <td>0.225641</td>\n",
       "      <td>-0.162743</td>\n",
       "    </tr>\n",
       "    <tr>\n",
       "      <th>HR.1</th>\n",
       "      <td>-0.201318</td>\n",
       "      <td>0.073842</td>\n",
       "      <td>-0.240943</td>\n",
       "    </tr>\n",
       "    <tr>\n",
       "      <th>SBP.1</th>\n",
       "      <td>-0.067159</td>\n",
       "      <td>0.315922</td>\n",
       "      <td>-0.244113</td>\n",
       "    </tr>\n",
       "    <tr>\n",
       "      <th>DBP.1</th>\n",
       "      <td>-0.231029</td>\n",
       "      <td>0.135242</td>\n",
       "      <td>-0.214633</td>\n",
       "    </tr>\n",
       "    <tr>\n",
       "      <th>MBP.1</th>\n",
       "      <td>-0.039407</td>\n",
       "      <td>0.233747</td>\n",
       "      <td>-0.239110</td>\n",
       "    </tr>\n",
       "    <tr>\n",
       "      <th>SV.1</th>\n",
       "      <td>0.375898</td>\n",
       "      <td>0.138661</td>\n",
       "      <td>0.061732</td>\n",
       "    </tr>\n",
       "    <tr>\n",
       "      <th>CO.1</th>\n",
       "      <td>0.345339</td>\n",
       "      <td>0.206766</td>\n",
       "      <td>-0.173742</td>\n",
       "    </tr>\n",
       "    <tr>\n",
       "      <th>SI.1</th>\n",
       "      <td>0.381605</td>\n",
       "      <td>0.129572</td>\n",
       "      <td>0.010574</td>\n",
       "    </tr>\n",
       "    <tr>\n",
       "      <th>CI.1</th>\n",
       "      <td>0.338751</td>\n",
       "      <td>0.225518</td>\n",
       "      <td>-0.162914</td>\n",
       "    </tr>\n",
       "    <tr>\n",
       "      <th>TPR.1</th>\n",
       "      <td>-0.346082</td>\n",
       "      <td>-0.166428</td>\n",
       "      <td>0.046286</td>\n",
       "    </tr>\n",
       "  </tbody>\n",
       "</table>\n",
       "</div>"
      ],
      "text/plain": [
       "                                   0         1         2\n",
       "depressed.mood.1           -0.185961  0.109399  0.208067\n",
       "anxiety.1                  -0.062101  0.062217  0.098085\n",
       "suspiciousness.1           -0.064675  0.271265  0.293979\n",
       "irritability.1             -0.049026  0.146249 -0.017966\n",
       "craving.to.alcohol.1       -0.160420  0.278009 -0.150759\n",
       "weakness.1                 -0.156399  0.136650 -0.139019\n",
       "insomia.1                   0.001480  0.065864  0.404339\n",
       "headache.1                  0.021112  0.272655  0.314640\n",
       "tremor.1                   -0.069909  0.292130 -0.180044\n",
       "polyuria.1                  0.034275  0.074385  0.261947\n",
       "sweating.1                  0.184844  0.174365  0.022644\n",
       "transient.hallusinations.1 -0.012719  0.163683  0.213997\n",
       "vomiting.1                 -0.149474  0.262921  0.129693\n",
       "anoreksia.1                -0.213481  0.069921  0.028231\n",
       "diarrhea.1                 -0.102552  0.228505  0.228759\n",
       "thirst.1                   -0.059155  0.231991  0.151790\n",
       "chest.pain.1               -0.079746  0.000995  0.072854\n",
       "hyperemia.1                -0.187020  0.225641 -0.162743\n",
       "HR.1                       -0.201318  0.073842 -0.240943\n",
       "SBP.1                      -0.067159  0.315922 -0.244113\n",
       "DBP.1                      -0.231029  0.135242 -0.214633\n",
       "MBP.1                      -0.039407  0.233747 -0.239110\n",
       "SV.1                        0.375898  0.138661  0.061732\n",
       "CO.1                        0.345339  0.206766 -0.173742\n",
       "SI.1                        0.381605  0.129572  0.010574\n",
       "CI.1                        0.338751  0.225518 -0.162914\n",
       "TPR.1                      -0.346082 -0.166428  0.046286"
      ]
     },
     "execution_count": 9,
     "metadata": {},
     "output_type": "execute_result"
    }
   ],
   "source": [
    "first_day_components"
   ]
  },
  {
   "cell_type": "code",
   "execution_count": 31,
   "id": "076a44cf-b2bd-4c6d-8780-6145b88dcd22",
   "metadata": {},
   "outputs": [],
   "source": [
    "top_10_comp_0 = first_day_components[abs(first_day_components[0]) > 0.2][0]\n",
    "top_10_comp_1 = first_day_components[abs(first_day_components[1]) > 0.2][1]  \n",
    "top_10_comp_2 = first_day_components[abs(first_day_components[2]) > 0.2][2]"
   ]
  },
  {
   "cell_type": "code",
   "execution_count": 32,
   "id": "dbf905e0-ca92-4b5b-9a24-3184c61442c4",
   "metadata": {},
   "outputs": [
    {
     "data": {
      "text/plain": [
       "anoreksia.1   -0.213481\n",
       "HR.1          -0.201318\n",
       "DBP.1         -0.231029\n",
       "SV.1           0.375898\n",
       "CO.1           0.345339\n",
       "SI.1           0.381605\n",
       "CI.1           0.338751\n",
       "TPR.1         -0.346082\n",
       "Name: 0, dtype: float64"
      ]
     },
     "execution_count": 32,
     "metadata": {},
     "output_type": "execute_result"
    }
   ],
   "source": [
    "top_10_comp_0\n",
    "# тут HR, DBP, SV, ... -- метрики, связанные с сердцем, => наблюдаем в основном влияние на сердечно-сосудистую систему"
   ]
  },
  {
   "cell_type": "code",
   "execution_count": 33,
   "id": "54fb93bc-9792-4207-ae1a-c4d02b92e8bd",
   "metadata": {},
   "outputs": [
    {
     "data": {
      "text/plain": [
       "suspiciousness.1        0.271265\n",
       "craving.to.alcohol.1    0.278009\n",
       "headache.1              0.272655\n",
       "tremor.1                0.292130\n",
       "vomiting.1              0.262921\n",
       "diarrhea.1              0.228505\n",
       "thirst.1                0.231991\n",
       "hyperemia.1             0.225641\n",
       "SBP.1                   0.315922\n",
       "MBP.1                   0.233747\n",
       "CO.1                    0.206766\n",
       "CI.1                    0.225518\n",
       "Name: 1, dtype: float64"
      ]
     },
     "execution_count": 33,
     "metadata": {},
     "output_type": "execute_result"
    }
   ],
   "source": [
    "top_10_comp_1\n",
    "# в основном влияние на ЖКТ"
   ]
  },
  {
   "cell_type": "code",
   "execution_count": 35,
   "id": "032f733b-e6f9-4c55-ae77-0b26a7f0e49a",
   "metadata": {},
   "outputs": [
    {
     "data": {
      "text/plain": [
       "depressed.mood.1              0.208067\n",
       "suspiciousness.1              0.293979\n",
       "insomia.1                     0.404339\n",
       "headache.1                    0.314640\n",
       "polyuria.1                    0.261947\n",
       "transient.hallusinations.1    0.213997\n",
       "diarrhea.1                    0.228759\n",
       "HR.1                         -0.240943\n",
       "SBP.1                        -0.244113\n",
       "DBP.1                        -0.214633\n",
       "MBP.1                        -0.239110\n",
       "Name: 2, dtype: float64"
      ]
     },
     "execution_count": 35,
     "metadata": {},
     "output_type": "execute_result"
    }
   ],
   "source": [
    "top_10_comp_2\n",
    "# в основном влияние на нервную систему"
   ]
  },
  {
   "cell_type": "code",
   "execution_count": 40,
   "id": "9373c348-154b-4928-a90a-e7f1a67895d0",
   "metadata": {},
   "outputs": [
    {
     "data": {
      "application/vnd.plotly.v1+json": {
       "config": {
        "plotlyServerURL": "https://plot.ly"
       },
       "data": [
        {
         "customdata": [
          [
           0
          ]
         ],
         "hovertemplate": "1=%{y}<br>0=%{marker.color}<br>index=%{customdata[0]}<extra></extra>",
         "legendgroup": "-0.6208410559806395",
         "marker": {
          "color": [
           0.6954536338218592
          ],
          "coloraxis": "coloraxis",
          "line": {
           "color": "DarkSlateGrey",
           "width": 2
          },
          "size": 10,
          "symbol": "circle"
         },
         "mode": "markers",
         "name": "-0.6208410559806395",
         "orientation": "v",
         "showlegend": true,
         "type": "scatter",
         "x": [
          0.6954536338218592
         ],
         "xaxis": "x",
         "y": [
          -0.6208410559806395
         ],
         "yaxis": "y"
        },
        {
         "customdata": [
          [
           1
          ]
         ],
         "hovertemplate": "1=%{y}<br>0=%{marker.color}<br>index=%{customdata[0]}<extra></extra>",
         "legendgroup": "1.4998482533534274",
         "marker": {
          "color": [
           5.5090668370119396
          ],
          "coloraxis": "coloraxis",
          "line": {
           "color": "DarkSlateGrey",
           "width": 2
          },
          "size": 10,
          "symbol": "diamond"
         },
         "mode": "markers",
         "name": "1.4998482533534274",
         "orientation": "v",
         "showlegend": true,
         "type": "scatter",
         "x": [
          5.5090668370119396
         ],
         "xaxis": "x",
         "y": [
          1.4998482533534274
         ],
         "yaxis": "y"
        },
        {
         "customdata": [
          [
           2
          ]
         ],
         "hovertemplate": "1=%{y}<br>0=%{marker.color}<br>index=%{customdata[0]}<extra></extra>",
         "legendgroup": "-0.9407720836969619",
         "marker": {
          "color": [
           -0.3670159580973385
          ],
          "coloraxis": "coloraxis",
          "line": {
           "color": "DarkSlateGrey",
           "width": 2
          },
          "size": 10,
          "symbol": "square"
         },
         "mode": "markers",
         "name": "-0.9407720836969619",
         "orientation": "v",
         "showlegend": true,
         "type": "scatter",
         "x": [
          -0.3670159580973385
         ],
         "xaxis": "x",
         "y": [
          -0.9407720836969619
         ],
         "yaxis": "y"
        },
        {
         "customdata": [
          [
           3
          ]
         ],
         "hovertemplate": "1=%{y}<br>0=%{marker.color}<br>index=%{customdata[0]}<extra></extra>",
         "legendgroup": "-2.727649070534471",
         "marker": {
          "color": [
           -1.9087975938328527
          ],
          "coloraxis": "coloraxis",
          "line": {
           "color": "DarkSlateGrey",
           "width": 2
          },
          "size": 10,
          "symbol": "x"
         },
         "mode": "markers",
         "name": "-2.727649070534471",
         "orientation": "v",
         "showlegend": true,
         "type": "scatter",
         "x": [
          -1.9087975938328527
         ],
         "xaxis": "x",
         "y": [
          -2.727649070534471
         ],
         "yaxis": "y"
        },
        {
         "customdata": [
          [
           4
          ]
         ],
         "hovertemplate": "1=%{y}<br>0=%{marker.color}<br>index=%{customdata[0]}<extra></extra>",
         "legendgroup": "-0.06748451142622192",
         "marker": {
          "color": [
           -3.327597812672502
          ],
          "coloraxis": "coloraxis",
          "line": {
           "color": "DarkSlateGrey",
           "width": 2
          },
          "size": 10,
          "symbol": "cross"
         },
         "mode": "markers",
         "name": "-0.06748451142622192",
         "orientation": "v",
         "showlegend": true,
         "type": "scatter",
         "x": [
          -3.327597812672502
         ],
         "xaxis": "x",
         "y": [
          -0.06748451142622192
         ],
         "yaxis": "y"
        },
        {
         "customdata": [
          [
           5
          ]
         ],
         "hovertemplate": "1=%{y}<br>0=%{marker.color}<br>index=%{customdata[0]}<extra></extra>",
         "legendgroup": "0.9101646482359691",
         "marker": {
          "color": [
           -0.906590154749418
          ],
          "coloraxis": "coloraxis",
          "line": {
           "color": "DarkSlateGrey",
           "width": 2
          },
          "size": 10,
          "symbol": "circle"
         },
         "mode": "markers",
         "name": "0.9101646482359691",
         "orientation": "v",
         "showlegend": true,
         "type": "scatter",
         "x": [
          -0.906590154749418
         ],
         "xaxis": "x",
         "y": [
          0.9101646482359691
         ],
         "yaxis": "y"
        },
        {
         "customdata": [
          [
           6
          ]
         ],
         "hovertemplate": "1=%{y}<br>0=%{marker.color}<br>index=%{customdata[0]}<extra></extra>",
         "legendgroup": "-0.4602482316517361",
         "marker": {
          "color": [
           -1.4252632306529727
          ],
          "coloraxis": "coloraxis",
          "line": {
           "color": "DarkSlateGrey",
           "width": 2
          },
          "size": 10,
          "symbol": "diamond"
         },
         "mode": "markers",
         "name": "-0.4602482316517361",
         "orientation": "v",
         "showlegend": true,
         "type": "scatter",
         "x": [
          -1.4252632306529727
         ],
         "xaxis": "x",
         "y": [
          -0.4602482316517361
         ],
         "yaxis": "y"
        },
        {
         "customdata": [
          [
           7
          ]
         ],
         "hovertemplate": "1=%{y}<br>0=%{marker.color}<br>index=%{customdata[0]}<extra></extra>",
         "legendgroup": "-1.5878091551581024",
         "marker": {
          "color": [
           0.6746088688573589
          ],
          "coloraxis": "coloraxis",
          "line": {
           "color": "DarkSlateGrey",
           "width": 2
          },
          "size": 10,
          "symbol": "square"
         },
         "mode": "markers",
         "name": "-1.5878091551581024",
         "orientation": "v",
         "showlegend": true,
         "type": "scatter",
         "x": [
          0.6746088688573589
         ],
         "xaxis": "x",
         "y": [
          -1.5878091551581024
         ],
         "yaxis": "y"
        },
        {
         "customdata": [
          [
           8
          ]
         ],
         "hovertemplate": "1=%{y}<br>0=%{marker.color}<br>index=%{customdata[0]}<extra></extra>",
         "legendgroup": "1.9236671968590207",
         "marker": {
          "color": [
           2.285954221034675
          ],
          "coloraxis": "coloraxis",
          "line": {
           "color": "DarkSlateGrey",
           "width": 2
          },
          "size": 10,
          "symbol": "x"
         },
         "mode": "markers",
         "name": "1.9236671968590207",
         "orientation": "v",
         "showlegend": true,
         "type": "scatter",
         "x": [
          2.285954221034675
         ],
         "xaxis": "x",
         "y": [
          1.9236671968590207
         ],
         "yaxis": "y"
        },
        {
         "customdata": [
          [
           9
          ]
         ],
         "hovertemplate": "1=%{y}<br>0=%{marker.color}<br>index=%{customdata[0]}<extra></extra>",
         "legendgroup": "-1.6769205858233998",
         "marker": {
          "color": [
           -0.8325334491694335
          ],
          "coloraxis": "coloraxis",
          "line": {
           "color": "DarkSlateGrey",
           "width": 2
          },
          "size": 10,
          "symbol": "cross"
         },
         "mode": "markers",
         "name": "-1.6769205858233998",
         "orientation": "v",
         "showlegend": true,
         "type": "scatter",
         "x": [
          -0.8325334491694335
         ],
         "xaxis": "x",
         "y": [
          -1.6769205858233998
         ],
         "yaxis": "y"
        },
        {
         "customdata": [
          [
           10
          ]
         ],
         "hovertemplate": "1=%{y}<br>0=%{marker.color}<br>index=%{customdata[0]}<extra></extra>",
         "legendgroup": "-1.5742863760006316",
         "marker": {
          "color": [
           -3.753150767135634
          ],
          "coloraxis": "coloraxis",
          "line": {
           "color": "DarkSlateGrey",
           "width": 2
          },
          "size": 10,
          "symbol": "circle"
         },
         "mode": "markers",
         "name": "-1.5742863760006316",
         "orientation": "v",
         "showlegend": true,
         "type": "scatter",
         "x": [
          -3.753150767135634
         ],
         "xaxis": "x",
         "y": [
          -1.5742863760006316
         ],
         "yaxis": "y"
        },
        {
         "customdata": [
          [
           11
          ]
         ],
         "hovertemplate": "1=%{y}<br>0=%{marker.color}<br>index=%{customdata[0]}<extra></extra>",
         "legendgroup": "1.0055066296536328",
         "marker": {
          "color": [
           3.4102624008113254
          ],
          "coloraxis": "coloraxis",
          "line": {
           "color": "DarkSlateGrey",
           "width": 2
          },
          "size": 10,
          "symbol": "diamond"
         },
         "mode": "markers",
         "name": "1.0055066296536328",
         "orientation": "v",
         "showlegend": true,
         "type": "scatter",
         "x": [
          3.4102624008113254
         ],
         "xaxis": "x",
         "y": [
          1.0055066296536328
         ],
         "yaxis": "y"
        },
        {
         "customdata": [
          [
           12
          ]
         ],
         "hovertemplate": "1=%{y}<br>0=%{marker.color}<br>index=%{customdata[0]}<extra></extra>",
         "legendgroup": "0.24102147884865432",
         "marker": {
          "color": [
           3.5638220885926404
          ],
          "coloraxis": "coloraxis",
          "line": {
           "color": "DarkSlateGrey",
           "width": 2
          },
          "size": 10,
          "symbol": "square"
         },
         "mode": "markers",
         "name": "0.24102147884865432",
         "orientation": "v",
         "showlegend": true,
         "type": "scatter",
         "x": [
          3.5638220885926404
         ],
         "xaxis": "x",
         "y": [
          0.24102147884865432
         ],
         "yaxis": "y"
        },
        {
         "customdata": [
          [
           13
          ]
         ],
         "hovertemplate": "1=%{y}<br>0=%{marker.color}<br>index=%{customdata[0]}<extra></extra>",
         "legendgroup": "1.1401343290661081",
         "marker": {
          "color": [
           -2.39179561560135
          ],
          "coloraxis": "coloraxis",
          "line": {
           "color": "DarkSlateGrey",
           "width": 2
          },
          "size": 10,
          "symbol": "x"
         },
         "mode": "markers",
         "name": "1.1401343290661081",
         "orientation": "v",
         "showlegend": true,
         "type": "scatter",
         "x": [
          -2.39179561560135
         ],
         "xaxis": "x",
         "y": [
          1.1401343290661081
         ],
         "yaxis": "y"
        },
        {
         "customdata": [
          [
           14
          ]
         ],
         "hovertemplate": "1=%{y}<br>0=%{marker.color}<br>index=%{customdata[0]}<extra></extra>",
         "legendgroup": "1.858972872396636",
         "marker": {
          "color": [
           0.6487083211612855
          ],
          "coloraxis": "coloraxis",
          "line": {
           "color": "DarkSlateGrey",
           "width": 2
          },
          "size": 10,
          "symbol": "cross"
         },
         "mode": "markers",
         "name": "1.858972872396636",
         "orientation": "v",
         "showlegend": true,
         "type": "scatter",
         "x": [
          0.6487083211612855
         ],
         "xaxis": "x",
         "y": [
          1.858972872396636
         ],
         "yaxis": "y"
        },
        {
         "customdata": [
          [
           15
          ]
         ],
         "hovertemplate": "1=%{y}<br>0=%{marker.color}<br>index=%{customdata[0]}<extra></extra>",
         "legendgroup": "-2.232277820889942",
         "marker": {
          "color": [
           -1.2589406226558726
          ],
          "coloraxis": "coloraxis",
          "line": {
           "color": "DarkSlateGrey",
           "width": 2
          },
          "size": 10,
          "symbol": "circle"
         },
         "mode": "markers",
         "name": "-2.232277820889942",
         "orientation": "v",
         "showlegend": true,
         "type": "scatter",
         "x": [
          -1.2589406226558726
         ],
         "xaxis": "x",
         "y": [
          -2.232277820889942
         ],
         "yaxis": "y"
        },
        {
         "customdata": [
          [
           16
          ]
         ],
         "hovertemplate": "1=%{y}<br>0=%{marker.color}<br>index=%{customdata[0]}<extra></extra>",
         "legendgroup": "-1.5121233423392766",
         "marker": {
          "color": [
           -0.8409516686729178
          ],
          "coloraxis": "coloraxis",
          "line": {
           "color": "DarkSlateGrey",
           "width": 2
          },
          "size": 10,
          "symbol": "diamond"
         },
         "mode": "markers",
         "name": "-1.5121233423392766",
         "orientation": "v",
         "showlegend": true,
         "type": "scatter",
         "x": [
          -0.8409516686729178
         ],
         "xaxis": "x",
         "y": [
          -1.5121233423392766
         ],
         "yaxis": "y"
        },
        {
         "customdata": [
          [
           17
          ]
         ],
         "hovertemplate": "1=%{y}<br>0=%{marker.color}<br>index=%{customdata[0]}<extra></extra>",
         "legendgroup": "-2.3248162513408808",
         "marker": {
          "color": [
           -0.4214924358327398
          ],
          "coloraxis": "coloraxis",
          "line": {
           "color": "DarkSlateGrey",
           "width": 2
          },
          "size": 10,
          "symbol": "square"
         },
         "mode": "markers",
         "name": "-2.3248162513408808",
         "orientation": "v",
         "showlegend": true,
         "type": "scatter",
         "x": [
          -0.4214924358327398
         ],
         "xaxis": "x",
         "y": [
          -2.3248162513408808
         ],
         "yaxis": "y"
        },
        {
         "customdata": [
          [
           18
          ]
         ],
         "hovertemplate": "1=%{y}<br>0=%{marker.color}<br>index=%{customdata[0]}<extra></extra>",
         "legendgroup": "-0.8423087308394702",
         "marker": {
          "color": [
           3.484074109539211
          ],
          "coloraxis": "coloraxis",
          "line": {
           "color": "DarkSlateGrey",
           "width": 2
          },
          "size": 10,
          "symbol": "x"
         },
         "mode": "markers",
         "name": "-0.8423087308394702",
         "orientation": "v",
         "showlegend": true,
         "type": "scatter",
         "x": [
          3.484074109539211
         ],
         "xaxis": "x",
         "y": [
          -0.8423087308394702
         ],
         "yaxis": "y"
        },
        {
         "customdata": [
          [
           19
          ]
         ],
         "hovertemplate": "1=%{y}<br>0=%{marker.color}<br>index=%{customdata[0]}<extra></extra>",
         "legendgroup": "-2.915650956747018",
         "marker": {
          "color": [
           1.694982247886265
          ],
          "coloraxis": "coloraxis",
          "line": {
           "color": "DarkSlateGrey",
           "width": 2
          },
          "size": 10,
          "symbol": "cross"
         },
         "mode": "markers",
         "name": "-2.915650956747018",
         "orientation": "v",
         "showlegend": true,
         "type": "scatter",
         "x": [
          1.694982247886265
         ],
         "xaxis": "x",
         "y": [
          -2.915650956747018
         ],
         "yaxis": "y"
        },
        {
         "customdata": [
          [
           20
          ]
         ],
         "hovertemplate": "1=%{y}<br>0=%{marker.color}<br>index=%{customdata[0]}<extra></extra>",
         "legendgroup": "0.03948599930236945",
         "marker": {
          "color": [
           -0.7952952934848901
          ],
          "coloraxis": "coloraxis",
          "line": {
           "color": "DarkSlateGrey",
           "width": 2
          },
          "size": 10,
          "symbol": "circle"
         },
         "mode": "markers",
         "name": "0.03948599930236945",
         "orientation": "v",
         "showlegend": true,
         "type": "scatter",
         "x": [
          -0.7952952934848901
         ],
         "xaxis": "x",
         "y": [
          0.03948599930236945
         ],
         "yaxis": "y"
        },
        {
         "customdata": [
          [
           21
          ]
         ],
         "hovertemplate": "1=%{y}<br>0=%{marker.color}<br>index=%{customdata[0]}<extra></extra>",
         "legendgroup": "1.7581684981908885",
         "marker": {
          "color": [
           1.2789441502454408
          ],
          "coloraxis": "coloraxis",
          "line": {
           "color": "DarkSlateGrey",
           "width": 2
          },
          "size": 10,
          "symbol": "diamond"
         },
         "mode": "markers",
         "name": "1.7581684981908885",
         "orientation": "v",
         "showlegend": true,
         "type": "scatter",
         "x": [
          1.2789441502454408
         ],
         "xaxis": "x",
         "y": [
          1.7581684981908885
         ],
         "yaxis": "y"
        },
        {
         "customdata": [
          [
           22
          ]
         ],
         "hovertemplate": "1=%{y}<br>0=%{marker.color}<br>index=%{customdata[0]}<extra></extra>",
         "legendgroup": "-2.8250266174169174",
         "marker": {
          "color": [
           -0.05066420903188462
          ],
          "coloraxis": "coloraxis",
          "line": {
           "color": "DarkSlateGrey",
           "width": 2
          },
          "size": 10,
          "symbol": "square"
         },
         "mode": "markers",
         "name": "-2.8250266174169174",
         "orientation": "v",
         "showlegend": true,
         "type": "scatter",
         "x": [
          -0.05066420903188462
         ],
         "xaxis": "x",
         "y": [
          -2.8250266174169174
         ],
         "yaxis": "y"
        },
        {
         "customdata": [
          [
           23
          ]
         ],
         "hovertemplate": "1=%{y}<br>0=%{marker.color}<br>index=%{customdata[0]}<extra></extra>",
         "legendgroup": "-1.0056951491531536",
         "marker": {
          "color": [
           2.4771140258831688
          ],
          "coloraxis": "coloraxis",
          "line": {
           "color": "DarkSlateGrey",
           "width": 2
          },
          "size": 10,
          "symbol": "x"
         },
         "mode": "markers",
         "name": "-1.0056951491531536",
         "orientation": "v",
         "showlegend": true,
         "type": "scatter",
         "x": [
          2.4771140258831688
         ],
         "xaxis": "x",
         "y": [
          -1.0056951491531536
         ],
         "yaxis": "y"
        },
        {
         "customdata": [
          [
           24
          ]
         ],
         "hovertemplate": "1=%{y}<br>0=%{marker.color}<br>index=%{customdata[0]}<extra></extra>",
         "legendgroup": "0.45965095454079385",
         "marker": {
          "color": [
           2.128619912943591
          ],
          "coloraxis": "coloraxis",
          "line": {
           "color": "DarkSlateGrey",
           "width": 2
          },
          "size": 10,
          "symbol": "cross"
         },
         "mode": "markers",
         "name": "0.45965095454079385",
         "orientation": "v",
         "showlegend": true,
         "type": "scatter",
         "x": [
          2.128619912943591
         ],
         "xaxis": "x",
         "y": [
          0.45965095454079385
         ],
         "yaxis": "y"
        },
        {
         "customdata": [
          [
           25
          ]
         ],
         "hovertemplate": "1=%{y}<br>0=%{marker.color}<br>index=%{customdata[0]}<extra></extra>",
         "legendgroup": "-2.2429254931407936",
         "marker": {
          "color": [
           -4.49730342073113
          ],
          "coloraxis": "coloraxis",
          "line": {
           "color": "DarkSlateGrey",
           "width": 2
          },
          "size": 10,
          "symbol": "circle"
         },
         "mode": "markers",
         "name": "-2.2429254931407936",
         "orientation": "v",
         "showlegend": true,
         "type": "scatter",
         "x": [
          -4.49730342073113
         ],
         "xaxis": "x",
         "y": [
          -2.2429254931407936
         ],
         "yaxis": "y"
        },
        {
         "customdata": [
          [
           26
          ]
         ],
         "hovertemplate": "1=%{y}<br>0=%{marker.color}<br>index=%{customdata[0]}<extra></extra>",
         "legendgroup": "0.9480714038178925",
         "marker": {
          "color": [
           -0.1423387165754089
          ],
          "coloraxis": "coloraxis",
          "line": {
           "color": "DarkSlateGrey",
           "width": 2
          },
          "size": 10,
          "symbol": "diamond"
         },
         "mode": "markers",
         "name": "0.9480714038178925",
         "orientation": "v",
         "showlegend": true,
         "type": "scatter",
         "x": [
          -0.1423387165754089
         ],
         "xaxis": "x",
         "y": [
          0.9480714038178925
         ],
         "yaxis": "y"
        },
        {
         "customdata": [
          [
           27
          ]
         ],
         "hovertemplate": "1=%{y}<br>0=%{marker.color}<br>index=%{customdata[0]}<extra></extra>",
         "legendgroup": "4.24374247930884",
         "marker": {
          "color": [
           -2.022167298934353
          ],
          "coloraxis": "coloraxis",
          "line": {
           "color": "DarkSlateGrey",
           "width": 2
          },
          "size": 10,
          "symbol": "square"
         },
         "mode": "markers",
         "name": "4.24374247930884",
         "orientation": "v",
         "showlegend": true,
         "type": "scatter",
         "x": [
          -2.022167298934353
         ],
         "xaxis": "x",
         "y": [
          4.24374247930884
         ],
         "yaxis": "y"
        },
        {
         "customdata": [
          [
           28
          ]
         ],
         "hovertemplate": "1=%{y}<br>0=%{marker.color}<br>index=%{customdata[0]}<extra></extra>",
         "legendgroup": "0.9766208665290156",
         "marker": {
          "color": [
           0.5972302136366886
          ],
          "coloraxis": "coloraxis",
          "line": {
           "color": "DarkSlateGrey",
           "width": 2
          },
          "size": 10,
          "symbol": "x"
         },
         "mode": "markers",
         "name": "0.9766208665290156",
         "orientation": "v",
         "showlegend": true,
         "type": "scatter",
         "x": [
          0.5972302136366886
         ],
         "xaxis": "x",
         "y": [
          0.9766208665290156
         ],
         "yaxis": "y"
        },
        {
         "customdata": [
          [
           29
          ]
         ],
         "hovertemplate": "1=%{y}<br>0=%{marker.color}<br>index=%{customdata[0]}<extra></extra>",
         "legendgroup": "3.0305732067309163",
         "marker": {
          "color": [
           -4.103883719665463
          ],
          "coloraxis": "coloraxis",
          "line": {
           "color": "DarkSlateGrey",
           "width": 2
          },
          "size": 10,
          "symbol": "cross"
         },
         "mode": "markers",
         "name": "3.0305732067309163",
         "orientation": "v",
         "showlegend": true,
         "type": "scatter",
         "x": [
          -4.103883719665463
         ],
         "xaxis": "x",
         "y": [
          3.0305732067309163
         ],
         "yaxis": "y"
        },
        {
         "customdata": [
          [
           30
          ]
         ],
         "hovertemplate": "1=%{y}<br>0=%{marker.color}<br>index=%{customdata[0]}<extra></extra>",
         "legendgroup": "-0.1875337571416396",
         "marker": {
          "color": [
           1.4435697009802568
          ],
          "coloraxis": "coloraxis",
          "line": {
           "color": "DarkSlateGrey",
           "width": 2
          },
          "size": 10,
          "symbol": "circle"
         },
         "mode": "markers",
         "name": "-0.1875337571416396",
         "orientation": "v",
         "showlegend": true,
         "type": "scatter",
         "x": [
          1.4435697009802568
         ],
         "xaxis": "x",
         "y": [
          -0.1875337571416396
         ],
         "yaxis": "y"
        },
        {
         "customdata": [
          [
           31
          ]
         ],
         "hovertemplate": "1=%{y}<br>0=%{marker.color}<br>index=%{customdata[0]}<extra></extra>",
         "legendgroup": "-0.8996301150574124",
         "marker": {
          "color": [
           1.1347837518901458
          ],
          "coloraxis": "coloraxis",
          "line": {
           "color": "DarkSlateGrey",
           "width": 2
          },
          "size": 10,
          "symbol": "diamond"
         },
         "mode": "markers",
         "name": "-0.8996301150574124",
         "orientation": "v",
         "showlegend": true,
         "type": "scatter",
         "x": [
          1.1347837518901458
         ],
         "xaxis": "x",
         "y": [
          -0.8996301150574124
         ],
         "yaxis": "y"
        },
        {
         "customdata": [
          [
           32
          ]
         ],
         "hovertemplate": "1=%{y}<br>0=%{marker.color}<br>index=%{customdata[0]}<extra></extra>",
         "legendgroup": "6.6083704875045",
         "marker": {
          "color": [
           -1.9814125167996883
          ],
          "coloraxis": "coloraxis",
          "line": {
           "color": "DarkSlateGrey",
           "width": 2
          },
          "size": 10,
          "symbol": "square"
         },
         "mode": "markers",
         "name": "6.6083704875045",
         "orientation": "v",
         "showlegend": true,
         "type": "scatter",
         "x": [
          -1.9814125167996883
         ],
         "xaxis": "x",
         "y": [
          6.6083704875045
         ],
         "yaxis": "y"
        }
       ],
       "layout": {
        "autosize": true,
        "coloraxis": {
         "colorbar": {
          "title": {
           "text": "0"
          }
         },
         "colorscale": [
          [
           0,
           "#0d0887"
          ],
          [
           0.1111111111111111,
           "#46039f"
          ],
          [
           0.2222222222222222,
           "#7201a8"
          ],
          [
           0.3333333333333333,
           "#9c179e"
          ],
          [
           0.4444444444444444,
           "#bd3786"
          ],
          [
           0.5555555555555556,
           "#d8576b"
          ],
          [
           0.6666666666666666,
           "#ed7953"
          ],
          [
           0.7777777777777778,
           "#fb9f3a"
          ],
          [
           0.8888888888888888,
           "#fdca26"
          ],
          [
           1,
           "#f0f921"
          ]
         ]
        },
        "hovermode": "closest",
        "legend": {
         "title": {
          "text": "1"
         },
         "tracegroupgap": 0
        },
        "margin": {
         "t": 60
        },
        "paper_bgcolor": "LightSteelBlue",
        "plot_bgcolor": "Azure",
        "template": {
         "data": {
          "bar": [
           {
            "error_x": {
             "color": "#2a3f5f"
            },
            "error_y": {
             "color": "#2a3f5f"
            },
            "marker": {
             "line": {
              "color": "#E5ECF6",
              "width": 0.5
             },
             "pattern": {
              "fillmode": "overlay",
              "size": 10,
              "solidity": 0.2
             }
            },
            "type": "bar"
           }
          ],
          "barpolar": [
           {
            "marker": {
             "line": {
              "color": "#E5ECF6",
              "width": 0.5
             },
             "pattern": {
              "fillmode": "overlay",
              "size": 10,
              "solidity": 0.2
             }
            },
            "type": "barpolar"
           }
          ],
          "carpet": [
           {
            "aaxis": {
             "endlinecolor": "#2a3f5f",
             "gridcolor": "white",
             "linecolor": "white",
             "minorgridcolor": "white",
             "startlinecolor": "#2a3f5f"
            },
            "baxis": {
             "endlinecolor": "#2a3f5f",
             "gridcolor": "white",
             "linecolor": "white",
             "minorgridcolor": "white",
             "startlinecolor": "#2a3f5f"
            },
            "type": "carpet"
           }
          ],
          "choropleth": [
           {
            "colorbar": {
             "outlinewidth": 0,
             "ticks": ""
            },
            "type": "choropleth"
           }
          ],
          "contour": [
           {
            "colorbar": {
             "outlinewidth": 0,
             "ticks": ""
            },
            "colorscale": [
             [
              0,
              "#0d0887"
             ],
             [
              0.1111111111111111,
              "#46039f"
             ],
             [
              0.2222222222222222,
              "#7201a8"
             ],
             [
              0.3333333333333333,
              "#9c179e"
             ],
             [
              0.4444444444444444,
              "#bd3786"
             ],
             [
              0.5555555555555556,
              "#d8576b"
             ],
             [
              0.6666666666666666,
              "#ed7953"
             ],
             [
              0.7777777777777778,
              "#fb9f3a"
             ],
             [
              0.8888888888888888,
              "#fdca26"
             ],
             [
              1,
              "#f0f921"
             ]
            ],
            "type": "contour"
           }
          ],
          "contourcarpet": [
           {
            "colorbar": {
             "outlinewidth": 0,
             "ticks": ""
            },
            "type": "contourcarpet"
           }
          ],
          "heatmap": [
           {
            "colorbar": {
             "outlinewidth": 0,
             "ticks": ""
            },
            "colorscale": [
             [
              0,
              "#0d0887"
             ],
             [
              0.1111111111111111,
              "#46039f"
             ],
             [
              0.2222222222222222,
              "#7201a8"
             ],
             [
              0.3333333333333333,
              "#9c179e"
             ],
             [
              0.4444444444444444,
              "#bd3786"
             ],
             [
              0.5555555555555556,
              "#d8576b"
             ],
             [
              0.6666666666666666,
              "#ed7953"
             ],
             [
              0.7777777777777778,
              "#fb9f3a"
             ],
             [
              0.8888888888888888,
              "#fdca26"
             ],
             [
              1,
              "#f0f921"
             ]
            ],
            "type": "heatmap"
           }
          ],
          "heatmapgl": [
           {
            "colorbar": {
             "outlinewidth": 0,
             "ticks": ""
            },
            "colorscale": [
             [
              0,
              "#0d0887"
             ],
             [
              0.1111111111111111,
              "#46039f"
             ],
             [
              0.2222222222222222,
              "#7201a8"
             ],
             [
              0.3333333333333333,
              "#9c179e"
             ],
             [
              0.4444444444444444,
              "#bd3786"
             ],
             [
              0.5555555555555556,
              "#d8576b"
             ],
             [
              0.6666666666666666,
              "#ed7953"
             ],
             [
              0.7777777777777778,
              "#fb9f3a"
             ],
             [
              0.8888888888888888,
              "#fdca26"
             ],
             [
              1,
              "#f0f921"
             ]
            ],
            "type": "heatmapgl"
           }
          ],
          "histogram": [
           {
            "marker": {
             "pattern": {
              "fillmode": "overlay",
              "size": 10,
              "solidity": 0.2
             }
            },
            "type": "histogram"
           }
          ],
          "histogram2d": [
           {
            "colorbar": {
             "outlinewidth": 0,
             "ticks": ""
            },
            "colorscale": [
             [
              0,
              "#0d0887"
             ],
             [
              0.1111111111111111,
              "#46039f"
             ],
             [
              0.2222222222222222,
              "#7201a8"
             ],
             [
              0.3333333333333333,
              "#9c179e"
             ],
             [
              0.4444444444444444,
              "#bd3786"
             ],
             [
              0.5555555555555556,
              "#d8576b"
             ],
             [
              0.6666666666666666,
              "#ed7953"
             ],
             [
              0.7777777777777778,
              "#fb9f3a"
             ],
             [
              0.8888888888888888,
              "#fdca26"
             ],
             [
              1,
              "#f0f921"
             ]
            ],
            "type": "histogram2d"
           }
          ],
          "histogram2dcontour": [
           {
            "colorbar": {
             "outlinewidth": 0,
             "ticks": ""
            },
            "colorscale": [
             [
              0,
              "#0d0887"
             ],
             [
              0.1111111111111111,
              "#46039f"
             ],
             [
              0.2222222222222222,
              "#7201a8"
             ],
             [
              0.3333333333333333,
              "#9c179e"
             ],
             [
              0.4444444444444444,
              "#bd3786"
             ],
             [
              0.5555555555555556,
              "#d8576b"
             ],
             [
              0.6666666666666666,
              "#ed7953"
             ],
             [
              0.7777777777777778,
              "#fb9f3a"
             ],
             [
              0.8888888888888888,
              "#fdca26"
             ],
             [
              1,
              "#f0f921"
             ]
            ],
            "type": "histogram2dcontour"
           }
          ],
          "mesh3d": [
           {
            "colorbar": {
             "outlinewidth": 0,
             "ticks": ""
            },
            "type": "mesh3d"
           }
          ],
          "parcoords": [
           {
            "line": {
             "colorbar": {
              "outlinewidth": 0,
              "ticks": ""
             }
            },
            "type": "parcoords"
           }
          ],
          "pie": [
           {
            "automargin": true,
            "type": "pie"
           }
          ],
          "scatter": [
           {
            "fillpattern": {
             "fillmode": "overlay",
             "size": 10,
             "solidity": 0.2
            },
            "type": "scatter"
           }
          ],
          "scatter3d": [
           {
            "line": {
             "colorbar": {
              "outlinewidth": 0,
              "ticks": ""
             }
            },
            "marker": {
             "colorbar": {
              "outlinewidth": 0,
              "ticks": ""
             }
            },
            "type": "scatter3d"
           }
          ],
          "scattercarpet": [
           {
            "marker": {
             "colorbar": {
              "outlinewidth": 0,
              "ticks": ""
             }
            },
            "type": "scattercarpet"
           }
          ],
          "scattergeo": [
           {
            "marker": {
             "colorbar": {
              "outlinewidth": 0,
              "ticks": ""
             }
            },
            "type": "scattergeo"
           }
          ],
          "scattergl": [
           {
            "marker": {
             "colorbar": {
              "outlinewidth": 0,
              "ticks": ""
             }
            },
            "type": "scattergl"
           }
          ],
          "scattermapbox": [
           {
            "marker": {
             "colorbar": {
              "outlinewidth": 0,
              "ticks": ""
             }
            },
            "type": "scattermapbox"
           }
          ],
          "scatterpolar": [
           {
            "marker": {
             "colorbar": {
              "outlinewidth": 0,
              "ticks": ""
             }
            },
            "type": "scatterpolar"
           }
          ],
          "scatterpolargl": [
           {
            "marker": {
             "colorbar": {
              "outlinewidth": 0,
              "ticks": ""
             }
            },
            "type": "scatterpolargl"
           }
          ],
          "scatterternary": [
           {
            "marker": {
             "colorbar": {
              "outlinewidth": 0,
              "ticks": ""
             }
            },
            "type": "scatterternary"
           }
          ],
          "surface": [
           {
            "colorbar": {
             "outlinewidth": 0,
             "ticks": ""
            },
            "colorscale": [
             [
              0,
              "#0d0887"
             ],
             [
              0.1111111111111111,
              "#46039f"
             ],
             [
              0.2222222222222222,
              "#7201a8"
             ],
             [
              0.3333333333333333,
              "#9c179e"
             ],
             [
              0.4444444444444444,
              "#bd3786"
             ],
             [
              0.5555555555555556,
              "#d8576b"
             ],
             [
              0.6666666666666666,
              "#ed7953"
             ],
             [
              0.7777777777777778,
              "#fb9f3a"
             ],
             [
              0.8888888888888888,
              "#fdca26"
             ],
             [
              1,
              "#f0f921"
             ]
            ],
            "type": "surface"
           }
          ],
          "table": [
           {
            "cells": {
             "fill": {
              "color": "#EBF0F8"
             },
             "line": {
              "color": "white"
             }
            },
            "header": {
             "fill": {
              "color": "#C8D4E3"
             },
             "line": {
              "color": "white"
             }
            },
            "type": "table"
           }
          ]
         },
         "layout": {
          "annotationdefaults": {
           "arrowcolor": "#2a3f5f",
           "arrowhead": 0,
           "arrowwidth": 1
          },
          "autotypenumbers": "strict",
          "coloraxis": {
           "colorbar": {
            "outlinewidth": 0,
            "ticks": ""
           }
          },
          "colorscale": {
           "diverging": [
            [
             0,
             "#8e0152"
            ],
            [
             0.1,
             "#c51b7d"
            ],
            [
             0.2,
             "#de77ae"
            ],
            [
             0.3,
             "#f1b6da"
            ],
            [
             0.4,
             "#fde0ef"
            ],
            [
             0.5,
             "#f7f7f7"
            ],
            [
             0.6,
             "#e6f5d0"
            ],
            [
             0.7,
             "#b8e186"
            ],
            [
             0.8,
             "#7fbc41"
            ],
            [
             0.9,
             "#4d9221"
            ],
            [
             1,
             "#276419"
            ]
           ],
           "sequential": [
            [
             0,
             "#0d0887"
            ],
            [
             0.1111111111111111,
             "#46039f"
            ],
            [
             0.2222222222222222,
             "#7201a8"
            ],
            [
             0.3333333333333333,
             "#9c179e"
            ],
            [
             0.4444444444444444,
             "#bd3786"
            ],
            [
             0.5555555555555556,
             "#d8576b"
            ],
            [
             0.6666666666666666,
             "#ed7953"
            ],
            [
             0.7777777777777778,
             "#fb9f3a"
            ],
            [
             0.8888888888888888,
             "#fdca26"
            ],
            [
             1,
             "#f0f921"
            ]
           ],
           "sequentialminus": [
            [
             0,
             "#0d0887"
            ],
            [
             0.1111111111111111,
             "#46039f"
            ],
            [
             0.2222222222222222,
             "#7201a8"
            ],
            [
             0.3333333333333333,
             "#9c179e"
            ],
            [
             0.4444444444444444,
             "#bd3786"
            ],
            [
             0.5555555555555556,
             "#d8576b"
            ],
            [
             0.6666666666666666,
             "#ed7953"
            ],
            [
             0.7777777777777778,
             "#fb9f3a"
            ],
            [
             0.8888888888888888,
             "#fdca26"
            ],
            [
             1,
             "#f0f921"
            ]
           ]
          },
          "colorway": [
           "#636efa",
           "#EF553B",
           "#00cc96",
           "#ab63fa",
           "#FFA15A",
           "#19d3f3",
           "#FF6692",
           "#B6E880",
           "#FF97FF",
           "#FECB52"
          ],
          "font": {
           "color": "#2a3f5f"
          },
          "geo": {
           "bgcolor": "white",
           "lakecolor": "white",
           "landcolor": "#E5ECF6",
           "showlakes": true,
           "showland": true,
           "subunitcolor": "white"
          },
          "hoverlabel": {
           "align": "left"
          },
          "hovermode": "closest",
          "mapbox": {
           "style": "light"
          },
          "paper_bgcolor": "white",
          "plot_bgcolor": "#E5ECF6",
          "polar": {
           "angularaxis": {
            "gridcolor": "white",
            "linecolor": "white",
            "ticks": ""
           },
           "bgcolor": "#E5ECF6",
           "radialaxis": {
            "gridcolor": "white",
            "linecolor": "white",
            "ticks": ""
           }
          },
          "scene": {
           "xaxis": {
            "backgroundcolor": "#E5ECF6",
            "gridcolor": "white",
            "gridwidth": 2,
            "linecolor": "white",
            "showbackground": true,
            "ticks": "",
            "zerolinecolor": "white"
           },
           "yaxis": {
            "backgroundcolor": "#E5ECF6",
            "gridcolor": "white",
            "gridwidth": 2,
            "linecolor": "white",
            "showbackground": true,
            "ticks": "",
            "zerolinecolor": "white"
           },
           "zaxis": {
            "backgroundcolor": "#E5ECF6",
            "gridcolor": "white",
            "gridwidth": 2,
            "linecolor": "white",
            "showbackground": true,
            "ticks": "",
            "zerolinecolor": "white"
           }
          },
          "shapedefaults": {
           "line": {
            "color": "#2a3f5f"
           }
          },
          "ternary": {
           "aaxis": {
            "gridcolor": "white",
            "linecolor": "white",
            "ticks": ""
           },
           "baxis": {
            "gridcolor": "white",
            "linecolor": "white",
            "ticks": ""
           },
           "bgcolor": "#E5ECF6",
           "caxis": {
            "gridcolor": "white",
            "linecolor": "white",
            "ticks": ""
           }
          },
          "title": {
           "x": 0.05
          },
          "xaxis": {
           "automargin": true,
           "gridcolor": "white",
           "linecolor": "white",
           "ticks": "",
           "title": {
            "standoff": 15
           },
           "zerolinecolor": "white",
           "zerolinewidth": 2
          },
          "yaxis": {
           "automargin": true,
           "gridcolor": "white",
           "linecolor": "white",
           "ticks": "",
           "title": {
            "standoff": 15
           },
           "zerolinecolor": "white",
           "zerolinewidth": 2
          }
         }
        },
        "title": {
         "text": "Relationship Between Component 0 and Component 1",
         "x": 0.5
        },
        "xaxis": {
         "anchor": "y",
         "autorange": true,
         "domain": [
          0,
          1
         ],
         "gridcolor": "LightGray",
         "range": [
          -5.152695602966986,
          6.164459019247795
         ],
         "title": {
          "text": "Component 0"
         },
         "type": "linear"
        },
        "yaxis": {
         "anchor": "x",
         "autorange": true,
         "categoryarray": [
          6.6083704875045,
          -0.8996301150574124,
          -0.1875337571416396,
          3.0305732067309163,
          0.9766208665290156,
          4.24374247930884,
          0.9480714038178925,
          -2.2429254931407936,
          0.45965095454079385,
          -1.0056951491531536,
          -2.8250266174169174,
          1.7581684981908885,
          0.03948599930236945,
          -2.915650956747018,
          -0.8423087308394702,
          -2.3248162513408808,
          -1.5121233423392766,
          -2.232277820889942,
          1.858972872396636,
          1.1401343290661081,
          0.24102147884865432,
          1.0055066296536328,
          -1.5742863760006316,
          -1.6769205858233998,
          1.9236671968590207,
          -1.5878091551581024,
          -0.4602482316517361,
          0.9101646482359691,
          -0.06748451142622192,
          -2.727649070534471,
          -0.9407720836969619,
          1.4998482533534274,
          -0.6208410559806395
         ],
         "categoryorder": "array",
         "domain": [
          0,
          1
         ],
         "gridcolor": "LightGray",
         "range": [
          -3.8013079374119165,
          7.494027468169398
         ],
         "title": {
          "text": "Component 1"
         },
         "type": "linear"
        }
       }
      },
      "image/png": "[encoded data removed]",
      "text/html": [
       "<div>                            <div id=\"6105f41c-c14e-406b-b160-5ea301fb3cfd\" class=\"plotly-graph-div\" style=\"height:525px; width:100%;\"></div>            <script type=\"text/javascript\">                require([\"plotly\"], function(Plotly) {                    window.PLOTLYENV=window.PLOTLYENV || {};                                    if (document.getElementById(\"6105f41c-c14e-406b-b160-5ea301fb3cfd\")) {                    Plotly.newPlot(                        \"6105f41c-c14e-406b-b160-5ea301fb3cfd\",                        [{\"customdata\":[[0]],\"hovertemplate\":\"1=%{y}\\u003cbr\\u003e0=%{marker.color}\\u003cbr\\u003eindex=%{customdata[0]}\\u003cextra\\u003e\\u003c\\u002fextra\\u003e\",\"legendgroup\":\"-0.6208410559806395\",\"marker\":{\"color\":[0.6954536338218592],\"coloraxis\":\"coloraxis\",\"symbol\":\"circle\",\"line\":{\"color\":\"DarkSlateGrey\",\"width\":2},\"size\":10},\"mode\":\"markers\",\"name\":\"-0.6208410559806395\",\"orientation\":\"v\",\"showlegend\":true,\"x\":[0.6954536338218592],\"xaxis\":\"x\",\"y\":[-0.6208410559806395],\"yaxis\":\"y\",\"type\":\"scatter\"},{\"customdata\":[[1]],\"hovertemplate\":\"1=%{y}\\u003cbr\\u003e0=%{marker.color}\\u003cbr\\u003eindex=%{customdata[0]}\\u003cextra\\u003e\\u003c\\u002fextra\\u003e\",\"legendgroup\":\"1.4998482533534274\",\"marker\":{\"color\":[5.5090668370119396],\"coloraxis\":\"coloraxis\",\"symbol\":\"diamond\",\"line\":{\"color\":\"DarkSlateGrey\",\"width\":2},\"size\":10},\"mode\":\"markers\",\"name\":\"1.4998482533534274\",\"orientation\":\"v\",\"showlegend\":true,\"x\":[5.5090668370119396],\"xaxis\":\"x\",\"y\":[1.4998482533534274],\"yaxis\":\"y\",\"type\":\"scatter\"},{\"customdata\":[[2]],\"hovertemplate\":\"1=%{y}\\u003cbr\\u003e0=%{marker.color}\\u003cbr\\u003eindex=%{customdata[0]}\\u003cextra\\u003e\\u003c\\u002fextra\\u003e\",\"legendgroup\":\"-0.9407720836969619\",\"marker\":{\"color\":[-0.3670159580973385],\"coloraxis\":\"coloraxis\",\"symbol\":\"square\",\"line\":{\"color\":\"DarkSlateGrey\",\"width\":2},\"size\":10},\"mode\":\"markers\",\"name\":\"-0.9407720836969619\",\"orientation\":\"v\",\"showlegend\":true,\"x\":[-0.3670159580973385],\"xaxis\":\"x\",\"y\":[-0.9407720836969619],\"yaxis\":\"y\",\"type\":\"scatter\"},{\"customdata\":[[3]],\"hovertemplate\":\"1=%{y}\\u003cbr\\u003e0=%{marker.color}\\u003cbr\\u003eindex=%{customdata[0]}\\u003cextra\\u003e\\u003c\\u002fextra\\u003e\",\"legendgroup\":\"-2.727649070534471\",\"marker\":{\"color\":[-1.9087975938328527],\"coloraxis\":\"coloraxis\",\"symbol\":\"x\",\"line\":{\"color\":\"DarkSlateGrey\",\"width\":2},\"size\":10},\"mode\":\"markers\",\"name\":\"-2.727649070534471\",\"orientation\":\"v\",\"showlegend\":true,\"x\":[-1.9087975938328527],\"xaxis\":\"x\",\"y\":[-2.727649070534471],\"yaxis\":\"y\",\"type\":\"scatter\"},{\"customdata\":[[4]],\"hovertemplate\":\"1=%{y}\\u003cbr\\u003e0=%{marker.color}\\u003cbr\\u003eindex=%{customdata[0]}\\u003cextra\\u003e\\u003c\\u002fextra\\u003e\",\"legendgroup\":\"-0.06748451142622192\",\"marker\":{\"color\":[-3.327597812672502],\"coloraxis\":\"coloraxis\",\"symbol\":\"cross\",\"line\":{\"color\":\"DarkSlateGrey\",\"width\":2},\"size\":10},\"mode\":\"markers\",\"name\":\"-0.06748451142622192\",\"orientation\":\"v\",\"showlegend\":true,\"x\":[-3.327597812672502],\"xaxis\":\"x\",\"y\":[-0.06748451142622192],\"yaxis\":\"y\",\"type\":\"scatter\"},{\"customdata\":[[5]],\"hovertemplate\":\"1=%{y}\\u003cbr\\u003e0=%{marker.color}\\u003cbr\\u003eindex=%{customdata[0]}\\u003cextra\\u003e\\u003c\\u002fextra\\u003e\",\"legendgroup\":\"0.9101646482359691\",\"marker\":{\"color\":[-0.906590154749418],\"coloraxis\":\"coloraxis\",\"symbol\":\"circle\",\"line\":{\"color\":\"DarkSlateGrey\",\"width\":2},\"size\":10},\"mode\":\"markers\",\"name\":\"0.9101646482359691\",\"orientation\":\"v\",\"showlegend\":true,\"x\":[-0.906590154749418],\"xaxis\":\"x\",\"y\":[0.9101646482359691],\"yaxis\":\"y\",\"type\":\"scatter\"},{\"customdata\":[[6]],\"hovertemplate\":\"1=%{y}\\u003cbr\\u003e0=%{marker.color}\\u003cbr\\u003eindex=%{customdata[0]}\\u003cextra\\u003e\\u003c\\u002fextra\\u003e\",\"legendgroup\":\"-0.4602482316517361\",\"marker\":{\"color\":[-1.4252632306529727],\"coloraxis\":\"coloraxis\",\"symbol\":\"diamond\",\"line\":{\"color\":\"DarkSlateGrey\",\"width\":2},\"size\":10},\"mode\":\"markers\",\"name\":\"-0.4602482316517361\",\"orientation\":\"v\",\"showlegend\":true,\"x\":[-1.4252632306529727],\"xaxis\":\"x\",\"y\":[-0.4602482316517361],\"yaxis\":\"y\",\"type\":\"scatter\"},{\"customdata\":[[7]],\"hovertemplate\":\"1=%{y}\\u003cbr\\u003e0=%{marker.color}\\u003cbr\\u003eindex=%{customdata[0]}\\u003cextra\\u003e\\u003c\\u002fextra\\u003e\",\"legendgroup\":\"-1.5878091551581024\",\"marker\":{\"color\":[0.6746088688573589],\"coloraxis\":\"coloraxis\",\"symbol\":\"square\",\"line\":{\"color\":\"DarkSlateGrey\",\"width\":2},\"size\":10},\"mode\":\"markers\",\"name\":\"-1.5878091551581024\",\"orientation\":\"v\",\"showlegend\":true,\"x\":[0.6746088688573589],\"xaxis\":\"x\",\"y\":[-1.5878091551581024],\"yaxis\":\"y\",\"type\":\"scatter\"},{\"customdata\":[[8]],\"hovertemplate\":\"1=%{y}\\u003cbr\\u003e0=%{marker.color}\\u003cbr\\u003eindex=%{customdata[0]}\\u003cextra\\u003e\\u003c\\u002fextra\\u003e\",\"legendgroup\":\"1.9236671968590207\",\"marker\":{\"color\":[2.285954221034675],\"coloraxis\":\"coloraxis\",\"symbol\":\"x\",\"line\":{\"color\":\"DarkSlateGrey\",\"width\":2},\"size\":10},\"mode\":\"markers\",\"name\":\"1.9236671968590207\",\"orientation\":\"v\",\"showlegend\":true,\"x\":[2.285954221034675],\"xaxis\":\"x\",\"y\":[1.9236671968590207],\"yaxis\":\"y\",\"type\":\"scatter\"},{\"customdata\":[[9]],\"hovertemplate\":\"1=%{y}\\u003cbr\\u003e0=%{marker.color}\\u003cbr\\u003eindex=%{customdata[0]}\\u003cextra\\u003e\\u003c\\u002fextra\\u003e\",\"legendgroup\":\"-1.6769205858233998\",\"marker\":{\"color\":[-0.8325334491694335],\"coloraxis\":\"coloraxis\",\"symbol\":\"cross\",\"line\":{\"color\":\"DarkSlateGrey\",\"width\":2},\"size\":10},\"mode\":\"markers\",\"name\":\"-1.6769205858233998\",\"orientation\":\"v\",\"showlegend\":true,\"x\":[-0.8325334491694335],\"xaxis\":\"x\",\"y\":[-1.6769205858233998],\"yaxis\":\"y\",\"type\":\"scatter\"},{\"customdata\":[[10]],\"hovertemplate\":\"1=%{y}\\u003cbr\\u003e0=%{marker.color}\\u003cbr\\u003eindex=%{customdata[0]}\\u003cextra\\u003e\\u003c\\u002fextra\\u003e\",\"legendgroup\":\"-1.5742863760006316\",\"marker\":{\"color\":[-3.753150767135634],\"coloraxis\":\"coloraxis\",\"symbol\":\"circle\",\"line\":{\"color\":\"DarkSlateGrey\",\"width\":2},\"size\":10},\"mode\":\"markers\",\"name\":\"-1.5742863760006316\",\"orientation\":\"v\",\"showlegend\":true,\"x\":[-3.753150767135634],\"xaxis\":\"x\",\"y\":[-1.5742863760006316],\"yaxis\":\"y\",\"type\":\"scatter\"},{\"customdata\":[[11]],\"hovertemplate\":\"1=%{y}\\u003cbr\\u003e0=%{marker.color}\\u003cbr\\u003eindex=%{customdata[0]}\\u003cextra\\u003e\\u003c\\u002fextra\\u003e\",\"legendgroup\":\"1.0055066296536328\",\"marker\":{\"color\":[3.4102624008113254],\"coloraxis\":\"coloraxis\",\"symbol\":\"diamond\",\"line\":{\"color\":\"DarkSlateGrey\",\"width\":2},\"size\":10},\"mode\":\"markers\",\"name\":\"1.0055066296536328\",\"orientation\":\"v\",\"showlegend\":true,\"x\":[3.4102624008113254],\"xaxis\":\"x\",\"y\":[1.0055066296536328],\"yaxis\":\"y\",\"type\":\"scatter\"},{\"customdata\":[[12]],\"hovertemplate\":\"1=%{y}\\u003cbr\\u003e0=%{marker.color}\\u003cbr\\u003eindex=%{customdata[0]}\\u003cextra\\u003e\\u003c\\u002fextra\\u003e\",\"legendgroup\":\"0.24102147884865432\",\"marker\":{\"color\":[3.5638220885926404],\"coloraxis\":\"coloraxis\",\"symbol\":\"square\",\"line\":{\"color\":\"DarkSlateGrey\",\"width\":2},\"size\":10},\"mode\":\"markers\",\"name\":\"0.24102147884865432\",\"orientation\":\"v\",\"showlegend\":true,\"x\":[3.5638220885926404],\"xaxis\":\"x\",\"y\":[0.24102147884865432],\"yaxis\":\"y\",\"type\":\"scatter\"},{\"customdata\":[[13]],\"hovertemplate\":\"1=%{y}\\u003cbr\\u003e0=%{marker.color}\\u003cbr\\u003eindex=%{customdata[0]}\\u003cextra\\u003e\\u003c\\u002fextra\\u003e\",\"legendgroup\":\"1.1401343290661081\",\"marker\":{\"color\":[-2.39179561560135],\"coloraxis\":\"coloraxis\",\"symbol\":\"x\",\"line\":{\"color\":\"DarkSlateGrey\",\"width\":2},\"size\":10},\"mode\":\"markers\",\"name\":\"1.1401343290661081\",\"orientation\":\"v\",\"showlegend\":true,\"x\":[-2.39179561560135],\"xaxis\":\"x\",\"y\":[1.1401343290661081],\"yaxis\":\"y\",\"type\":\"scatter\"},{\"customdata\":[[14]],\"hovertemplate\":\"1=%{y}\\u003cbr\\u003e0=%{marker.color}\\u003cbr\\u003eindex=%{customdata[0]}\\u003cextra\\u003e\\u003c\\u002fextra\\u003e\",\"legendgroup\":\"1.858972872396636\",\"marker\":{\"color\":[0.6487083211612855],\"coloraxis\":\"coloraxis\",\"symbol\":\"cross\",\"line\":{\"color\":\"DarkSlateGrey\",\"width\":2},\"size\":10},\"mode\":\"markers\",\"name\":\"1.858972872396636\",\"orientation\":\"v\",\"showlegend\":true,\"x\":[0.6487083211612855],\"xaxis\":\"x\",\"y\":[1.858972872396636],\"yaxis\":\"y\",\"type\":\"scatter\"},{\"customdata\":[[15]],\"hovertemplate\":\"1=%{y}\\u003cbr\\u003e0=%{marker.color}\\u003cbr\\u003eindex=%{customdata[0]}\\u003cextra\\u003e\\u003c\\u002fextra\\u003e\",\"legendgroup\":\"-2.232277820889942\",\"marker\":{\"color\":[-1.2589406226558726],\"coloraxis\":\"coloraxis\",\"symbol\":\"circle\",\"line\":{\"color\":\"DarkSlateGrey\",\"width\":2},\"size\":10},\"mode\":\"markers\",\"name\":\"-2.232277820889942\",\"orientation\":\"v\",\"showlegend\":true,\"x\":[-1.2589406226558726],\"xaxis\":\"x\",\"y\":[-2.232277820889942],\"yaxis\":\"y\",\"type\":\"scatter\"},{\"customdata\":[[16]],\"hovertemplate\":\"1=%{y}\\u003cbr\\u003e0=%{marker.color}\\u003cbr\\u003eindex=%{customdata[0]}\\u003cextra\\u003e\\u003c\\u002fextra\\u003e\",\"legendgroup\":\"-1.5121233423392766\",\"marker\":{\"color\":[-0.8409516686729178],\"coloraxis\":\"coloraxis\",\"symbol\":\"diamond\",\"line\":{\"color\":\"DarkSlateGrey\",\"width\":2},\"size\":10},\"mode\":\"markers\",\"name\":\"-1.5121233423392766\",\"orientation\":\"v\",\"showlegend\":true,\"x\":[-0.8409516686729178],\"xaxis\":\"x\",\"y\":[-1.5121233423392766],\"yaxis\":\"y\",\"type\":\"scatter\"},{\"customdata\":[[17]],\"hovertemplate\":\"1=%{y}\\u003cbr\\u003e0=%{marker.color}\\u003cbr\\u003eindex=%{customdata[0]}\\u003cextra\\u003e\\u003c\\u002fextra\\u003e\",\"legendgroup\":\"-2.3248162513408808\",\"marker\":{\"color\":[-0.4214924358327398],\"coloraxis\":\"coloraxis\",\"symbol\":\"square\",\"line\":{\"color\":\"DarkSlateGrey\",\"width\":2},\"size\":10},\"mode\":\"markers\",\"name\":\"-2.3248162513408808\",\"orientation\":\"v\",\"showlegend\":true,\"x\":[-0.4214924358327398],\"xaxis\":\"x\",\"y\":[-2.3248162513408808],\"yaxis\":\"y\",\"type\":\"scatter\"},{\"customdata\":[[18]],\"hovertemplate\":\"1=%{y}\\u003cbr\\u003e0=%{marker.color}\\u003cbr\\u003eindex=%{customdata[0]}\\u003cextra\\u003e\\u003c\\u002fextra\\u003e\",\"legendgroup\":\"-0.8423087308394702\",\"marker\":{\"color\":[3.484074109539211],\"coloraxis\":\"coloraxis\",\"symbol\":\"x\",\"line\":{\"color\":\"DarkSlateGrey\",\"width\":2},\"size\":10},\"mode\":\"markers\",\"name\":\"-0.8423087308394702\",\"orientation\":\"v\",\"showlegend\":true,\"x\":[3.484074109539211],\"xaxis\":\"x\",\"y\":[-0.8423087308394702],\"yaxis\":\"y\",\"type\":\"scatter\"},{\"customdata\":[[19]],\"hovertemplate\":\"1=%{y}\\u003cbr\\u003e0=%{marker.color}\\u003cbr\\u003eindex=%{customdata[0]}\\u003cextra\\u003e\\u003c\\u002fextra\\u003e\",\"legendgroup\":\"-2.915650956747018\",\"marker\":{\"color\":[1.694982247886265],\"coloraxis\":\"coloraxis\",\"symbol\":\"cross\",\"line\":{\"color\":\"DarkSlateGrey\",\"width\":2},\"size\":10},\"mode\":\"markers\",\"name\":\"-2.915650956747018\",\"orientation\":\"v\",\"showlegend\":true,\"x\":[1.694982247886265],\"xaxis\":\"x\",\"y\":[-2.915650956747018],\"yaxis\":\"y\",\"type\":\"scatter\"},{\"customdata\":[[20]],\"hovertemplate\":\"1=%{y}\\u003cbr\\u003e0=%{marker.color}\\u003cbr\\u003eindex=%{customdata[0]}\\u003cextra\\u003e\\u003c\\u002fextra\\u003e\",\"legendgroup\":\"0.03948599930236945\",\"marker\":{\"color\":[-0.7952952934848901],\"coloraxis\":\"coloraxis\",\"symbol\":\"circle\",\"line\":{\"color\":\"DarkSlateGrey\",\"width\":2},\"size\":10},\"mode\":\"markers\",\"name\":\"0.03948599930236945\",\"orientation\":\"v\",\"showlegend\":true,\"x\":[-0.7952952934848901],\"xaxis\":\"x\",\"y\":[0.03948599930236945],\"yaxis\":\"y\",\"type\":\"scatter\"},{\"customdata\":[[21]],\"hovertemplate\":\"1=%{y}\\u003cbr\\u003e0=%{marker.color}\\u003cbr\\u003eindex=%{customdata[0]}\\u003cextra\\u003e\\u003c\\u002fextra\\u003e\",\"legendgroup\":\"1.7581684981908885\",\"marker\":{\"color\":[1.2789441502454408],\"coloraxis\":\"coloraxis\",\"symbol\":\"diamond\",\"line\":{\"color\":\"DarkSlateGrey\",\"width\":2},\"size\":10},\"mode\":\"markers\",\"name\":\"1.7581684981908885\",\"orientation\":\"v\",\"showlegend\":true,\"x\":[1.2789441502454408],\"xaxis\":\"x\",\"y\":[1.7581684981908885],\"yaxis\":\"y\",\"type\":\"scatter\"},{\"customdata\":[[22]],\"hovertemplate\":\"1=%{y}\\u003cbr\\u003e0=%{marker.color}\\u003cbr\\u003eindex=%{customdata[0]}\\u003cextra\\u003e\\u003c\\u002fextra\\u003e\",\"legendgroup\":\"-2.8250266174169174\",\"marker\":{\"color\":[-0.05066420903188462],\"coloraxis\":\"coloraxis\",\"symbol\":\"square\",\"line\":{\"color\":\"DarkSlateGrey\",\"width\":2},\"size\":10},\"mode\":\"markers\",\"name\":\"-2.8250266174169174\",\"orientation\":\"v\",\"showlegend\":true,\"x\":[-0.05066420903188462],\"xaxis\":\"x\",\"y\":[-2.8250266174169174],\"yaxis\":\"y\",\"type\":\"scatter\"},{\"customdata\":[[23]],\"hovertemplate\":\"1=%{y}\\u003cbr\\u003e0=%{marker.color}\\u003cbr\\u003eindex=%{customdata[0]}\\u003cextra\\u003e\\u003c\\u002fextra\\u003e\",\"legendgroup\":\"-1.0056951491531536\",\"marker\":{\"color\":[2.4771140258831688],\"coloraxis\":\"coloraxis\",\"symbol\":\"x\",\"line\":{\"color\":\"DarkSlateGrey\",\"width\":2},\"size\":10},\"mode\":\"markers\",\"name\":\"-1.0056951491531536\",\"orientation\":\"v\",\"showlegend\":true,\"x\":[2.4771140258831688],\"xaxis\":\"x\",\"y\":[-1.0056951491531536],\"yaxis\":\"y\",\"type\":\"scatter\"},{\"customdata\":[[24]],\"hovertemplate\":\"1=%{y}\\u003cbr\\u003e0=%{marker.color}\\u003cbr\\u003eindex=%{customdata[0]}\\u003cextra\\u003e\\u003c\\u002fextra\\u003e\",\"legendgroup\":\"0.45965095454079385\",\"marker\":{\"color\":[2.128619912943591],\"coloraxis\":\"coloraxis\",\"symbol\":\"cross\",\"line\":{\"color\":\"DarkSlateGrey\",\"width\":2},\"size\":10},\"mode\":\"markers\",\"name\":\"0.45965095454079385\",\"orientation\":\"v\",\"showlegend\":true,\"x\":[2.128619912943591],\"xaxis\":\"x\",\"y\":[0.45965095454079385],\"yaxis\":\"y\",\"type\":\"scatter\"},{\"customdata\":[[25]],\"hovertemplate\":\"1=%{y}\\u003cbr\\u003e0=%{marker.color}\\u003cbr\\u003eindex=%{customdata[0]}\\u003cextra\\u003e\\u003c\\u002fextra\\u003e\",\"legendgroup\":\"-2.2429254931407936\",\"marker\":{\"color\":[-4.49730342073113],\"coloraxis\":\"coloraxis\",\"symbol\":\"circle\",\"line\":{\"color\":\"DarkSlateGrey\",\"width\":2},\"size\":10},\"mode\":\"markers\",\"name\":\"-2.2429254931407936\",\"orientation\":\"v\",\"showlegend\":true,\"x\":[-4.49730342073113],\"xaxis\":\"x\",\"y\":[-2.2429254931407936],\"yaxis\":\"y\",\"type\":\"scatter\"},{\"customdata\":[[26]],\"hovertemplate\":\"1=%{y}\\u003cbr\\u003e0=%{marker.color}\\u003cbr\\u003eindex=%{customdata[0]}\\u003cextra\\u003e\\u003c\\u002fextra\\u003e\",\"legendgroup\":\"0.9480714038178925\",\"marker\":{\"color\":[-0.1423387165754089],\"coloraxis\":\"coloraxis\",\"symbol\":\"diamond\",\"line\":{\"color\":\"DarkSlateGrey\",\"width\":2},\"size\":10},\"mode\":\"markers\",\"name\":\"0.9480714038178925\",\"orientation\":\"v\",\"showlegend\":true,\"x\":[-0.1423387165754089],\"xaxis\":\"x\",\"y\":[0.9480714038178925],\"yaxis\":\"y\",\"type\":\"scatter\"},{\"customdata\":[[27]],\"hovertemplate\":\"1=%{y}\\u003cbr\\u003e0=%{marker.color}\\u003cbr\\u003eindex=%{customdata[0]}\\u003cextra\\u003e\\u003c\\u002fextra\\u003e\",\"legendgroup\":\"4.24374247930884\",\"marker\":{\"color\":[-2.022167298934353],\"coloraxis\":\"coloraxis\",\"symbol\":\"square\",\"line\":{\"color\":\"DarkSlateGrey\",\"width\":2},\"size\":10},\"mode\":\"markers\",\"name\":\"4.24374247930884\",\"orientation\":\"v\",\"showlegend\":true,\"x\":[-2.022167298934353],\"xaxis\":\"x\",\"y\":[4.24374247930884],\"yaxis\":\"y\",\"type\":\"scatter\"},{\"customdata\":[[28]],\"hovertemplate\":\"1=%{y}\\u003cbr\\u003e0=%{marker.color}\\u003cbr\\u003eindex=%{customdata[0]}\\u003cextra\\u003e\\u003c\\u002fextra\\u003e\",\"legendgroup\":\"0.9766208665290156\",\"marker\":{\"color\":[0.5972302136366886],\"coloraxis\":\"coloraxis\",\"symbol\":\"x\",\"line\":{\"color\":\"DarkSlateGrey\",\"width\":2},\"size\":10},\"mode\":\"markers\",\"name\":\"0.9766208665290156\",\"orientation\":\"v\",\"showlegend\":true,\"x\":[0.5972302136366886],\"xaxis\":\"x\",\"y\":[0.9766208665290156],\"yaxis\":\"y\",\"type\":\"scatter\"},{\"customdata\":[[29]],\"hovertemplate\":\"1=%{y}\\u003cbr\\u003e0=%{marker.color}\\u003cbr\\u003eindex=%{customdata[0]}\\u003cextra\\u003e\\u003c\\u002fextra\\u003e\",\"legendgroup\":\"3.0305732067309163\",\"marker\":{\"color\":[-4.103883719665463],\"coloraxis\":\"coloraxis\",\"symbol\":\"cross\",\"line\":{\"color\":\"DarkSlateGrey\",\"width\":2},\"size\":10},\"mode\":\"markers\",\"name\":\"3.0305732067309163\",\"orientation\":\"v\",\"showlegend\":true,\"x\":[-4.103883719665463],\"xaxis\":\"x\",\"y\":[3.0305732067309163],\"yaxis\":\"y\",\"type\":\"scatter\"},{\"customdata\":[[30]],\"hovertemplate\":\"1=%{y}\\u003cbr\\u003e0=%{marker.color}\\u003cbr\\u003eindex=%{customdata[0]}\\u003cextra\\u003e\\u003c\\u002fextra\\u003e\",\"legendgroup\":\"-0.1875337571416396\",\"marker\":{\"color\":[1.4435697009802568],\"coloraxis\":\"coloraxis\",\"symbol\":\"circle\",\"line\":{\"color\":\"DarkSlateGrey\",\"width\":2},\"size\":10},\"mode\":\"markers\",\"name\":\"-0.1875337571416396\",\"orientation\":\"v\",\"showlegend\":true,\"x\":[1.4435697009802568],\"xaxis\":\"x\",\"y\":[-0.1875337571416396],\"yaxis\":\"y\",\"type\":\"scatter\"},{\"customdata\":[[31]],\"hovertemplate\":\"1=%{y}\\u003cbr\\u003e0=%{marker.color}\\u003cbr\\u003eindex=%{customdata[0]}\\u003cextra\\u003e\\u003c\\u002fextra\\u003e\",\"legendgroup\":\"-0.8996301150574124\",\"marker\":{\"color\":[1.1347837518901458],\"coloraxis\":\"coloraxis\",\"symbol\":\"diamond\",\"line\":{\"color\":\"DarkSlateGrey\",\"width\":2},\"size\":10},\"mode\":\"markers\",\"name\":\"-0.8996301150574124\",\"orientation\":\"v\",\"showlegend\":true,\"x\":[1.1347837518901458],\"xaxis\":\"x\",\"y\":[-0.8996301150574124],\"yaxis\":\"y\",\"type\":\"scatter\"},{\"customdata\":[[32]],\"hovertemplate\":\"1=%{y}\\u003cbr\\u003e0=%{marker.color}\\u003cbr\\u003eindex=%{customdata[0]}\\u003cextra\\u003e\\u003c\\u002fextra\\u003e\",\"legendgroup\":\"6.6083704875045\",\"marker\":{\"color\":[-1.9814125167996883],\"coloraxis\":\"coloraxis\",\"symbol\":\"square\",\"line\":{\"color\":\"DarkSlateGrey\",\"width\":2},\"size\":10},\"mode\":\"markers\",\"name\":\"6.6083704875045\",\"orientation\":\"v\",\"showlegend\":true,\"x\":[-1.9814125167996883],\"xaxis\":\"x\",\"y\":[6.6083704875045],\"yaxis\":\"y\",\"type\":\"scatter\"}],                        {\"template\":{\"data\":{\"histogram2dcontour\":[{\"type\":\"histogram2dcontour\",\"colorbar\":{\"outlinewidth\":0,\"ticks\":\"\"},\"colorscale\":[[0.0,\"#0d0887\"],[0.1111111111111111,\"#46039f\"],[0.2222222222222222,\"#7201a8\"],[0.3333333333333333,\"#9c179e\"],[0.4444444444444444,\"#bd3786\"],[0.5555555555555556,\"#d8576b\"],[0.6666666666666666,\"#ed7953\"],[0.7777777777777778,\"#fb9f3a\"],[0.8888888888888888,\"#fdca26\"],[1.0,\"#f0f921\"]]}],\"choropleth\":[{\"type\":\"choropleth\",\"colorbar\":{\"outlinewidth\":0,\"ticks\":\"\"}}],\"histogram2d\":[{\"type\":\"histogram2d\",\"colorbar\":{\"outlinewidth\":0,\"ticks\":\"\"},\"colorscale\":[[0.0,\"#0d0887\"],[0.1111111111111111,\"#46039f\"],[0.2222222222222222,\"#7201a8\"],[0.3333333333333333,\"#9c179e\"],[0.4444444444444444,\"#bd3786\"],[0.5555555555555556,\"#d8576b\"],[0.6666666666666666,\"#ed7953\"],[0.7777777777777778,\"#fb9f3a\"],[0.8888888888888888,\"#fdca26\"],[1.0,\"#f0f921\"]]}],\"heatmap\":[{\"type\":\"heatmap\",\"colorbar\":{\"outlinewidth\":0,\"ticks\":\"\"},\"colorscale\":[[0.0,\"#0d0887\"],[0.1111111111111111,\"#46039f\"],[0.2222222222222222,\"#7201a8\"],[0.3333333333333333,\"#9c179e\"],[0.4444444444444444,\"#bd3786\"],[0.5555555555555556,\"#d8576b\"],[0.6666666666666666,\"#ed7953\"],[0.7777777777777778,\"#fb9f3a\"],[0.8888888888888888,\"#fdca26\"],[1.0,\"#f0f921\"]]}],\"heatmapgl\":[{\"type\":\"heatmapgl\",\"colorbar\":{\"outlinewidth\":0,\"ticks\":\"\"},\"colorscale\":[[0.0,\"#0d0887\"],[0.1111111111111111,\"#46039f\"],[0.2222222222222222,\"#7201a8\"],[0.3333333333333333,\"#9c179e\"],[0.4444444444444444,\"#bd3786\"],[0.5555555555555556,\"#d8576b\"],[0.6666666666666666,\"#ed7953\"],[0.7777777777777778,\"#fb9f3a\"],[0.8888888888888888,\"#fdca26\"],[1.0,\"#f0f921\"]]}],\"contourcarpet\":[{\"type\":\"contourcarpet\",\"colorbar\":{\"outlinewidth\":0,\"ticks\":\"\"}}],\"contour\":[{\"type\":\"contour\",\"colorbar\":{\"outlinewidth\":0,\"ticks\":\"\"},\"colorscale\":[[0.0,\"#0d0887\"],[0.1111111111111111,\"#46039f\"],[0.2222222222222222,\"#7201a8\"],[0.3333333333333333,\"#9c179e\"],[0.4444444444444444,\"#bd3786\"],[0.5555555555555556,\"#d8576b\"],[0.6666666666666666,\"#ed7953\"],[0.7777777777777778,\"#fb9f3a\"],[0.8888888888888888,\"#fdca26\"],[1.0,\"#f0f921\"]]}],\"surface\":[{\"type\":\"surface\",\"colorbar\":{\"outlinewidth\":0,\"ticks\":\"\"},\"colorscale\":[[0.0,\"#0d0887\"],[0.1111111111111111,\"#46039f\"],[0.2222222222222222,\"#7201a8\"],[0.3333333333333333,\"#9c179e\"],[0.4444444444444444,\"#bd3786\"],[0.5555555555555556,\"#d8576b\"],[0.6666666666666666,\"#ed7953\"],[0.7777777777777778,\"#fb9f3a\"],[0.8888888888888888,\"#fdca26\"],[1.0,\"#f0f921\"]]}],\"mesh3d\":[{\"type\":\"mesh3d\",\"colorbar\":{\"outlinewidth\":0,\"ticks\":\"\"}}],\"scatter\":[{\"fillpattern\":{\"fillmode\":\"overlay\",\"size\":10,\"solidity\":0.2},\"type\":\"scatter\"}],\"parcoords\":[{\"type\":\"parcoords\",\"line\":{\"colorbar\":{\"outlinewidth\":0,\"ticks\":\"\"}}}],\"scatterpolargl\":[{\"type\":\"scatterpolargl\",\"marker\":{\"colorbar\":{\"outlinewidth\":0,\"ticks\":\"\"}}}],\"bar\":[{\"error_x\":{\"color\":\"#2a3f5f\"},\"error_y\":{\"color\":\"#2a3f5f\"},\"marker\":{\"line\":{\"color\":\"#E5ECF6\",\"width\":0.5},\"pattern\":{\"fillmode\":\"overlay\",\"size\":10,\"solidity\":0.2}},\"type\":\"bar\"}],\"scattergeo\":[{\"type\":\"scattergeo\",\"marker\":{\"colorbar\":{\"outlinewidth\":0,\"ticks\":\"\"}}}],\"scatterpolar\":[{\"type\":\"scatterpolar\",\"marker\":{\"colorbar\":{\"outlinewidth\":0,\"ticks\":\"\"}}}],\"histogram\":[{\"marker\":{\"pattern\":{\"fillmode\":\"overlay\",\"size\":10,\"solidity\":0.2}},\"type\":\"histogram\"}],\"scattergl\":[{\"type\":\"scattergl\",\"marker\":{\"colorbar\":{\"outlinewidth\":0,\"ticks\":\"\"}}}],\"scatter3d\":[{\"type\":\"scatter3d\",\"line\":{\"colorbar\":{\"outlinewidth\":0,\"ticks\":\"\"}},\"marker\":{\"colorbar\":{\"outlinewidth\":0,\"ticks\":\"\"}}}],\"scattermapbox\":[{\"type\":\"scattermapbox\",\"marker\":{\"colorbar\":{\"outlinewidth\":0,\"ticks\":\"\"}}}],\"scatterternary\":[{\"type\":\"scatterternary\",\"marker\":{\"colorbar\":{\"outlinewidth\":0,\"ticks\":\"\"}}}],\"scattercarpet\":[{\"type\":\"scattercarpet\",\"marker\":{\"colorbar\":{\"outlinewidth\":0,\"ticks\":\"\"}}}],\"carpet\":[{\"aaxis\":{\"endlinecolor\":\"#2a3f5f\",\"gridcolor\":\"white\",\"linecolor\":\"white\",\"minorgridcolor\":\"white\",\"startlinecolor\":\"#2a3f5f\"},\"baxis\":{\"endlinecolor\":\"#2a3f5f\",\"gridcolor\":\"white\",\"linecolor\":\"white\",\"minorgridcolor\":\"white\",\"startlinecolor\":\"#2a3f5f\"},\"type\":\"carpet\"}],\"table\":[{\"cells\":{\"fill\":{\"color\":\"#EBF0F8\"},\"line\":{\"color\":\"white\"}},\"header\":{\"fill\":{\"color\":\"#C8D4E3\"},\"line\":{\"color\":\"white\"}},\"type\":\"table\"}],\"barpolar\":[{\"marker\":{\"line\":{\"color\":\"#E5ECF6\",\"width\":0.5},\"pattern\":{\"fillmode\":\"overlay\",\"size\":10,\"solidity\":0.2}},\"type\":\"barpolar\"}],\"pie\":[{\"automargin\":true,\"type\":\"pie\"}]},\"layout\":{\"autotypenumbers\":\"strict\",\"colorway\":[\"#636efa\",\"#EF553B\",\"#00cc96\",\"#ab63fa\",\"#FFA15A\",\"#19d3f3\",\"#FF6692\",\"#B6E880\",\"#FF97FF\",\"#FECB52\"],\"font\":{\"color\":\"#2a3f5f\"},\"hovermode\":\"closest\",\"hoverlabel\":{\"align\":\"left\"},\"paper_bgcolor\":\"white\",\"plot_bgcolor\":\"#E5ECF6\",\"polar\":{\"bgcolor\":\"#E5ECF6\",\"angularaxis\":{\"gridcolor\":\"white\",\"linecolor\":\"white\",\"ticks\":\"\"},\"radialaxis\":{\"gridcolor\":\"white\",\"linecolor\":\"white\",\"ticks\":\"\"}},\"ternary\":{\"bgcolor\":\"#E5ECF6\",\"aaxis\":{\"gridcolor\":\"white\",\"linecolor\":\"white\",\"ticks\":\"\"},\"baxis\":{\"gridcolor\":\"white\",\"linecolor\":\"white\",\"ticks\":\"\"},\"caxis\":{\"gridcolor\":\"white\",\"linecolor\":\"white\",\"ticks\":\"\"}},\"coloraxis\":{\"colorbar\":{\"outlinewidth\":0,\"ticks\":\"\"}},\"colorscale\":{\"sequential\":[[0.0,\"#0d0887\"],[0.1111111111111111,\"#46039f\"],[0.2222222222222222,\"#7201a8\"],[0.3333333333333333,\"#9c179e\"],[0.4444444444444444,\"#bd3786\"],[0.5555555555555556,\"#d8576b\"],[0.6666666666666666,\"#ed7953\"],[0.7777777777777778,\"#fb9f3a\"],[0.8888888888888888,\"#fdca26\"],[1.0,\"#f0f921\"]],\"sequentialminus\":[[0.0,\"#0d0887\"],[0.1111111111111111,\"#46039f\"],[0.2222222222222222,\"#7201a8\"],[0.3333333333333333,\"#9c179e\"],[0.4444444444444444,\"#bd3786\"],[0.5555555555555556,\"#d8576b\"],[0.6666666666666666,\"#ed7953\"],[0.7777777777777778,\"#fb9f3a\"],[0.8888888888888888,\"#fdca26\"],[1.0,\"#f0f921\"]],\"diverging\":[[0,\"#8e0152\"],[0.1,\"#c51b7d\"],[0.2,\"#de77ae\"],[0.3,\"#f1b6da\"],[0.4,\"#fde0ef\"],[0.5,\"#f7f7f7\"],[0.6,\"#e6f5d0\"],[0.7,\"#b8e186\"],[0.8,\"#7fbc41\"],[0.9,\"#4d9221\"],[1,\"#276419\"]]},\"xaxis\":{\"gridcolor\":\"white\",\"linecolor\":\"white\",\"ticks\":\"\",\"title\":{\"standoff\":15},\"zerolinecolor\":\"white\",\"automargin\":true,\"zerolinewidth\":2},\"yaxis\":{\"gridcolor\":\"white\",\"linecolor\":\"white\",\"ticks\":\"\",\"title\":{\"standoff\":15},\"zerolinecolor\":\"white\",\"automargin\":true,\"zerolinewidth\":2},\"scene\":{\"xaxis\":{\"backgroundcolor\":\"#E5ECF6\",\"gridcolor\":\"white\",\"linecolor\":\"white\",\"showbackground\":true,\"ticks\":\"\",\"zerolinecolor\":\"white\",\"gridwidth\":2},\"yaxis\":{\"backgroundcolor\":\"#E5ECF6\",\"gridcolor\":\"white\",\"linecolor\":\"white\",\"showbackground\":true,\"ticks\":\"\",\"zerolinecolor\":\"white\",\"gridwidth\":2},\"zaxis\":{\"backgroundcolor\":\"#E5ECF6\",\"gridcolor\":\"white\",\"linecolor\":\"white\",\"showbackground\":true,\"ticks\":\"\",\"zerolinecolor\":\"white\",\"gridwidth\":2}},\"shapedefaults\":{\"line\":{\"color\":\"#2a3f5f\"}},\"annotationdefaults\":{\"arrowcolor\":\"#2a3f5f\",\"arrowhead\":0,\"arrowwidth\":1},\"geo\":{\"bgcolor\":\"white\",\"landcolor\":\"#E5ECF6\",\"subunitcolor\":\"white\",\"showland\":true,\"showlakes\":true,\"lakecolor\":\"white\"},\"title\":{\"x\":0.05},\"mapbox\":{\"style\":\"light\"}}},\"xaxis\":{\"anchor\":\"y\",\"domain\":[0.0,1.0],\"title\":{\"text\":\"Component 0\"},\"gridcolor\":\"LightGray\"},\"yaxis\":{\"anchor\":\"x\",\"domain\":[0.0,1.0],\"title\":{\"text\":\"Component 1\"},\"categoryorder\":\"array\",\"categoryarray\":[6.6083704875045,-0.8996301150574124,-0.1875337571416396,3.0305732067309163,0.9766208665290156,4.24374247930884,0.9480714038178925,-2.2429254931407936,0.45965095454079385,-1.0056951491531536,-2.8250266174169174,1.7581684981908885,0.03948599930236945,-2.915650956747018,-0.8423087308394702,-2.3248162513408808,-1.5121233423392766,-2.232277820889942,1.858972872396636,1.1401343290661081,0.24102147884865432,1.0055066296536328,-1.5742863760006316,-1.6769205858233998,1.9236671968590207,-1.5878091551581024,-0.4602482316517361,0.9101646482359691,-0.06748451142622192,-2.727649070534471,-0.9407720836969619,1.4998482533534274,-0.6208410559806395],\"gridcolor\":\"LightGray\"},\"coloraxis\":{\"colorbar\":{\"title\":{\"text\":\"0\"}},\"colorscale\":[[0.0,\"#0d0887\"],[0.1111111111111111,\"#46039f\"],[0.2222222222222222,\"#7201a8\"],[0.3333333333333333,\"#9c179e\"],[0.4444444444444444,\"#bd3786\"],[0.5555555555555556,\"#d8576b\"],[0.6666666666666666,\"#ed7953\"],[0.7777777777777778,\"#fb9f3a\"],[0.8888888888888888,\"#fdca26\"],[1.0,\"#f0f921\"]]},\"legend\":{\"title\":{\"text\":\"1\"},\"tracegroupgap\":0},\"margin\":{\"t\":60},\"title\":{\"text\":\"Relationship Between Component 0 and Component 1\",\"x\":0.5},\"paper_bgcolor\":\"LightSteelBlue\",\"plot_bgcolor\":\"Azure\",\"hovermode\":\"closest\"},                        {\"responsive\": true}                    ).then(function(){\n",
       "                            \n",
       "var gd = document.getElementById('6105f41c-c14e-406b-b160-5ea301fb3cfd');\n",
       "var x = new MutationObserver(function (mutations, observer) {{\n",
       "        var display = window.getComputedStyle(gd).display;\n",
       "        if (!display || display === 'none') {{\n",
       "            console.log([gd, 'removed!']);\n",
       "            Plotly.purge(gd);\n",
       "            observer.disconnect();\n",
       "        }}\n",
       "}});\n",
       "\n",
       "// Listen for the removal of the full notebook cells\n",
       "var notebookContainer = gd.closest('#notebook-container');\n",
       "if (notebookContainer) {{\n",
       "    x.observe(notebookContainer, {childList: true});\n",
       "}}\n",
       "\n",
       "// Listen for the clearing of the current output cell\n",
       "var outputEl = gd.closest('.output');\n",
       "if (outputEl) {{\n",
       "    x.observe(outputEl, {childList: true});\n",
       "}}\n",
       "\n",
       "                        })                };                });            </script>        </div>"
      ]
     },
     "metadata": {},
     "output_type": "display_data"
    }
   ],
   "source": [
    "compare_component_scores(first_day_scores, 0, 1)"
   ]
  },
  {
   "cell_type": "code",
   "execution_count": 41,
   "id": "b8775fff-c4d7-4ac3-887e-609e86ff178c",
   "metadata": {},
   "outputs": [
    {
     "data": {
      "application/vnd.plotly.v1+json": {
       "config": {
        "plotlyServerURL": "https://plot.ly"
       },
       "data": [
        {
         "customdata": [
          [
           0
          ]
         ],
         "hovertemplate": "2=%{y}<br>0=%{marker.color}<br>index=%{customdata[0]}<extra></extra>",
         "legendgroup": "0.19317333350007393",
         "marker": {
          "color": [
           0.6954536338218592
          ],
          "coloraxis": "coloraxis",
          "line": {
           "color": "DarkSlateGrey",
           "width": 2
          },
          "size": 10,
          "symbol": "circle"
         },
         "mode": "markers",
         "name": "0.19317333350007393",
         "orientation": "v",
         "showlegend": true,
         "type": "scatter",
         "x": [
          0.6954536338218592
         ],
         "xaxis": "x",
         "y": [
          0.19317333350007393
         ],
         "yaxis": "y"
        },
        {
         "customdata": [
          [
           1
          ]
         ],
         "hovertemplate": "2=%{y}<br>0=%{marker.color}<br>index=%{customdata[0]}<extra></extra>",
         "legendgroup": "0.5916612916627739",
         "marker": {
          "color": [
           5.5090668370119396
          ],
          "coloraxis": "coloraxis",
          "line": {
           "color": "DarkSlateGrey",
           "width": 2
          },
          "size": 10,
          "symbol": "diamond"
         },
         "mode": "markers",
         "name": "0.5916612916627739",
         "orientation": "v",
         "showlegend": true,
         "type": "scatter",
         "x": [
          5.5090668370119396
         ],
         "xaxis": "x",
         "y": [
          0.5916612916627739
         ],
         "yaxis": "y"
        },
        {
         "customdata": [
          [
           2
          ]
         ],
         "hovertemplate": "2=%{y}<br>0=%{marker.color}<br>index=%{customdata[0]}<extra></extra>",
         "legendgroup": "-1.3322572311639709",
         "marker": {
          "color": [
           -0.3670159580973385
          ],
          "coloraxis": "coloraxis",
          "line": {
           "color": "DarkSlateGrey",
           "width": 2
          },
          "size": 10,
          "symbol": "square"
         },
         "mode": "markers",
         "name": "-1.3322572311639709",
         "orientation": "v",
         "showlegend": true,
         "type": "scatter",
         "x": [
          -0.3670159580973385
         ],
         "xaxis": "x",
         "y": [
          -1.3322572311639709
         ],
         "yaxis": "y"
        },
        {
         "customdata": [
          [
           3
          ]
         ],
         "hovertemplate": "2=%{y}<br>0=%{marker.color}<br>index=%{customdata[0]}<extra></extra>",
         "legendgroup": "1.742018109770191",
         "marker": {
          "color": [
           -1.9087975938328527
          ],
          "coloraxis": "coloraxis",
          "line": {
           "color": "DarkSlateGrey",
           "width": 2
          },
          "size": 10,
          "symbol": "x"
         },
         "mode": "markers",
         "name": "1.742018109770191",
         "orientation": "v",
         "showlegend": true,
         "type": "scatter",
         "x": [
          -1.9087975938328527
         ],
         "xaxis": "x",
         "y": [
          1.742018109770191
         ],
         "yaxis": "y"
        },
        {
         "customdata": [
          [
           4
          ]
         ],
         "hovertemplate": "2=%{y}<br>0=%{marker.color}<br>index=%{customdata[0]}<extra></extra>",
         "legendgroup": "-0.6872451685640764",
         "marker": {
          "color": [
           -3.327597812672502
          ],
          "coloraxis": "coloraxis",
          "line": {
           "color": "DarkSlateGrey",
           "width": 2
          },
          "size": 10,
          "symbol": "cross"
         },
         "mode": "markers",
         "name": "-0.6872451685640764",
         "orientation": "v",
         "showlegend": true,
         "type": "scatter",
         "x": [
          -3.327597812672502
         ],
         "xaxis": "x",
         "y": [
          -0.6872451685640764
         ],
         "yaxis": "y"
        },
        {
         "customdata": [
          [
           5
          ]
         ],
         "hovertemplate": "2=%{y}<br>0=%{marker.color}<br>index=%{customdata[0]}<extra></extra>",
         "legendgroup": "-3.141507382067896",
         "marker": {
          "color": [
           -0.906590154749418
          ],
          "coloraxis": "coloraxis",
          "line": {
           "color": "DarkSlateGrey",
           "width": 2
          },
          "size": 10,
          "symbol": "circle"
         },
         "mode": "markers",
         "name": "-3.141507382067896",
         "orientation": "v",
         "showlegend": true,
         "type": "scatter",
         "x": [
          -0.906590154749418
         ],
         "xaxis": "x",
         "y": [
          -3.141507382067896
         ],
         "yaxis": "y"
        },
        {
         "customdata": [
          [
           6
          ]
         ],
         "hovertemplate": "2=%{y}<br>0=%{marker.color}<br>index=%{customdata[0]}<extra></extra>",
         "legendgroup": "-0.09459042634529309",
         "marker": {
          "color": [
           -1.4252632306529727
          ],
          "coloraxis": "coloraxis",
          "line": {
           "color": "DarkSlateGrey",
           "width": 2
          },
          "size": 10,
          "symbol": "diamond"
         },
         "mode": "markers",
         "name": "-0.09459042634529309",
         "orientation": "v",
         "showlegend": true,
         "type": "scatter",
         "x": [
          -1.4252632306529727
         ],
         "xaxis": "x",
         "y": [
          -0.09459042634529309
         ],
         "yaxis": "y"
        },
        {
         "customdata": [
          [
           7
          ]
         ],
         "hovertemplate": "2=%{y}<br>0=%{marker.color}<br>index=%{customdata[0]}<extra></extra>",
         "legendgroup": "1.7378012577640753",
         "marker": {
          "color": [
           0.6746088688573589
          ],
          "coloraxis": "coloraxis",
          "line": {
           "color": "DarkSlateGrey",
           "width": 2
          },
          "size": 10,
          "symbol": "square"
         },
         "mode": "markers",
         "name": "1.7378012577640753",
         "orientation": "v",
         "showlegend": true,
         "type": "scatter",
         "x": [
          0.6746088688573589
         ],
         "xaxis": "x",
         "y": [
          1.7378012577640753
         ],
         "yaxis": "y"
        },
        {
         "customdata": [
          [
           8
          ]
         ],
         "hovertemplate": "2=%{y}<br>0=%{marker.color}<br>index=%{customdata[0]}<extra></extra>",
         "legendgroup": "-3.7104212932186185",
         "marker": {
          "color": [
           2.285954221034675
          ],
          "coloraxis": "coloraxis",
          "line": {
           "color": "DarkSlateGrey",
           "width": 2
          },
          "size": 10,
          "symbol": "x"
         },
         "mode": "markers",
         "name": "-3.7104212932186185",
         "orientation": "v",
         "showlegend": true,
         "type": "scatter",
         "x": [
          2.285954221034675
         ],
         "xaxis": "x",
         "y": [
          -3.7104212932186185
         ],
         "yaxis": "y"
        },
        {
         "customdata": [
          [
           9
          ]
         ],
         "hovertemplate": "2=%{y}<br>0=%{marker.color}<br>index=%{customdata[0]}<extra></extra>",
         "legendgroup": "0.7783300250691578",
         "marker": {
          "color": [
           -0.8325334491694335
          ],
          "coloraxis": "coloraxis",
          "line": {
           "color": "DarkSlateGrey",
           "width": 2
          },
          "size": 10,
          "symbol": "cross"
         },
         "mode": "markers",
         "name": "0.7783300250691578",
         "orientation": "v",
         "showlegend": true,
         "type": "scatter",
         "x": [
          -0.8325334491694335
         ],
         "xaxis": "x",
         "y": [
          0.7783300250691578
         ],
         "yaxis": "y"
        },
        {
         "customdata": [
          [
           10
          ]
         ],
         "hovertemplate": "2=%{y}<br>0=%{marker.color}<br>index=%{customdata[0]}<extra></extra>",
         "legendgroup": "-0.17613857425544333",
         "marker": {
          "color": [
           -3.753150767135634
          ],
          "coloraxis": "coloraxis",
          "line": {
           "color": "DarkSlateGrey",
           "width": 2
          },
          "size": 10,
          "symbol": "circle"
         },
         "mode": "markers",
         "name": "-0.17613857425544333",
         "orientation": "v",
         "showlegend": true,
         "type": "scatter",
         "x": [
          -3.753150767135634
         ],
         "xaxis": "x",
         "y": [
          -0.17613857425544333
         ],
         "yaxis": "y"
        },
        {
         "customdata": [
          [
           11
          ]
         ],
         "hovertemplate": "2=%{y}<br>0=%{marker.color}<br>index=%{customdata[0]}<extra></extra>",
         "legendgroup": "-0.10388385069503328",
         "marker": {
          "color": [
           3.4102624008113254
          ],
          "coloraxis": "coloraxis",
          "line": {
           "color": "DarkSlateGrey",
           "width": 2
          },
          "size": 10,
          "symbol": "diamond"
         },
         "mode": "markers",
         "name": "-0.10388385069503328",
         "orientation": "v",
         "showlegend": true,
         "type": "scatter",
         "x": [
          3.4102624008113254
         ],
         "xaxis": "x",
         "y": [
          -0.10388385069503328
         ],
         "yaxis": "y"
        },
        {
         "customdata": [
          [
           12
          ]
         ],
         "hovertemplate": "2=%{y}<br>0=%{marker.color}<br>index=%{customdata[0]}<extra></extra>",
         "legendgroup": "0.6796134473292654",
         "marker": {
          "color": [
           3.5638220885926404
          ],
          "coloraxis": "coloraxis",
          "line": {
           "color": "DarkSlateGrey",
           "width": 2
          },
          "size": 10,
          "symbol": "square"
         },
         "mode": "markers",
         "name": "0.6796134473292654",
         "orientation": "v",
         "showlegend": true,
         "type": "scatter",
         "x": [
          3.5638220885926404
         ],
         "xaxis": "x",
         "y": [
          0.6796134473292654
         ],
         "yaxis": "y"
        },
        {
         "customdata": [
          [
           13
          ]
         ],
         "hovertemplate": "2=%{y}<br>0=%{marker.color}<br>index=%{customdata[0]}<extra></extra>",
         "legendgroup": "0.3493703832861457",
         "marker": {
          "color": [
           -2.39179561560135
          ],
          "coloraxis": "coloraxis",
          "line": {
           "color": "DarkSlateGrey",
           "width": 2
          },
          "size": 10,
          "symbol": "x"
         },
         "mode": "markers",
         "name": "0.3493703832861457",
         "orientation": "v",
         "showlegend": true,
         "type": "scatter",
         "x": [
          -2.39179561560135
         ],
         "xaxis": "x",
         "y": [
          0.3493703832861457
         ],
         "yaxis": "y"
        },
        {
         "customdata": [
          [
           14
          ]
         ],
         "hovertemplate": "2=%{y}<br>0=%{marker.color}<br>index=%{customdata[0]}<extra></extra>",
         "legendgroup": "-1.5049832576728088",
         "marker": {
          "color": [
           0.6487083211612855
          ],
          "coloraxis": "coloraxis",
          "line": {
           "color": "DarkSlateGrey",
           "width": 2
          },
          "size": 10,
          "symbol": "cross"
         },
         "mode": "markers",
         "name": "-1.5049832576728088",
         "orientation": "v",
         "showlegend": true,
         "type": "scatter",
         "x": [
          0.6487083211612855
         ],
         "xaxis": "x",
         "y": [
          -1.5049832576728088
         ],
         "yaxis": "y"
        },
        {
         "customdata": [
          [
           15
          ]
         ],
         "hovertemplate": "2=%{y}<br>0=%{marker.color}<br>index=%{customdata[0]}<extra></extra>",
         "legendgroup": "1.0230935119897069",
         "marker": {
          "color": [
           -1.2589406226558726
          ],
          "coloraxis": "coloraxis",
          "line": {
           "color": "DarkSlateGrey",
           "width": 2
          },
          "size": 10,
          "symbol": "circle"
         },
         "mode": "markers",
         "name": "1.0230935119897069",
         "orientation": "v",
         "showlegend": true,
         "type": "scatter",
         "x": [
          -1.2589406226558726
         ],
         "xaxis": "x",
         "y": [
          1.0230935119897069
         ],
         "yaxis": "y"
        },
        {
         "customdata": [
          [
           16
          ]
         ],
         "hovertemplate": "2=%{y}<br>0=%{marker.color}<br>index=%{customdata[0]}<extra></extra>",
         "legendgroup": "-0.6263381318372998",
         "marker": {
          "color": [
           -0.8409516686729178
          ],
          "coloraxis": "coloraxis",
          "line": {
           "color": "DarkSlateGrey",
           "width": 2
          },
          "size": 10,
          "symbol": "diamond"
         },
         "mode": "markers",
         "name": "-0.6263381318372998",
         "orientation": "v",
         "showlegend": true,
         "type": "scatter",
         "x": [
          -0.8409516686729178
         ],
         "xaxis": "x",
         "y": [
          -0.6263381318372998
         ],
         "yaxis": "y"
        },
        {
         "customdata": [
          [
           17
          ]
         ],
         "hovertemplate": "2=%{y}<br>0=%{marker.color}<br>index=%{customdata[0]}<extra></extra>",
         "legendgroup": "2.2118150285929317",
         "marker": {
          "color": [
           -0.4214924358327398
          ],
          "coloraxis": "coloraxis",
          "line": {
           "color": "DarkSlateGrey",
           "width": 2
          },
          "size": 10,
          "symbol": "square"
         },
         "mode": "markers",
         "name": "2.2118150285929317",
         "orientation": "v",
         "showlegend": true,
         "type": "scatter",
         "x": [
          -0.4214924358327398
         ],
         "xaxis": "x",
         "y": [
          2.2118150285929317
         ],
         "yaxis": "y"
        },
        {
         "customdata": [
          [
           18
          ]
         ],
         "hovertemplate": "2=%{y}<br>0=%{marker.color}<br>index=%{customdata[0]}<extra></extra>",
         "legendgroup": "0.7867992081313897",
         "marker": {
          "color": [
           3.484074109539211
          ],
          "coloraxis": "coloraxis",
          "line": {
           "color": "DarkSlateGrey",
           "width": 2
          },
          "size": 10,
          "symbol": "x"
         },
         "mode": "markers",
         "name": "0.7867992081313897",
         "orientation": "v",
         "showlegend": true,
         "type": "scatter",
         "x": [
          3.484074109539211
         ],
         "xaxis": "x",
         "y": [
          0.7867992081313897
         ],
         "yaxis": "y"
        },
        {
         "customdata": [
          [
           19
          ]
         ],
         "hovertemplate": "2=%{y}<br>0=%{marker.color}<br>index=%{customdata[0]}<extra></extra>",
         "legendgroup": "2.244709143581993",
         "marker": {
          "color": [
           1.694982247886265
          ],
          "coloraxis": "coloraxis",
          "line": {
           "color": "DarkSlateGrey",
           "width": 2
          },
          "size": 10,
          "symbol": "cross"
         },
         "mode": "markers",
         "name": "2.244709143581993",
         "orientation": "v",
         "showlegend": true,
         "type": "scatter",
         "x": [
          1.694982247886265
         ],
         "xaxis": "x",
         "y": [
          2.244709143581993
         ],
         "yaxis": "y"
        },
        {
         "customdata": [
          [
           20
          ]
         ],
         "hovertemplate": "2=%{y}<br>0=%{marker.color}<br>index=%{customdata[0]}<extra></extra>",
         "legendgroup": "-2.4048408676162607",
         "marker": {
          "color": [
           -0.7952952934848901
          ],
          "coloraxis": "coloraxis",
          "line": {
           "color": "DarkSlateGrey",
           "width": 2
          },
          "size": 10,
          "symbol": "circle"
         },
         "mode": "markers",
         "name": "-2.4048408676162607",
         "orientation": "v",
         "showlegend": true,
         "type": "scatter",
         "x": [
          -0.7952952934848901
         ],
         "xaxis": "x",
         "y": [
          -2.4048408676162607
         ],
         "yaxis": "y"
        },
        {
         "customdata": [
          [
           21
          ]
         ],
         "hovertemplate": "2=%{y}<br>0=%{marker.color}<br>index=%{customdata[0]}<extra></extra>",
         "legendgroup": "0.5802597508205322",
         "marker": {
          "color": [
           1.2789441502454408
          ],
          "coloraxis": "coloraxis",
          "line": {
           "color": "DarkSlateGrey",
           "width": 2
          },
          "size": 10,
          "symbol": "diamond"
         },
         "mode": "markers",
         "name": "0.5802597508205322",
         "orientation": "v",
         "showlegend": true,
         "type": "scatter",
         "x": [
          1.2789441502454408
         ],
         "xaxis": "x",
         "y": [
          0.5802597508205322
         ],
         "yaxis": "y"
        },
        {
         "customdata": [
          [
           22
          ]
         ],
         "hovertemplate": "2=%{y}<br>0=%{marker.color}<br>index=%{customdata[0]}<extra></extra>",
         "legendgroup": "0.6951406459213667",
         "marker": {
          "color": [
           -0.05066420903188462
          ],
          "coloraxis": "coloraxis",
          "line": {
           "color": "DarkSlateGrey",
           "width": 2
          },
          "size": 10,
          "symbol": "square"
         },
         "mode": "markers",
         "name": "0.6951406459213667",
         "orientation": "v",
         "showlegend": true,
         "type": "scatter",
         "x": [
          -0.05066420903188462
         ],
         "xaxis": "x",
         "y": [
          0.6951406459213667
         ],
         "yaxis": "y"
        },
        {
         "customdata": [
          [
           23
          ]
         ],
         "hovertemplate": "2=%{y}<br>0=%{marker.color}<br>index=%{customdata[0]}<extra></extra>",
         "legendgroup": "-1.1675357978845344",
         "marker": {
          "color": [
           2.4771140258831688
          ],
          "coloraxis": "coloraxis",
          "line": {
           "color": "DarkSlateGrey",
           "width": 2
          },
          "size": 10,
          "symbol": "x"
         },
         "mode": "markers",
         "name": "-1.1675357978845344",
         "orientation": "v",
         "showlegend": true,
         "type": "scatter",
         "x": [
          2.4771140258831688
         ],
         "xaxis": "x",
         "y": [
          -1.1675357978845344
         ],
         "yaxis": "y"
        },
        {
         "customdata": [
          [
           24
          ]
         ],
         "hovertemplate": "2=%{y}<br>0=%{marker.color}<br>index=%{customdata[0]}<extra></extra>",
         "legendgroup": "-1.0615267126407206",
         "marker": {
          "color": [
           2.128619912943591
          ],
          "coloraxis": "coloraxis",
          "line": {
           "color": "DarkSlateGrey",
           "width": 2
          },
          "size": 10,
          "symbol": "cross"
         },
         "mode": "markers",
         "name": "-1.0615267126407206",
         "orientation": "v",
         "showlegend": true,
         "type": "scatter",
         "x": [
          2.128619912943591
         ],
         "xaxis": "x",
         "y": [
          -1.0615267126407206
         ],
         "yaxis": "y"
        },
        {
         "customdata": [
          [
           25
          ]
         ],
         "hovertemplate": "2=%{y}<br>0=%{marker.color}<br>index=%{customdata[0]}<extra></extra>",
         "legendgroup": "-1.1987565163056266",
         "marker": {
          "color": [
           -4.49730342073113
          ],
          "coloraxis": "coloraxis",
          "line": {
           "color": "DarkSlateGrey",
           "width": 2
          },
          "size": 10,
          "symbol": "circle"
         },
         "mode": "markers",
         "name": "-1.1987565163056266",
         "orientation": "v",
         "showlegend": true,
         "type": "scatter",
         "x": [
          -4.49730342073113
         ],
         "xaxis": "x",
         "y": [
          -1.1987565163056266
         ],
         "yaxis": "y"
        },
        {
         "customdata": [
          [
           26
          ]
         ],
         "hovertemplate": "2=%{y}<br>0=%{marker.color}<br>index=%{customdata[0]}<extra></extra>",
         "legendgroup": "-0.662652794990986",
         "marker": {
          "color": [
           -0.1423387165754089
          ],
          "coloraxis": "coloraxis",
          "line": {
           "color": "DarkSlateGrey",
           "width": 2
          },
          "size": 10,
          "symbol": "diamond"
         },
         "mode": "markers",
         "name": "-0.662652794990986",
         "orientation": "v",
         "showlegend": true,
         "type": "scatter",
         "x": [
          -0.1423387165754089
         ],
         "xaxis": "x",
         "y": [
          -0.662652794990986
         ],
         "yaxis": "y"
        },
        {
         "customdata": [
          [
           27
          ]
         ],
         "hovertemplate": "2=%{y}<br>0=%{marker.color}<br>index=%{customdata[0]}<extra></extra>",
         "legendgroup": "0.5304705271888973",
         "marker": {
          "color": [
           -2.022167298934353
          ],
          "coloraxis": "coloraxis",
          "line": {
           "color": "DarkSlateGrey",
           "width": 2
          },
          "size": 10,
          "symbol": "square"
         },
         "mode": "markers",
         "name": "0.5304705271888973",
         "orientation": "v",
         "showlegend": true,
         "type": "scatter",
         "x": [
          -2.022167298934353
         ],
         "xaxis": "x",
         "y": [
          0.5304705271888973
         ],
         "yaxis": "y"
        },
        {
         "customdata": [
          [
           28
          ]
         ],
         "hovertemplate": "2=%{y}<br>0=%{marker.color}<br>index=%{customdata[0]}<extra></extra>",
         "legendgroup": "1.8778111883386344",
         "marker": {
          "color": [
           0.5972302136366886
          ],
          "coloraxis": "coloraxis",
          "line": {
           "color": "DarkSlateGrey",
           "width": 2
          },
          "size": 10,
          "symbol": "x"
         },
         "mode": "markers",
         "name": "1.8778111883386344",
         "orientation": "v",
         "showlegend": true,
         "type": "scatter",
         "x": [
          0.5972302136366886
         ],
         "xaxis": "x",
         "y": [
          1.8778111883386344
         ],
         "yaxis": "y"
        },
        {
         "customdata": [
          [
           29
          ]
         ],
         "hovertemplate": "2=%{y}<br>0=%{marker.color}<br>index=%{customdata[0]}<extra></extra>",
         "legendgroup": "-0.8287142761732602",
         "marker": {
          "color": [
           -4.103883719665463
          ],
          "coloraxis": "coloraxis",
          "line": {
           "color": "DarkSlateGrey",
           "width": 2
          },
          "size": 10,
          "symbol": "cross"
         },
         "mode": "markers",
         "name": "-0.8287142761732602",
         "orientation": "v",
         "showlegend": true,
         "type": "scatter",
         "x": [
          -4.103883719665463
         ],
         "xaxis": "x",
         "y": [
          -0.8287142761732602
         ],
         "yaxis": "y"
        },
        {
         "customdata": [
          [
           30
          ]
         ],
         "hovertemplate": "2=%{y}<br>0=%{marker.color}<br>index=%{customdata[0]}<extra></extra>",
         "legendgroup": "0.04066681656985357",
         "marker": {
          "color": [
           1.4435697009802568
          ],
          "coloraxis": "coloraxis",
          "line": {
           "color": "DarkSlateGrey",
           "width": 2
          },
          "size": 10,
          "symbol": "circle"
         },
         "mode": "markers",
         "name": "0.04066681656985357",
         "orientation": "v",
         "showlegend": true,
         "type": "scatter",
         "x": [
          1.4435697009802568
         ],
         "xaxis": "x",
         "y": [
          0.04066681656985357
         ],
         "yaxis": "y"
        },
        {
         "customdata": [
          [
           31
          ]
         ],
         "hovertemplate": "2=%{y}<br>0=%{marker.color}<br>index=%{customdata[0]}<extra></extra>",
         "legendgroup": "-1.5636578848675038",
         "marker": {
          "color": [
           1.1347837518901458
          ],
          "coloraxis": "coloraxis",
          "line": {
           "color": "DarkSlateGrey",
           "width": 2
          },
          "size": 10,
          "symbol": "diamond"
         },
         "mode": "markers",
         "name": "-1.5636578848675038",
         "orientation": "v",
         "showlegend": true,
         "type": "scatter",
         "x": [
          1.1347837518901458
         ],
         "xaxis": "x",
         "y": [
          -1.5636578848675038
         ],
         "yaxis": "y"
        },
        {
         "customdata": [
          [
           32
          ]
         ],
         "hovertemplate": "2=%{y}<br>0=%{marker.color}<br>index=%{customdata[0]}<extra></extra>",
         "legendgroup": "4.202316496782345",
         "marker": {
          "color": [
           -1.9814125167996883
          ],
          "coloraxis": "coloraxis",
          "line": {
           "color": "DarkSlateGrey",
           "width": 2
          },
          "size": 10,
          "symbol": "square"
         },
         "mode": "markers",
         "name": "4.202316496782345",
         "orientation": "v",
         "showlegend": true,
         "type": "scatter",
         "x": [
          -1.9814125167996883
         ],
         "xaxis": "x",
         "y": [
          4.202316496782345
         ],
         "yaxis": "y"
        }
       ],
       "layout": {
        "autosize": true,
        "coloraxis": {
         "colorbar": {
          "title": {
           "text": "0"
          }
         },
         "colorscale": [
          [
           0,
           "#0d0887"
          ],
          [
           0.1111111111111111,
           "#46039f"
          ],
          [
           0.2222222222222222,
           "#7201a8"
          ],
          [
           0.3333333333333333,
           "#9c179e"
          ],
          [
           0.4444444444444444,
           "#bd3786"
          ],
          [
           0.5555555555555556,
           "#d8576b"
          ],
          [
           0.6666666666666666,
           "#ed7953"
          ],
          [
           0.7777777777777778,
           "#fb9f3a"
          ],
          [
           0.8888888888888888,
           "#fdca26"
          ],
          [
           1,
           "#f0f921"
          ]
         ]
        },
        "hovermode": "closest",
        "legend": {
         "title": {
          "text": "2"
         },
         "tracegroupgap": 0
        },
        "margin": {
         "t": 60
        },
        "paper_bgcolor": "LightSteelBlue",
        "plot_bgcolor": "Azure",
        "template": {
         "data": {
          "bar": [
           {
            "error_x": {
             "color": "#2a3f5f"
            },
            "error_y": {
             "color": "#2a3f5f"
            },
            "marker": {
             "line": {
              "color": "#E5ECF6",
              "width": 0.5
             },
             "pattern": {
              "fillmode": "overlay",
              "size": 10,
              "solidity": 0.2
             }
            },
            "type": "bar"
           }
          ],
          "barpolar": [
           {
            "marker": {
             "line": {
              "color": "#E5ECF6",
              "width": 0.5
             },
             "pattern": {
              "fillmode": "overlay",
              "size": 10,
              "solidity": 0.2
             }
            },
            "type": "barpolar"
           }
          ],
          "carpet": [
           {
            "aaxis": {
             "endlinecolor": "#2a3f5f",
             "gridcolor": "white",
             "linecolor": "white",
             "minorgridcolor": "white",
             "startlinecolor": "#2a3f5f"
            },
            "baxis": {
             "endlinecolor": "#2a3f5f",
             "gridcolor": "white",
             "linecolor": "white",
             "minorgridcolor": "white",
             "startlinecolor": "#2a3f5f"
            },
            "type": "carpet"
           }
          ],
          "choropleth": [
           {
            "colorbar": {
             "outlinewidth": 0,
             "ticks": ""
            },
            "type": "choropleth"
           }
          ],
          "contour": [
           {
            "colorbar": {
             "outlinewidth": 0,
             "ticks": ""
            },
            "colorscale": [
             [
              0,
              "#0d0887"
             ],
             [
              0.1111111111111111,
              "#46039f"
             ],
             [
              0.2222222222222222,
              "#7201a8"
             ],
             [
              0.3333333333333333,
              "#9c179e"
             ],
             [
              0.4444444444444444,
              "#bd3786"
             ],
             [
              0.5555555555555556,
              "#d8576b"
             ],
             [
              0.6666666666666666,
              "#ed7953"
             ],
             [
              0.7777777777777778,
              "#fb9f3a"
             ],
             [
              0.8888888888888888,
              "#fdca26"
             ],
             [
              1,
              "#f0f921"
             ]
            ],
            "type": "contour"
           }
          ],
          "contourcarpet": [
           {
            "colorbar": {
             "outlinewidth": 0,
             "ticks": ""
            },
            "type": "contourcarpet"
           }
          ],
          "heatmap": [
           {
            "colorbar": {
             "outlinewidth": 0,
             "ticks": ""
            },
            "colorscale": [
             [
              0,
              "#0d0887"
             ],
             [
              0.1111111111111111,
              "#46039f"
             ],
             [
              0.2222222222222222,
              "#7201a8"
             ],
             [
              0.3333333333333333,
              "#9c179e"
             ],
             [
              0.4444444444444444,
              "#bd3786"
             ],
             [
              0.5555555555555556,
              "#d8576b"
             ],
             [
              0.6666666666666666,
              "#ed7953"
             ],
             [
              0.7777777777777778,
              "#fb9f3a"
             ],
             [
              0.8888888888888888,
              "#fdca26"
             ],
             [
              1,
              "#f0f921"
             ]
            ],
            "type": "heatmap"
           }
          ],
          "heatmapgl": [
           {
            "colorbar": {
             "outlinewidth": 0,
             "ticks": ""
            },
            "colorscale": [
             [
              0,
              "#0d0887"
             ],
             [
              0.1111111111111111,
              "#46039f"
             ],
             [
              0.2222222222222222,
              "#7201a8"
             ],
             [
              0.3333333333333333,
              "#9c179e"
             ],
             [
              0.4444444444444444,
              "#bd3786"
             ],
             [
              0.5555555555555556,
              "#d8576b"
             ],
             [
              0.6666666666666666,
              "#ed7953"
             ],
             [
              0.7777777777777778,
              "#fb9f3a"
             ],
             [
              0.8888888888888888,
              "#fdca26"
             ],
             [
              1,
              "#f0f921"
             ]
            ],
            "type": "heatmapgl"
           }
          ],
          "histogram": [
           {
            "marker": {
             "pattern": {
              "fillmode": "overlay",
              "size": 10,
              "solidity": 0.2
             }
            },
            "type": "histogram"
           }
          ],
          "histogram2d": [
           {
            "colorbar": {
             "outlinewidth": 0,
             "ticks": ""
            },
            "colorscale": [
             [
              0,
              "#0d0887"
             ],
             [
              0.1111111111111111,
              "#46039f"
             ],
             [
              0.2222222222222222,
              "#7201a8"
             ],
             [
              0.3333333333333333,
              "#9c179e"
             ],
             [
              0.4444444444444444,
              "#bd3786"
             ],
             [
              0.5555555555555556,
              "#d8576b"
             ],
             [
              0.6666666666666666,
              "#ed7953"
             ],
             [
              0.7777777777777778,
              "#fb9f3a"
             ],
             [
              0.8888888888888888,
              "#fdca26"
             ],
             [
              1,
              "#f0f921"
             ]
            ],
            "type": "histogram2d"
           }
          ],
          "histogram2dcontour": [
           {
            "colorbar": {
             "outlinewidth": 0,
             "ticks": ""
            },
            "colorscale": [
             [
              0,
              "#0d0887"
             ],
             [
              0.1111111111111111,
              "#46039f"
             ],
             [
              0.2222222222222222,
              "#7201a8"
             ],
             [
              0.3333333333333333,
              "#9c179e"
             ],
             [
              0.4444444444444444,
              "#bd3786"
             ],
             [
              0.5555555555555556,
              "#d8576b"
             ],
             [
              0.6666666666666666,
              "#ed7953"
             ],
             [
              0.7777777777777778,
              "#fb9f3a"
             ],
             [
              0.8888888888888888,
              "#fdca26"
             ],
             [
              1,
              "#f0f921"
             ]
            ],
            "type": "histogram2dcontour"
           }
          ],
          "mesh3d": [
           {
            "colorbar": {
             "outlinewidth": 0,
             "ticks": ""
            },
            "type": "mesh3d"
           }
          ],
          "parcoords": [
           {
            "line": {
             "colorbar": {
              "outlinewidth": 0,
              "ticks": ""
             }
            },
            "type": "parcoords"
           }
          ],
          "pie": [
           {
            "automargin": true,
            "type": "pie"
           }
          ],
          "scatter": [
           {
            "fillpattern": {
             "fillmode": "overlay",
             "size": 10,
             "solidity": 0.2
            },
            "type": "scatter"
           }
          ],
          "scatter3d": [
           {
            "line": {
             "colorbar": {
              "outlinewidth": 0,
              "ticks": ""
             }
            },
            "marker": {
             "colorbar": {
              "outlinewidth": 0,
              "ticks": ""
             }
            },
            "type": "scatter3d"
           }
          ],
          "scattercarpet": [
           {
            "marker": {
             "colorbar": {
              "outlinewidth": 0,
              "ticks": ""
             }
            },
            "type": "scattercarpet"
           }
          ],
          "scattergeo": [
           {
            "marker": {
             "colorbar": {
              "outlinewidth": 0,
              "ticks": ""
             }
            },
            "type": "scattergeo"
           }
          ],
          "scattergl": [
           {
            "marker": {
             "colorbar": {
              "outlinewidth": 0,
              "ticks": ""
             }
            },
            "type": "scattergl"
           }
          ],
          "scattermapbox": [
           {
            "marker": {
             "colorbar": {
              "outlinewidth": 0,
              "ticks": ""
             }
            },
            "type": "scattermapbox"
           }
          ],
          "scatterpolar": [
           {
            "marker": {
             "colorbar": {
              "outlinewidth": 0,
              "ticks": ""
             }
            },
            "type": "scatterpolar"
           }
          ],
          "scatterpolargl": [
           {
            "marker": {
             "colorbar": {
              "outlinewidth": 0,
              "ticks": ""
             }
            },
            "type": "scatterpolargl"
           }
          ],
          "scatterternary": [
           {
            "marker": {
             "colorbar": {
              "outlinewidth": 0,
              "ticks": ""
             }
            },
            "type": "scatterternary"
           }
          ],
          "surface": [
           {
            "colorbar": {
             "outlinewidth": 0,
             "ticks": ""
            },
            "colorscale": [
             [
              0,
              "#0d0887"
             ],
             [
              0.1111111111111111,
              "#46039f"
             ],
             [
              0.2222222222222222,
              "#7201a8"
             ],
             [
              0.3333333333333333,
              "#9c179e"
             ],
             [
              0.4444444444444444,
              "#bd3786"
             ],
             [
              0.5555555555555556,
              "#d8576b"
             ],
             [
              0.6666666666666666,
              "#ed7953"
             ],
             [
              0.7777777777777778,
              "#fb9f3a"
             ],
             [
              0.8888888888888888,
              "#fdca26"
             ],
             [
              1,
              "#f0f921"
             ]
            ],
            "type": "surface"
           }
          ],
          "table": [
           {
            "cells": {
             "fill": {
              "color": "#EBF0F8"
             },
             "line": {
              "color": "white"
             }
            },
            "header": {
             "fill": {
              "color": "#C8D4E3"
             },
             "line": {
              "color": "white"
             }
            },
            "type": "table"
           }
          ]
         },
         "layout": {
          "annotationdefaults": {
           "arrowcolor": "#2a3f5f",
           "arrowhead": 0,
           "arrowwidth": 1
          },
          "autotypenumbers": "strict",
          "coloraxis": {
           "colorbar": {
            "outlinewidth": 0,
            "ticks": ""
           }
          },
          "colorscale": {
           "diverging": [
            [
             0,
             "#8e0152"
            ],
            [
             0.1,
             "#c51b7d"
            ],
            [
             0.2,
             "#de77ae"
            ],
            [
             0.3,
             "#f1b6da"
            ],
            [
             0.4,
             "#fde0ef"
            ],
            [
             0.5,
             "#f7f7f7"
            ],
            [
             0.6,
             "#e6f5d0"
            ],
            [
             0.7,
             "#b8e186"
            ],
            [
             0.8,
             "#7fbc41"
            ],
            [
             0.9,
             "#4d9221"
            ],
            [
             1,
             "#276419"
            ]
           ],
           "sequential": [
            [
             0,
             "#0d0887"
            ],
            [
             0.1111111111111111,
             "#46039f"
            ],
            [
             0.2222222222222222,
             "#7201a8"
            ],
            [
             0.3333333333333333,
             "#9c179e"
            ],
            [
             0.4444444444444444,
             "#bd3786"
            ],
            [
             0.5555555555555556,
             "#d8576b"
            ],
            [
             0.6666666666666666,
             "#ed7953"
            ],
            [
             0.7777777777777778,
             "#fb9f3a"
            ],
            [
             0.8888888888888888,
             "#fdca26"
            ],
            [
             1,
             "#f0f921"
            ]
           ],
           "sequentialminus": [
            [
             0,
             "#0d0887"
            ],
            [
             0.1111111111111111,
             "#46039f"
            ],
            [
             0.2222222222222222,
             "#7201a8"
            ],
            [
             0.3333333333333333,
             "#9c179e"
            ],
            [
             0.4444444444444444,
             "#bd3786"
            ],
            [
             0.5555555555555556,
             "#d8576b"
            ],
            [
             0.6666666666666666,
             "#ed7953"
            ],
            [
             0.7777777777777778,
             "#fb9f3a"
            ],
            [
             0.8888888888888888,
             "#fdca26"
            ],
            [
             1,
             "#f0f921"
            ]
           ]
          },
          "colorway": [
           "#636efa",
           "#EF553B",
           "#00cc96",
           "#ab63fa",
           "#FFA15A",
           "#19d3f3",
           "#FF6692",
           "#B6E880",
           "#FF97FF",
           "#FECB52"
          ],
          "font": {
           "color": "#2a3f5f"
          },
          "geo": {
           "bgcolor": "white",
           "lakecolor": "white",
           "landcolor": "#E5ECF6",
           "showlakes": true,
           "showland": true,
           "subunitcolor": "white"
          },
          "hoverlabel": {
           "align": "left"
          },
          "hovermode": "closest",
          "mapbox": {
           "style": "light"
          },
          "paper_bgcolor": "white",
          "plot_bgcolor": "#E5ECF6",
          "polar": {
           "angularaxis": {
            "gridcolor": "white",
            "linecolor": "white",
            "ticks": ""
           },
           "bgcolor": "#E5ECF6",
           "radialaxis": {
            "gridcolor": "white",
            "linecolor": "white",
            "ticks": ""
           }
          },
          "scene": {
           "xaxis": {
            "backgroundcolor": "#E5ECF6",
            "gridcolor": "white",
            "gridwidth": 2,
            "linecolor": "white",
            "showbackground": true,
            "ticks": "",
            "zerolinecolor": "white"
           },
           "yaxis": {
            "backgroundcolor": "#E5ECF6",
            "gridcolor": "white",
            "gridwidth": 2,
            "linecolor": "white",
            "showbackground": true,
            "ticks": "",
            "zerolinecolor": "white"
           },
           "zaxis": {
            "backgroundcolor": "#E5ECF6",
            "gridcolor": "white",
            "gridwidth": 2,
            "linecolor": "white",
            "showbackground": true,
            "ticks": "",
            "zerolinecolor": "white"
           }
          },
          "shapedefaults": {
           "line": {
            "color": "#2a3f5f"
           }
          },
          "ternary": {
           "aaxis": {
            "gridcolor": "white",
            "linecolor": "white",
            "ticks": ""
           },
           "baxis": {
            "gridcolor": "white",
            "linecolor": "white",
            "ticks": ""
           },
           "bgcolor": "#E5ECF6",
           "caxis": {
            "gridcolor": "white",
            "linecolor": "white",
            "ticks": ""
           }
          },
          "title": {
           "x": 0.05
          },
          "xaxis": {
           "automargin": true,
           "gridcolor": "white",
           "linecolor": "white",
           "ticks": "",
           "title": {
            "standoff": 15
           },
           "zerolinecolor": "white",
           "zerolinewidth": 2
          },
          "yaxis": {
           "automargin": true,
           "gridcolor": "white",
           "linecolor": "white",
           "ticks": "",
           "title": {
            "standoff": 15
           },
           "zerolinecolor": "white",
           "zerolinewidth": 2
          }
         }
        },
        "title": {
         "text": "Relationship Between Component 0 and Component 2",
         "x": 0.5
        },
        "xaxis": {
         "anchor": "y",
         "autorange": true,
         "domain": [
          0,
          1
         ],
         "gridcolor": "LightGray",
         "range": [
          -5.152695602966986,
          6.164459019247795
         ],
         "title": {
          "text": "Component 0"
         },
         "type": "linear"
        },
        "yaxis": {
         "anchor": "x",
         "autorange": true,
         "categoryarray": [
          4.202316496782345,
          -1.5636578848675038,
          0.04066681656985357,
          -0.8287142761732602,
          1.8778111883386344,
          0.5304705271888973,
          -0.662652794990986,
          -1.1987565163056266,
          -1.0615267126407206,
          -1.1675357978845344,
          0.6951406459213667,
          0.5802597508205322,
          -2.4048408676162607,
          2.244709143581993,
          0.7867992081313897,
          2.2118150285929317,
          -0.6263381318372998,
          1.0230935119897069,
          -1.5049832576728088,
          0.3493703832861457,
          0.6796134473292654,
          -0.10388385069503328,
          -0.17613857425544333,
          0.7783300250691578,
          -3.7104212932186185,
          1.7378012577640753,
          -0.09459042634529309,
          -3.141507382067896,
          -0.6872451685640764,
          1.742018109770191,
          -1.3322572311639709,
          0.5916612916627739,
          0.19317333350007393
         ],
         "categoryorder": "array",
         "domain": [
          0,
          1
         ],
         "gridcolor": "LightGray",
         "range": [
          -4.4462419232860935,
          4.93813712684982
         ],
         "title": {
          "text": "Component 2"
         },
         "type": "linear"
        }
       }
      },
      "image/png": "[encoded data removed]",
      "text/html": [
       "<div>                            <div id=\"30561b5e-a6c2-411a-9848-1316d3811f2f\" class=\"plotly-graph-div\" style=\"height:525px; width:100%;\"></div>            <script type=\"text/javascript\">                require([\"plotly\"], function(Plotly) {                    window.PLOTLYENV=window.PLOTLYENV || {};                                    if (document.getElementById(\"30561b5e-a6c2-411a-9848-1316d3811f2f\")) {                    Plotly.newPlot(                        \"30561b5e-a6c2-411a-9848-1316d3811f2f\",                        [{\"customdata\":[[0]],\"hovertemplate\":\"2=%{y}\\u003cbr\\u003e0=%{marker.color}\\u003cbr\\u003eindex=%{customdata[0]}\\u003cextra\\u003e\\u003c\\u002fextra\\u003e\",\"legendgroup\":\"0.19317333350007393\",\"marker\":{\"color\":[0.6954536338218592],\"coloraxis\":\"coloraxis\",\"symbol\":\"circle\",\"line\":{\"color\":\"DarkSlateGrey\",\"width\":2},\"size\":10},\"mode\":\"markers\",\"name\":\"0.19317333350007393\",\"orientation\":\"v\",\"showlegend\":true,\"x\":[0.6954536338218592],\"xaxis\":\"x\",\"y\":[0.19317333350007393],\"yaxis\":\"y\",\"type\":\"scatter\"},{\"customdata\":[[1]],\"hovertemplate\":\"2=%{y}\\u003cbr\\u003e0=%{marker.color}\\u003cbr\\u003eindex=%{customdata[0]}\\u003cextra\\u003e\\u003c\\u002fextra\\u003e\",\"legendgroup\":\"0.5916612916627739\",\"marker\":{\"color\":[5.5090668370119396],\"coloraxis\":\"coloraxis\",\"symbol\":\"diamond\",\"line\":{\"color\":\"DarkSlateGrey\",\"width\":2},\"size\":10},\"mode\":\"markers\",\"name\":\"0.5916612916627739\",\"orientation\":\"v\",\"showlegend\":true,\"x\":[5.5090668370119396],\"xaxis\":\"x\",\"y\":[0.5916612916627739],\"yaxis\":\"y\",\"type\":\"scatter\"},{\"customdata\":[[2]],\"hovertemplate\":\"2=%{y}\\u003cbr\\u003e0=%{marker.color}\\u003cbr\\u003eindex=%{customdata[0]}\\u003cextra\\u003e\\u003c\\u002fextra\\u003e\",\"legendgroup\":\"-1.3322572311639709\",\"marker\":{\"color\":[-0.3670159580973385],\"coloraxis\":\"coloraxis\",\"symbol\":\"square\",\"line\":{\"color\":\"DarkSlateGrey\",\"width\":2},\"size\":10},\"mode\":\"markers\",\"name\":\"-1.3322572311639709\",\"orientation\":\"v\",\"showlegend\":true,\"x\":[-0.3670159580973385],\"xaxis\":\"x\",\"y\":[-1.3322572311639709],\"yaxis\":\"y\",\"type\":\"scatter\"},{\"customdata\":[[3]],\"hovertemplate\":\"2=%{y}\\u003cbr\\u003e0=%{marker.color}\\u003cbr\\u003eindex=%{customdata[0]}\\u003cextra\\u003e\\u003c\\u002fextra\\u003e\",\"legendgroup\":\"1.742018109770191\",\"marker\":{\"color\":[-1.9087975938328527],\"coloraxis\":\"coloraxis\",\"symbol\":\"x\",\"line\":{\"color\":\"DarkSlateGrey\",\"width\":2},\"size\":10},\"mode\":\"markers\",\"name\":\"1.742018109770191\",\"orientation\":\"v\",\"showlegend\":true,\"x\":[-1.9087975938328527],\"xaxis\":\"x\",\"y\":[1.742018109770191],\"yaxis\":\"y\",\"type\":\"scatter\"},{\"customdata\":[[4]],\"hovertemplate\":\"2=%{y}\\u003cbr\\u003e0=%{marker.color}\\u003cbr\\u003eindex=%{customdata[0]}\\u003cextra\\u003e\\u003c\\u002fextra\\u003e\",\"legendgroup\":\"-0.6872451685640764\",\"marker\":{\"color\":[-3.327597812672502],\"coloraxis\":\"coloraxis\",\"symbol\":\"cross\",\"line\":{\"color\":\"DarkSlateGrey\",\"width\":2},\"size\":10},\"mode\":\"markers\",\"name\":\"-0.6872451685640764\",\"orientation\":\"v\",\"showlegend\":true,\"x\":[-3.327597812672502],\"xaxis\":\"x\",\"y\":[-0.6872451685640764],\"yaxis\":\"y\",\"type\":\"scatter\"},{\"customdata\":[[5]],\"hovertemplate\":\"2=%{y}\\u003cbr\\u003e0=%{marker.color}\\u003cbr\\u003eindex=%{customdata[0]}\\u003cextra\\u003e\\u003c\\u002fextra\\u003e\",\"legendgroup\":\"-3.141507382067896\",\"marker\":{\"color\":[-0.906590154749418],\"coloraxis\":\"coloraxis\",\"symbol\":\"circle\",\"line\":{\"color\":\"DarkSlateGrey\",\"width\":2},\"size\":10},\"mode\":\"markers\",\"name\":\"-3.141507382067896\",\"orientation\":\"v\",\"showlegend\":true,\"x\":[-0.906590154749418],\"xaxis\":\"x\",\"y\":[-3.141507382067896],\"yaxis\":\"y\",\"type\":\"scatter\"},{\"customdata\":[[6]],\"hovertemplate\":\"2=%{y}\\u003cbr\\u003e0=%{marker.color}\\u003cbr\\u003eindex=%{customdata[0]}\\u003cextra\\u003e\\u003c\\u002fextra\\u003e\",\"legendgroup\":\"-0.09459042634529309\",\"marker\":{\"color\":[-1.4252632306529727],\"coloraxis\":\"coloraxis\",\"symbol\":\"diamond\",\"line\":{\"color\":\"DarkSlateGrey\",\"width\":2},\"size\":10},\"mode\":\"markers\",\"name\":\"-0.09459042634529309\",\"orientation\":\"v\",\"showlegend\":true,\"x\":[-1.4252632306529727],\"xaxis\":\"x\",\"y\":[-0.09459042634529309],\"yaxis\":\"y\",\"type\":\"scatter\"},{\"customdata\":[[7]],\"hovertemplate\":\"2=%{y}\\u003cbr\\u003e0=%{marker.color}\\u003cbr\\u003eindex=%{customdata[0]}\\u003cextra\\u003e\\u003c\\u002fextra\\u003e\",\"legendgroup\":\"1.7378012577640753\",\"marker\":{\"color\":[0.6746088688573589],\"coloraxis\":\"coloraxis\",\"symbol\":\"square\",\"line\":{\"color\":\"DarkSlateGrey\",\"width\":2},\"size\":10},\"mode\":\"markers\",\"name\":\"1.7378012577640753\",\"orientation\":\"v\",\"showlegend\":true,\"x\":[0.6746088688573589],\"xaxis\":\"x\",\"y\":[1.7378012577640753],\"yaxis\":\"y\",\"type\":\"scatter\"},{\"customdata\":[[8]],\"hovertemplate\":\"2=%{y}\\u003cbr\\u003e0=%{marker.color}\\u003cbr\\u003eindex=%{customdata[0]}\\u003cextra\\u003e\\u003c\\u002fextra\\u003e\",\"legendgroup\":\"-3.7104212932186185\",\"marker\":{\"color\":[2.285954221034675],\"coloraxis\":\"coloraxis\",\"symbol\":\"x\",\"line\":{\"color\":\"DarkSlateGrey\",\"width\":2},\"size\":10},\"mode\":\"markers\",\"name\":\"-3.7104212932186185\",\"orientation\":\"v\",\"showlegend\":true,\"x\":[2.285954221034675],\"xaxis\":\"x\",\"y\":[-3.7104212932186185],\"yaxis\":\"y\",\"type\":\"scatter\"},{\"customdata\":[[9]],\"hovertemplate\":\"2=%{y}\\u003cbr\\u003e0=%{marker.color}\\u003cbr\\u003eindex=%{customdata[0]}\\u003cextra\\u003e\\u003c\\u002fextra\\u003e\",\"legendgroup\":\"0.7783300250691578\",\"marker\":{\"color\":[-0.8325334491694335],\"coloraxis\":\"coloraxis\",\"symbol\":\"cross\",\"line\":{\"color\":\"DarkSlateGrey\",\"width\":2},\"size\":10},\"mode\":\"markers\",\"name\":\"0.7783300250691578\",\"orientation\":\"v\",\"showlegend\":true,\"x\":[-0.8325334491694335],\"xaxis\":\"x\",\"y\":[0.7783300250691578],\"yaxis\":\"y\",\"type\":\"scatter\"},{\"customdata\":[[10]],\"hovertemplate\":\"2=%{y}\\u003cbr\\u003e0=%{marker.color}\\u003cbr\\u003eindex=%{customdata[0]}\\u003cextra\\u003e\\u003c\\u002fextra\\u003e\",\"legendgroup\":\"-0.17613857425544333\",\"marker\":{\"color\":[-3.753150767135634],\"coloraxis\":\"coloraxis\",\"symbol\":\"circle\",\"line\":{\"color\":\"DarkSlateGrey\",\"width\":2},\"size\":10},\"mode\":\"markers\",\"name\":\"-0.17613857425544333\",\"orientation\":\"v\",\"showlegend\":true,\"x\":[-3.753150767135634],\"xaxis\":\"x\",\"y\":[-0.17613857425544333],\"yaxis\":\"y\",\"type\":\"scatter\"},{\"customdata\":[[11]],\"hovertemplate\":\"2=%{y}\\u003cbr\\u003e0=%{marker.color}\\u003cbr\\u003eindex=%{customdata[0]}\\u003cextra\\u003e\\u003c\\u002fextra\\u003e\",\"legendgroup\":\"-0.10388385069503328\",\"marker\":{\"color\":[3.4102624008113254],\"coloraxis\":\"coloraxis\",\"symbol\":\"diamond\",\"line\":{\"color\":\"DarkSlateGrey\",\"width\":2},\"size\":10},\"mode\":\"markers\",\"name\":\"-0.10388385069503328\",\"orientation\":\"v\",\"showlegend\":true,\"x\":[3.4102624008113254],\"xaxis\":\"x\",\"y\":[-0.10388385069503328],\"yaxis\":\"y\",\"type\":\"scatter\"},{\"customdata\":[[12]],\"hovertemplate\":\"2=%{y}\\u003cbr\\u003e0=%{marker.color}\\u003cbr\\u003eindex=%{customdata[0]}\\u003cextra\\u003e\\u003c\\u002fextra\\u003e\",\"legendgroup\":\"0.6796134473292654\",\"marker\":{\"color\":[3.5638220885926404],\"coloraxis\":\"coloraxis\",\"symbol\":\"square\",\"line\":{\"color\":\"DarkSlateGrey\",\"width\":2},\"size\":10},\"mode\":\"markers\",\"name\":\"0.6796134473292654\",\"orientation\":\"v\",\"showlegend\":true,\"x\":[3.5638220885926404],\"xaxis\":\"x\",\"y\":[0.6796134473292654],\"yaxis\":\"y\",\"type\":\"scatter\"},{\"customdata\":[[13]],\"hovertemplate\":\"2=%{y}\\u003cbr\\u003e0=%{marker.color}\\u003cbr\\u003eindex=%{customdata[0]}\\u003cextra\\u003e\\u003c\\u002fextra\\u003e\",\"legendgroup\":\"0.3493703832861457\",\"marker\":{\"color\":[-2.39179561560135],\"coloraxis\":\"coloraxis\",\"symbol\":\"x\",\"line\":{\"color\":\"DarkSlateGrey\",\"width\":2},\"size\":10},\"mode\":\"markers\",\"name\":\"0.3493703832861457\",\"orientation\":\"v\",\"showlegend\":true,\"x\":[-2.39179561560135],\"xaxis\":\"x\",\"y\":[0.3493703832861457],\"yaxis\":\"y\",\"type\":\"scatter\"},{\"customdata\":[[14]],\"hovertemplate\":\"2=%{y}\\u003cbr\\u003e0=%{marker.color}\\u003cbr\\u003eindex=%{customdata[0]}\\u003cextra\\u003e\\u003c\\u002fextra\\u003e\",\"legendgroup\":\"-1.5049832576728088\",\"marker\":{\"color\":[0.6487083211612855],\"coloraxis\":\"coloraxis\",\"symbol\":\"cross\",\"line\":{\"color\":\"DarkSlateGrey\",\"width\":2},\"size\":10},\"mode\":\"markers\",\"name\":\"-1.5049832576728088\",\"orientation\":\"v\",\"showlegend\":true,\"x\":[0.6487083211612855],\"xaxis\":\"x\",\"y\":[-1.5049832576728088],\"yaxis\":\"y\",\"type\":\"scatter\"},{\"customdata\":[[15]],\"hovertemplate\":\"2=%{y}\\u003cbr\\u003e0=%{marker.color}\\u003cbr\\u003eindex=%{customdata[0]}\\u003cextra\\u003e\\u003c\\u002fextra\\u003e\",\"legendgroup\":\"1.0230935119897069\",\"marker\":{\"color\":[-1.2589406226558726],\"coloraxis\":\"coloraxis\",\"symbol\":\"circle\",\"line\":{\"color\":\"DarkSlateGrey\",\"width\":2},\"size\":10},\"mode\":\"markers\",\"name\":\"1.0230935119897069\",\"orientation\":\"v\",\"showlegend\":true,\"x\":[-1.2589406226558726],\"xaxis\":\"x\",\"y\":[1.0230935119897069],\"yaxis\":\"y\",\"type\":\"scatter\"},{\"customdata\":[[16]],\"hovertemplate\":\"2=%{y}\\u003cbr\\u003e0=%{marker.color}\\u003cbr\\u003eindex=%{customdata[0]}\\u003cextra\\u003e\\u003c\\u002fextra\\u003e\",\"legendgroup\":\"-0.6263381318372998\",\"marker\":{\"color\":[-0.8409516686729178],\"coloraxis\":\"coloraxis\",\"symbol\":\"diamond\",\"line\":{\"color\":\"DarkSlateGrey\",\"width\":2},\"size\":10},\"mode\":\"markers\",\"name\":\"-0.6263381318372998\",\"orientation\":\"v\",\"showlegend\":true,\"x\":[-0.8409516686729178],\"xaxis\":\"x\",\"y\":[-0.6263381318372998],\"yaxis\":\"y\",\"type\":\"scatter\"},{\"customdata\":[[17]],\"hovertemplate\":\"2=%{y}\\u003cbr\\u003e0=%{marker.color}\\u003cbr\\u003eindex=%{customdata[0]}\\u003cextra\\u003e\\u003c\\u002fextra\\u003e\",\"legendgroup\":\"2.2118150285929317\",\"marker\":{\"color\":[-0.4214924358327398],\"coloraxis\":\"coloraxis\",\"symbol\":\"square\",\"line\":{\"color\":\"DarkSlateGrey\",\"width\":2},\"size\":10},\"mode\":\"markers\",\"name\":\"2.2118150285929317\",\"orientation\":\"v\",\"showlegend\":true,\"x\":[-0.4214924358327398],\"xaxis\":\"x\",\"y\":[2.2118150285929317],\"yaxis\":\"y\",\"type\":\"scatter\"},{\"customdata\":[[18]],\"hovertemplate\":\"2=%{y}\\u003cbr\\u003e0=%{marker.color}\\u003cbr\\u003eindex=%{customdata[0]}\\u003cextra\\u003e\\u003c\\u002fextra\\u003e\",\"legendgroup\":\"0.7867992081313897\",\"marker\":{\"color\":[3.484074109539211],\"coloraxis\":\"coloraxis\",\"symbol\":\"x\",\"line\":{\"color\":\"DarkSlateGrey\",\"width\":2},\"size\":10},\"mode\":\"markers\",\"name\":\"0.7867992081313897\",\"orientation\":\"v\",\"showlegend\":true,\"x\":[3.484074109539211],\"xaxis\":\"x\",\"y\":[0.7867992081313897],\"yaxis\":\"y\",\"type\":\"scatter\"},{\"customdata\":[[19]],\"hovertemplate\":\"2=%{y}\\u003cbr\\u003e0=%{marker.color}\\u003cbr\\u003eindex=%{customdata[0]}\\u003cextra\\u003e\\u003c\\u002fextra\\u003e\",\"legendgroup\":\"2.244709143581993\",\"marker\":{\"color\":[1.694982247886265],\"coloraxis\":\"coloraxis\",\"symbol\":\"cross\",\"line\":{\"color\":\"DarkSlateGrey\",\"width\":2},\"size\":10},\"mode\":\"markers\",\"name\":\"2.244709143581993\",\"orientation\":\"v\",\"showlegend\":true,\"x\":[1.694982247886265],\"xaxis\":\"x\",\"y\":[2.244709143581993],\"yaxis\":\"y\",\"type\":\"scatter\"},{\"customdata\":[[20]],\"hovertemplate\":\"2=%{y}\\u003cbr\\u003e0=%{marker.color}\\u003cbr\\u003eindex=%{customdata[0]}\\u003cextra\\u003e\\u003c\\u002fextra\\u003e\",\"legendgroup\":\"-2.4048408676162607\",\"marker\":{\"color\":[-0.7952952934848901],\"coloraxis\":\"coloraxis\",\"symbol\":\"circle\",\"line\":{\"color\":\"DarkSlateGrey\",\"width\":2},\"size\":10},\"mode\":\"markers\",\"name\":\"-2.4048408676162607\",\"orientation\":\"v\",\"showlegend\":true,\"x\":[-0.7952952934848901],\"xaxis\":\"x\",\"y\":[-2.4048408676162607],\"yaxis\":\"y\",\"type\":\"scatter\"},{\"customdata\":[[21]],\"hovertemplate\":\"2=%{y}\\u003cbr\\u003e0=%{marker.color}\\u003cbr\\u003eindex=%{customdata[0]}\\u003cextra\\u003e\\u003c\\u002fextra\\u003e\",\"legendgroup\":\"0.5802597508205322\",\"marker\":{\"color\":[1.2789441502454408],\"coloraxis\":\"coloraxis\",\"symbol\":\"diamond\",\"line\":{\"color\":\"DarkSlateGrey\",\"width\":2},\"size\":10},\"mode\":\"markers\",\"name\":\"0.5802597508205322\",\"orientation\":\"v\",\"showlegend\":true,\"x\":[1.2789441502454408],\"xaxis\":\"x\",\"y\":[0.5802597508205322],\"yaxis\":\"y\",\"type\":\"scatter\"},{\"customdata\":[[22]],\"hovertemplate\":\"2=%{y}\\u003cbr\\u003e0=%{marker.color}\\u003cbr\\u003eindex=%{customdata[0]}\\u003cextra\\u003e\\u003c\\u002fextra\\u003e\",\"legendgroup\":\"0.6951406459213667\",\"marker\":{\"color\":[-0.05066420903188462],\"coloraxis\":\"coloraxis\",\"symbol\":\"square\",\"line\":{\"color\":\"DarkSlateGrey\",\"width\":2},\"size\":10},\"mode\":\"markers\",\"name\":\"0.6951406459213667\",\"orientation\":\"v\",\"showlegend\":true,\"x\":[-0.05066420903188462],\"xaxis\":\"x\",\"y\":[0.6951406459213667],\"yaxis\":\"y\",\"type\":\"scatter\"},{\"customdata\":[[23]],\"hovertemplate\":\"2=%{y}\\u003cbr\\u003e0=%{marker.color}\\u003cbr\\u003eindex=%{customdata[0]}\\u003cextra\\u003e\\u003c\\u002fextra\\u003e\",\"legendgroup\":\"-1.1675357978845344\",\"marker\":{\"color\":[2.4771140258831688],\"coloraxis\":\"coloraxis\",\"symbol\":\"x\",\"line\":{\"color\":\"DarkSlateGrey\",\"width\":2},\"size\":10},\"mode\":\"markers\",\"name\":\"-1.1675357978845344\",\"orientation\":\"v\",\"showlegend\":true,\"x\":[2.4771140258831688],\"xaxis\":\"x\",\"y\":[-1.1675357978845344],\"yaxis\":\"y\",\"type\":\"scatter\"},{\"customdata\":[[24]],\"hovertemplate\":\"2=%{y}\\u003cbr\\u003e0=%{marker.color}\\u003cbr\\u003eindex=%{customdata[0]}\\u003cextra\\u003e\\u003c\\u002fextra\\u003e\",\"legendgroup\":\"-1.0615267126407206\",\"marker\":{\"color\":[2.128619912943591],\"coloraxis\":\"coloraxis\",\"symbol\":\"cross\",\"line\":{\"color\":\"DarkSlateGrey\",\"width\":2},\"size\":10},\"mode\":\"markers\",\"name\":\"-1.0615267126407206\",\"orientation\":\"v\",\"showlegend\":true,\"x\":[2.128619912943591],\"xaxis\":\"x\",\"y\":[-1.0615267126407206],\"yaxis\":\"y\",\"type\":\"scatter\"},{\"customdata\":[[25]],\"hovertemplate\":\"2=%{y}\\u003cbr\\u003e0=%{marker.color}\\u003cbr\\u003eindex=%{customdata[0]}\\u003cextra\\u003e\\u003c\\u002fextra\\u003e\",\"legendgroup\":\"-1.1987565163056266\",\"marker\":{\"color\":[-4.49730342073113],\"coloraxis\":\"coloraxis\",\"symbol\":\"circle\",\"line\":{\"color\":\"DarkSlateGrey\",\"width\":2},\"size\":10},\"mode\":\"markers\",\"name\":\"-1.1987565163056266\",\"orientation\":\"v\",\"showlegend\":true,\"x\":[-4.49730342073113],\"xaxis\":\"x\",\"y\":[-1.1987565163056266],\"yaxis\":\"y\",\"type\":\"scatter\"},{\"customdata\":[[26]],\"hovertemplate\":\"2=%{y}\\u003cbr\\u003e0=%{marker.color}\\u003cbr\\u003eindex=%{customdata[0]}\\u003cextra\\u003e\\u003c\\u002fextra\\u003e\",\"legendgroup\":\"-0.662652794990986\",\"marker\":{\"color\":[-0.1423387165754089],\"coloraxis\":\"coloraxis\",\"symbol\":\"diamond\",\"line\":{\"color\":\"DarkSlateGrey\",\"width\":2},\"size\":10},\"mode\":\"markers\",\"name\":\"-0.662652794990986\",\"orientation\":\"v\",\"showlegend\":true,\"x\":[-0.1423387165754089],\"xaxis\":\"x\",\"y\":[-0.662652794990986],\"yaxis\":\"y\",\"type\":\"scatter\"},{\"customdata\":[[27]],\"hovertemplate\":\"2=%{y}\\u003cbr\\u003e0=%{marker.color}\\u003cbr\\u003eindex=%{customdata[0]}\\u003cextra\\u003e\\u003c\\u002fextra\\u003e\",\"legendgroup\":\"0.5304705271888973\",\"marker\":{\"color\":[-2.022167298934353],\"coloraxis\":\"coloraxis\",\"symbol\":\"square\",\"line\":{\"color\":\"DarkSlateGrey\",\"width\":2},\"size\":10},\"mode\":\"markers\",\"name\":\"0.5304705271888973\",\"orientation\":\"v\",\"showlegend\":true,\"x\":[-2.022167298934353],\"xaxis\":\"x\",\"y\":[0.5304705271888973],\"yaxis\":\"y\",\"type\":\"scatter\"},{\"customdata\":[[28]],\"hovertemplate\":\"2=%{y}\\u003cbr\\u003e0=%{marker.color}\\u003cbr\\u003eindex=%{customdata[0]}\\u003cextra\\u003e\\u003c\\u002fextra\\u003e\",\"legendgroup\":\"1.8778111883386344\",\"marker\":{\"color\":[0.5972302136366886],\"coloraxis\":\"coloraxis\",\"symbol\":\"x\",\"line\":{\"color\":\"DarkSlateGrey\",\"width\":2},\"size\":10},\"mode\":\"markers\",\"name\":\"1.8778111883386344\",\"orientation\":\"v\",\"showlegend\":true,\"x\":[0.5972302136366886],\"xaxis\":\"x\",\"y\":[1.8778111883386344],\"yaxis\":\"y\",\"type\":\"scatter\"},{\"customdata\":[[29]],\"hovertemplate\":\"2=%{y}\\u003cbr\\u003e0=%{marker.color}\\u003cbr\\u003eindex=%{customdata[0]}\\u003cextra\\u003e\\u003c\\u002fextra\\u003e\",\"legendgroup\":\"-0.8287142761732602\",\"marker\":{\"color\":[-4.103883719665463],\"coloraxis\":\"coloraxis\",\"symbol\":\"cross\",\"line\":{\"color\":\"DarkSlateGrey\",\"width\":2},\"size\":10},\"mode\":\"markers\",\"name\":\"-0.8287142761732602\",\"orientation\":\"v\",\"showlegend\":true,\"x\":[-4.103883719665463],\"xaxis\":\"x\",\"y\":[-0.8287142761732602],\"yaxis\":\"y\",\"type\":\"scatter\"},{\"customdata\":[[30]],\"hovertemplate\":\"2=%{y}\\u003cbr\\u003e0=%{marker.color}\\u003cbr\\u003eindex=%{customdata[0]}\\u003cextra\\u003e\\u003c\\u002fextra\\u003e\",\"legendgroup\":\"0.04066681656985357\",\"marker\":{\"color\":[1.4435697009802568],\"coloraxis\":\"coloraxis\",\"symbol\":\"circle\",\"line\":{\"color\":\"DarkSlateGrey\",\"width\":2},\"size\":10},\"mode\":\"markers\",\"name\":\"0.04066681656985357\",\"orientation\":\"v\",\"showlegend\":true,\"x\":[1.4435697009802568],\"xaxis\":\"x\",\"y\":[0.04066681656985357],\"yaxis\":\"y\",\"type\":\"scatter\"},{\"customdata\":[[31]],\"hovertemplate\":\"2=%{y}\\u003cbr\\u003e0=%{marker.color}\\u003cbr\\u003eindex=%{customdata[0]}\\u003cextra\\u003e\\u003c\\u002fextra\\u003e\",\"legendgroup\":\"-1.5636578848675038\",\"marker\":{\"color\":[1.1347837518901458],\"coloraxis\":\"coloraxis\",\"symbol\":\"diamond\",\"line\":{\"color\":\"DarkSlateGrey\",\"width\":2},\"size\":10},\"mode\":\"markers\",\"name\":\"-1.5636578848675038\",\"orientation\":\"v\",\"showlegend\":true,\"x\":[1.1347837518901458],\"xaxis\":\"x\",\"y\":[-1.5636578848675038],\"yaxis\":\"y\",\"type\":\"scatter\"},{\"customdata\":[[32]],\"hovertemplate\":\"2=%{y}\\u003cbr\\u003e0=%{marker.color}\\u003cbr\\u003eindex=%{customdata[0]}\\u003cextra\\u003e\\u003c\\u002fextra\\u003e\",\"legendgroup\":\"4.202316496782345\",\"marker\":{\"color\":[-1.9814125167996883],\"coloraxis\":\"coloraxis\",\"symbol\":\"square\",\"line\":{\"color\":\"DarkSlateGrey\",\"width\":2},\"size\":10},\"mode\":\"markers\",\"name\":\"4.202316496782345\",\"orientation\":\"v\",\"showlegend\":true,\"x\":[-1.9814125167996883],\"xaxis\":\"x\",\"y\":[4.202316496782345],\"yaxis\":\"y\",\"type\":\"scatter\"}],                        {\"template\":{\"data\":{\"histogram2dcontour\":[{\"type\":\"histogram2dcontour\",\"colorbar\":{\"outlinewidth\":0,\"ticks\":\"\"},\"colorscale\":[[0.0,\"#0d0887\"],[0.1111111111111111,\"#46039f\"],[0.2222222222222222,\"#7201a8\"],[0.3333333333333333,\"#9c179e\"],[0.4444444444444444,\"#bd3786\"],[0.5555555555555556,\"#d8576b\"],[0.6666666666666666,\"#ed7953\"],[0.7777777777777778,\"#fb9f3a\"],[0.8888888888888888,\"#fdca26\"],[1.0,\"#f0f921\"]]}],\"choropleth\":[{\"type\":\"choropleth\",\"colorbar\":{\"outlinewidth\":0,\"ticks\":\"\"}}],\"histogram2d\":[{\"type\":\"histogram2d\",\"colorbar\":{\"outlinewidth\":0,\"ticks\":\"\"},\"colorscale\":[[0.0,\"#0d0887\"],[0.1111111111111111,\"#46039f\"],[0.2222222222222222,\"#7201a8\"],[0.3333333333333333,\"#9c179e\"],[0.4444444444444444,\"#bd3786\"],[0.5555555555555556,\"#d8576b\"],[0.6666666666666666,\"#ed7953\"],[0.7777777777777778,\"#fb9f3a\"],[0.8888888888888888,\"#fdca26\"],[1.0,\"#f0f921\"]]}],\"heatmap\":[{\"type\":\"heatmap\",\"colorbar\":{\"outlinewidth\":0,\"ticks\":\"\"},\"colorscale\":[[0.0,\"#0d0887\"],[0.1111111111111111,\"#46039f\"],[0.2222222222222222,\"#7201a8\"],[0.3333333333333333,\"#9c179e\"],[0.4444444444444444,\"#bd3786\"],[0.5555555555555556,\"#d8576b\"],[0.6666666666666666,\"#ed7953\"],[0.7777777777777778,\"#fb9f3a\"],[0.8888888888888888,\"#fdca26\"],[1.0,\"#f0f921\"]]}],\"heatmapgl\":[{\"type\":\"heatmapgl\",\"colorbar\":{\"outlinewidth\":0,\"ticks\":\"\"},\"colorscale\":[[0.0,\"#0d0887\"],[0.1111111111111111,\"#46039f\"],[0.2222222222222222,\"#7201a8\"],[0.3333333333333333,\"#9c179e\"],[0.4444444444444444,\"#bd3786\"],[0.5555555555555556,\"#d8576b\"],[0.6666666666666666,\"#ed7953\"],[0.7777777777777778,\"#fb9f3a\"],[0.8888888888888888,\"#fdca26\"],[1.0,\"#f0f921\"]]}],\"contourcarpet\":[{\"type\":\"contourcarpet\",\"colorbar\":{\"outlinewidth\":0,\"ticks\":\"\"}}],\"contour\":[{\"type\":\"contour\",\"colorbar\":{\"outlinewidth\":0,\"ticks\":\"\"},\"colorscale\":[[0.0,\"#0d0887\"],[0.1111111111111111,\"#46039f\"],[0.2222222222222222,\"#7201a8\"],[0.3333333333333333,\"#9c179e\"],[0.4444444444444444,\"#bd3786\"],[0.5555555555555556,\"#d8576b\"],[0.6666666666666666,\"#ed7953\"],[0.7777777777777778,\"#fb9f3a\"],[0.8888888888888888,\"#fdca26\"],[1.0,\"#f0f921\"]]}],\"surface\":[{\"type\":\"surface\",\"colorbar\":{\"outlinewidth\":0,\"ticks\":\"\"},\"colorscale\":[[0.0,\"#0d0887\"],[0.1111111111111111,\"#46039f\"],[0.2222222222222222,\"#7201a8\"],[0.3333333333333333,\"#9c179e\"],[0.4444444444444444,\"#bd3786\"],[0.5555555555555556,\"#d8576b\"],[0.6666666666666666,\"#ed7953\"],[0.7777777777777778,\"#fb9f3a\"],[0.8888888888888888,\"#fdca26\"],[1.0,\"#f0f921\"]]}],\"mesh3d\":[{\"type\":\"mesh3d\",\"colorbar\":{\"outlinewidth\":0,\"ticks\":\"\"}}],\"scatter\":[{\"fillpattern\":{\"fillmode\":\"overlay\",\"size\":10,\"solidity\":0.2},\"type\":\"scatter\"}],\"parcoords\":[{\"type\":\"parcoords\",\"line\":{\"colorbar\":{\"outlinewidth\":0,\"ticks\":\"\"}}}],\"scatterpolargl\":[{\"type\":\"scatterpolargl\",\"marker\":{\"colorbar\":{\"outlinewidth\":0,\"ticks\":\"\"}}}],\"bar\":[{\"error_x\":{\"color\":\"#2a3f5f\"},\"error_y\":{\"color\":\"#2a3f5f\"},\"marker\":{\"line\":{\"color\":\"#E5ECF6\",\"width\":0.5},\"pattern\":{\"fillmode\":\"overlay\",\"size\":10,\"solidity\":0.2}},\"type\":\"bar\"}],\"scattergeo\":[{\"type\":\"scattergeo\",\"marker\":{\"colorbar\":{\"outlinewidth\":0,\"ticks\":\"\"}}}],\"scatterpolar\":[{\"type\":\"scatterpolar\",\"marker\":{\"colorbar\":{\"outlinewidth\":0,\"ticks\":\"\"}}}],\"histogram\":[{\"marker\":{\"pattern\":{\"fillmode\":\"overlay\",\"size\":10,\"solidity\":0.2}},\"type\":\"histogram\"}],\"scattergl\":[{\"type\":\"scattergl\",\"marker\":{\"colorbar\":{\"outlinewidth\":0,\"ticks\":\"\"}}}],\"scatter3d\":[{\"type\":\"scatter3d\",\"line\":{\"colorbar\":{\"outlinewidth\":0,\"ticks\":\"\"}},\"marker\":{\"colorbar\":{\"outlinewidth\":0,\"ticks\":\"\"}}}],\"scattermapbox\":[{\"type\":\"scattermapbox\",\"marker\":{\"colorbar\":{\"outlinewidth\":0,\"ticks\":\"\"}}}],\"scatterternary\":[{\"type\":\"scatterternary\",\"marker\":{\"colorbar\":{\"outlinewidth\":0,\"ticks\":\"\"}}}],\"scattercarpet\":[{\"type\":\"scattercarpet\",\"marker\":{\"colorbar\":{\"outlinewidth\":0,\"ticks\":\"\"}}}],\"carpet\":[{\"aaxis\":{\"endlinecolor\":\"#2a3f5f\",\"gridcolor\":\"white\",\"linecolor\":\"white\",\"minorgridcolor\":\"white\",\"startlinecolor\":\"#2a3f5f\"},\"baxis\":{\"endlinecolor\":\"#2a3f5f\",\"gridcolor\":\"white\",\"linecolor\":\"white\",\"minorgridcolor\":\"white\",\"startlinecolor\":\"#2a3f5f\"},\"type\":\"carpet\"}],\"table\":[{\"cells\":{\"fill\":{\"color\":\"#EBF0F8\"},\"line\":{\"color\":\"white\"}},\"header\":{\"fill\":{\"color\":\"#C8D4E3\"},\"line\":{\"color\":\"white\"}},\"type\":\"table\"}],\"barpolar\":[{\"marker\":{\"line\":{\"color\":\"#E5ECF6\",\"width\":0.5},\"pattern\":{\"fillmode\":\"overlay\",\"size\":10,\"solidity\":0.2}},\"type\":\"barpolar\"}],\"pie\":[{\"automargin\":true,\"type\":\"pie\"}]},\"layout\":{\"autotypenumbers\":\"strict\",\"colorway\":[\"#636efa\",\"#EF553B\",\"#00cc96\",\"#ab63fa\",\"#FFA15A\",\"#19d3f3\",\"#FF6692\",\"#B6E880\",\"#FF97FF\",\"#FECB52\"],\"font\":{\"color\":\"#2a3f5f\"},\"hovermode\":\"closest\",\"hoverlabel\":{\"align\":\"left\"},\"paper_bgcolor\":\"white\",\"plot_bgcolor\":\"#E5ECF6\",\"polar\":{\"bgcolor\":\"#E5ECF6\",\"angularaxis\":{\"gridcolor\":\"white\",\"linecolor\":\"white\",\"ticks\":\"\"},\"radialaxis\":{\"gridcolor\":\"white\",\"linecolor\":\"white\",\"ticks\":\"\"}},\"ternary\":{\"bgcolor\":\"#E5ECF6\",\"aaxis\":{\"gridcolor\":\"white\",\"linecolor\":\"white\",\"ticks\":\"\"},\"baxis\":{\"gridcolor\":\"white\",\"linecolor\":\"white\",\"ticks\":\"\"},\"caxis\":{\"gridcolor\":\"white\",\"linecolor\":\"white\",\"ticks\":\"\"}},\"coloraxis\":{\"colorbar\":{\"outlinewidth\":0,\"ticks\":\"\"}},\"colorscale\":{\"sequential\":[[0.0,\"#0d0887\"],[0.1111111111111111,\"#46039f\"],[0.2222222222222222,\"#7201a8\"],[0.3333333333333333,\"#9c179e\"],[0.4444444444444444,\"#bd3786\"],[0.5555555555555556,\"#d8576b\"],[0.6666666666666666,\"#ed7953\"],[0.7777777777777778,\"#fb9f3a\"],[0.8888888888888888,\"#fdca26\"],[1.0,\"#f0f921\"]],\"sequentialminus\":[[0.0,\"#0d0887\"],[0.1111111111111111,\"#46039f\"],[0.2222222222222222,\"#7201a8\"],[0.3333333333333333,\"#9c179e\"],[0.4444444444444444,\"#bd3786\"],[0.5555555555555556,\"#d8576b\"],[0.6666666666666666,\"#ed7953\"],[0.7777777777777778,\"#fb9f3a\"],[0.8888888888888888,\"#fdca26\"],[1.0,\"#f0f921\"]],\"diverging\":[[0,\"#8e0152\"],[0.1,\"#c51b7d\"],[0.2,\"#de77ae\"],[0.3,\"#f1b6da\"],[0.4,\"#fde0ef\"],[0.5,\"#f7f7f7\"],[0.6,\"#e6f5d0\"],[0.7,\"#b8e186\"],[0.8,\"#7fbc41\"],[0.9,\"#4d9221\"],[1,\"#276419\"]]},\"xaxis\":{\"gridcolor\":\"white\",\"linecolor\":\"white\",\"ticks\":\"\",\"title\":{\"standoff\":15},\"zerolinecolor\":\"white\",\"automargin\":true,\"zerolinewidth\":2},\"yaxis\":{\"gridcolor\":\"white\",\"linecolor\":\"white\",\"ticks\":\"\",\"title\":{\"standoff\":15},\"zerolinecolor\":\"white\",\"automargin\":true,\"zerolinewidth\":2},\"scene\":{\"xaxis\":{\"backgroundcolor\":\"#E5ECF6\",\"gridcolor\":\"white\",\"linecolor\":\"white\",\"showbackground\":true,\"ticks\":\"\",\"zerolinecolor\":\"white\",\"gridwidth\":2},\"yaxis\":{\"backgroundcolor\":\"#E5ECF6\",\"gridcolor\":\"white\",\"linecolor\":\"white\",\"showbackground\":true,\"ticks\":\"\",\"zerolinecolor\":\"white\",\"gridwidth\":2},\"zaxis\":{\"backgroundcolor\":\"#E5ECF6\",\"gridcolor\":\"white\",\"linecolor\":\"white\",\"showbackground\":true,\"ticks\":\"\",\"zerolinecolor\":\"white\",\"gridwidth\":2}},\"shapedefaults\":{\"line\":{\"color\":\"#2a3f5f\"}},\"annotationdefaults\":{\"arrowcolor\":\"#2a3f5f\",\"arrowhead\":0,\"arrowwidth\":1},\"geo\":{\"bgcolor\":\"white\",\"landcolor\":\"#E5ECF6\",\"subunitcolor\":\"white\",\"showland\":true,\"showlakes\":true,\"lakecolor\":\"white\"},\"title\":{\"x\":0.05},\"mapbox\":{\"style\":\"light\"}}},\"xaxis\":{\"anchor\":\"y\",\"domain\":[0.0,1.0],\"title\":{\"text\":\"Component 0\"},\"gridcolor\":\"LightGray\"},\"yaxis\":{\"anchor\":\"x\",\"domain\":[0.0,1.0],\"title\":{\"text\":\"Component 2\"},\"categoryorder\":\"array\",\"categoryarray\":[4.202316496782345,-1.5636578848675038,0.04066681656985357,-0.8287142761732602,1.8778111883386344,0.5304705271888973,-0.662652794990986,-1.1987565163056266,-1.0615267126407206,-1.1675357978845344,0.6951406459213667,0.5802597508205322,-2.4048408676162607,2.244709143581993,0.7867992081313897,2.2118150285929317,-0.6263381318372998,1.0230935119897069,-1.5049832576728088,0.3493703832861457,0.6796134473292654,-0.10388385069503328,-0.17613857425544333,0.7783300250691578,-3.7104212932186185,1.7378012577640753,-0.09459042634529309,-3.141507382067896,-0.6872451685640764,1.742018109770191,-1.3322572311639709,0.5916612916627739,0.19317333350007393],\"gridcolor\":\"LightGray\"},\"coloraxis\":{\"colorbar\":{\"title\":{\"text\":\"0\"}},\"colorscale\":[[0.0,\"#0d0887\"],[0.1111111111111111,\"#46039f\"],[0.2222222222222222,\"#7201a8\"],[0.3333333333333333,\"#9c179e\"],[0.4444444444444444,\"#bd3786\"],[0.5555555555555556,\"#d8576b\"],[0.6666666666666666,\"#ed7953\"],[0.7777777777777778,\"#fb9f3a\"],[0.8888888888888888,\"#fdca26\"],[1.0,\"#f0f921\"]]},\"legend\":{\"title\":{\"text\":\"2\"},\"tracegroupgap\":0},\"margin\":{\"t\":60},\"title\":{\"text\":\"Relationship Between Component 0 and Component 2\",\"x\":0.5},\"paper_bgcolor\":\"LightSteelBlue\",\"plot_bgcolor\":\"Azure\",\"hovermode\":\"closest\"},                        {\"responsive\": true}                    ).then(function(){\n",
       "                            \n",
       "var gd = document.getElementById('30561b5e-a6c2-411a-9848-1316d3811f2f');\n",
       "var x = new MutationObserver(function (mutations, observer) {{\n",
       "        var display = window.getComputedStyle(gd).display;\n",
       "        if (!display || display === 'none') {{\n",
       "            console.log([gd, 'removed!']);\n",
       "            Plotly.purge(gd);\n",
       "            observer.disconnect();\n",
       "        }}\n",
       "}});\n",
       "\n",
       "// Listen for the removal of the full notebook cells\n",
       "var notebookContainer = gd.closest('#notebook-container');\n",
       "if (notebookContainer) {{\n",
       "    x.observe(notebookContainer, {childList: true});\n",
       "}}\n",
       "\n",
       "// Listen for the clearing of the current output cell\n",
       "var outputEl = gd.closest('.output');\n",
       "if (outputEl) {{\n",
       "    x.observe(outputEl, {childList: true});\n",
       "}}\n",
       "\n",
       "                        })                };                });            </script>        </div>"
      ]
     },
     "metadata": {},
     "output_type": "display_data"
    }
   ],
   "source": [
    "compare_component_scores(first_day_scores, 0, 2)"
   ]
  },
  {
   "cell_type": "code",
   "execution_count": 42,
   "id": "0becd20b-aefd-42c8-8390-1e54b0e9ce65",
   "metadata": {},
   "outputs": [
    {
     "data": {
      "application/vnd.plotly.v1+json": {
       "config": {
        "plotlyServerURL": "https://plot.ly"
       },
       "data": [
        {
         "customdata": [
          [
           0
          ]
         ],
         "hovertemplate": "2=%{y}<br>1=%{marker.color}<br>index=%{customdata[0]}<extra></extra>",
         "legendgroup": "0.19317333350007393",
         "marker": {
          "color": [
           -0.6208410559806395
          ],
          "coloraxis": "coloraxis",
          "line": {
           "color": "DarkSlateGrey",
           "width": 2
          },
          "size": 10,
          "symbol": "circle"
         },
         "mode": "markers",
         "name": "0.19317333350007393",
         "orientation": "v",
         "showlegend": true,
         "type": "scatter",
         "x": [
          -0.6208410559806395
         ],
         "xaxis": "x",
         "y": [
          0.19317333350007393
         ],
         "yaxis": "y"
        },
        {
         "customdata": [
          [
           1
          ]
         ],
         "hovertemplate": "2=%{y}<br>1=%{marker.color}<br>index=%{customdata[0]}<extra></extra>",
         "legendgroup": "0.5916612916627739",
         "marker": {
          "color": [
           1.4998482533534274
          ],
          "coloraxis": "coloraxis",
          "line": {
           "color": "DarkSlateGrey",
           "width": 2
          },
          "size": 10,
          "symbol": "diamond"
         },
         "mode": "markers",
         "name": "0.5916612916627739",
         "orientation": "v",
         "showlegend": true,
         "type": "scatter",
         "x": [
          1.4998482533534274
         ],
         "xaxis": "x",
         "y": [
          0.5916612916627739
         ],
         "yaxis": "y"
        },
        {
         "customdata": [
          [
           2
          ]
         ],
         "hovertemplate": "2=%{y}<br>1=%{marker.color}<br>index=%{customdata[0]}<extra></extra>",
         "legendgroup": "-1.3322572311639709",
         "marker": {
          "color": [
           -0.9407720836969619
          ],
          "coloraxis": "coloraxis",
          "line": {
           "color": "DarkSlateGrey",
           "width": 2
          },
          "size": 10,
          "symbol": "square"
         },
         "mode": "markers",
         "name": "-1.3322572311639709",
         "orientation": "v",
         "showlegend": true,
         "type": "scatter",
         "x": [
          -0.9407720836969619
         ],
         "xaxis": "x",
         "y": [
          -1.3322572311639709
         ],
         "yaxis": "y"
        },
        {
         "customdata": [
          [
           3
          ]
         ],
         "hovertemplate": "2=%{y}<br>1=%{marker.color}<br>index=%{customdata[0]}<extra></extra>",
         "legendgroup": "1.742018109770191",
         "marker": {
          "color": [
           -2.727649070534471
          ],
          "coloraxis": "coloraxis",
          "line": {
           "color": "DarkSlateGrey",
           "width": 2
          },
          "size": 10,
          "symbol": "x"
         },
         "mode": "markers",
         "name": "1.742018109770191",
         "orientation": "v",
         "showlegend": true,
         "type": "scatter",
         "x": [
          -2.727649070534471
         ],
         "xaxis": "x",
         "y": [
          1.742018109770191
         ],
         "yaxis": "y"
        },
        {
         "customdata": [
          [
           4
          ]
         ],
         "hovertemplate": "2=%{y}<br>1=%{marker.color}<br>index=%{customdata[0]}<extra></extra>",
         "legendgroup": "-0.6872451685640764",
         "marker": {
          "color": [
           -0.06748451142622192
          ],
          "coloraxis": "coloraxis",
          "line": {
           "color": "DarkSlateGrey",
           "width": 2
          },
          "size": 10,
          "symbol": "cross"
         },
         "mode": "markers",
         "name": "-0.6872451685640764",
         "orientation": "v",
         "showlegend": true,
         "type": "scatter",
         "x": [
          -0.06748451142622192
         ],
         "xaxis": "x",
         "y": [
          -0.6872451685640764
         ],
         "yaxis": "y"
        },
        {
         "customdata": [
          [
           5
          ]
         ],
         "hovertemplate": "2=%{y}<br>1=%{marker.color}<br>index=%{customdata[0]}<extra></extra>",
         "legendgroup": "-3.141507382067896",
         "marker": {
          "color": [
           0.9101646482359691
          ],
          "coloraxis": "coloraxis",
          "line": {
           "color": "DarkSlateGrey",
           "width": 2
          },
          "size": 10,
          "symbol": "circle"
         },
         "mode": "markers",
         "name": "-3.141507382067896",
         "orientation": "v",
         "showlegend": true,
         "type": "scatter",
         "x": [
          0.9101646482359691
         ],
         "xaxis": "x",
         "y": [
          -3.141507382067896
         ],
         "yaxis": "y"
        },
        {
         "customdata": [
          [
           6
          ]
         ],
         "hovertemplate": "2=%{y}<br>1=%{marker.color}<br>index=%{customdata[0]}<extra></extra>",
         "legendgroup": "-0.09459042634529309",
         "marker": {
          "color": [
           -0.4602482316517361
          ],
          "coloraxis": "coloraxis",
          "line": {
           "color": "DarkSlateGrey",
           "width": 2
          },
          "size": 10,
          "symbol": "diamond"
         },
         "mode": "markers",
         "name": "-0.09459042634529309",
         "orientation": "v",
         "showlegend": true,
         "type": "scatter",
         "x": [
          -0.4602482316517361
         ],
         "xaxis": "x",
         "y": [
          -0.09459042634529309
         ],
         "yaxis": "y"
        },
        {
         "customdata": [
          [
           7
          ]
         ],
         "hovertemplate": "2=%{y}<br>1=%{marker.color}<br>index=%{customdata[0]}<extra></extra>",
         "legendgroup": "1.7378012577640753",
         "marker": {
          "color": [
           -1.5878091551581024
          ],
          "coloraxis": "coloraxis",
          "line": {
           "color": "DarkSlateGrey",
           "width": 2
          },
          "size": 10,
          "symbol": "square"
         },
         "mode": "markers",
         "name": "1.7378012577640753",
         "orientation": "v",
         "showlegend": true,
         "type": "scatter",
         "x": [
          -1.5878091551581024
         ],
         "xaxis": "x",
         "y": [
          1.7378012577640753
         ],
         "yaxis": "y"
        },
        {
         "customdata": [
          [
           8
          ]
         ],
         "hovertemplate": "2=%{y}<br>1=%{marker.color}<br>index=%{customdata[0]}<extra></extra>",
         "legendgroup": "-3.7104212932186185",
         "marker": {
          "color": [
           1.9236671968590207
          ],
          "coloraxis": "coloraxis",
          "line": {
           "color": "DarkSlateGrey",
           "width": 2
          },
          "size": 10,
          "symbol": "x"
         },
         "mode": "markers",
         "name": "-3.7104212932186185",
         "orientation": "v",
         "showlegend": true,
         "type": "scatter",
         "x": [
          1.9236671968590207
         ],
         "xaxis": "x",
         "y": [
          -3.7104212932186185
         ],
         "yaxis": "y"
        },
        {
         "customdata": [
          [
           9
          ]
         ],
         "hovertemplate": "2=%{y}<br>1=%{marker.color}<br>index=%{customdata[0]}<extra></extra>",
         "legendgroup": "0.7783300250691578",
         "marker": {
          "color": [
           -1.6769205858233998
          ],
          "coloraxis": "coloraxis",
          "line": {
           "color": "DarkSlateGrey",
           "width": 2
          },
          "size": 10,
          "symbol": "cross"
         },
         "mode": "markers",
         "name": "0.7783300250691578",
         "orientation": "v",
         "showlegend": true,
         "type": "scatter",
         "x": [
          -1.6769205858233998
         ],
         "xaxis": "x",
         "y": [
          0.7783300250691578
         ],
         "yaxis": "y"
        },
        {
         "customdata": [
          [
           10
          ]
         ],
         "hovertemplate": "2=%{y}<br>1=%{marker.color}<br>index=%{customdata[0]}<extra></extra>",
         "legendgroup": "-0.17613857425544333",
         "marker": {
          "color": [
           -1.5742863760006316
          ],
          "coloraxis": "coloraxis",
          "line": {
           "color": "DarkSlateGrey",
           "width": 2
          },
          "size": 10,
          "symbol": "circle"
         },
         "mode": "markers",
         "name": "-0.17613857425544333",
         "orientation": "v",
         "showlegend": true,
         "type": "scatter",
         "x": [
          -1.5742863760006316
         ],
         "xaxis": "x",
         "y": [
          -0.17613857425544333
         ],
         "yaxis": "y"
        },
        {
         "customdata": [
          [
           11
          ]
         ],
         "hovertemplate": "2=%{y}<br>1=%{marker.color}<br>index=%{customdata[0]}<extra></extra>",
         "legendgroup": "-0.10388385069503328",
         "marker": {
          "color": [
           1.0055066296536328
          ],
          "coloraxis": "coloraxis",
          "line": {
           "color": "DarkSlateGrey",
           "width": 2
          },
          "size": 10,
          "symbol": "diamond"
         },
         "mode": "markers",
         "name": "-0.10388385069503328",
         "orientation": "v",
         "showlegend": true,
         "type": "scatter",
         "x": [
          1.0055066296536328
         ],
         "xaxis": "x",
         "y": [
          -0.10388385069503328
         ],
         "yaxis": "y"
        },
        {
         "customdata": [
          [
           12
          ]
         ],
         "hovertemplate": "2=%{y}<br>1=%{marker.color}<br>index=%{customdata[0]}<extra></extra>",
         "legendgroup": "0.6796134473292654",
         "marker": {
          "color": [
           0.24102147884865432
          ],
          "coloraxis": "coloraxis",
          "line": {
           "color": "DarkSlateGrey",
           "width": 2
          },
          "size": 10,
          "symbol": "square"
         },
         "mode": "markers",
         "name": "0.6796134473292654",
         "orientation": "v",
         "showlegend": true,
         "type": "scatter",
         "x": [
          0.24102147884865432
         ],
         "xaxis": "x",
         "y": [
          0.6796134473292654
         ],
         "yaxis": "y"
        },
        {
         "customdata": [
          [
           13
          ]
         ],
         "hovertemplate": "2=%{y}<br>1=%{marker.color}<br>index=%{customdata[0]}<extra></extra>",
         "legendgroup": "0.3493703832861457",
         "marker": {
          "color": [
           1.1401343290661081
          ],
          "coloraxis": "coloraxis",
          "line": {
           "color": "DarkSlateGrey",
           "width": 2
          },
          "size": 10,
          "symbol": "x"
         },
         "mode": "markers",
         "name": "0.3493703832861457",
         "orientation": "v",
         "showlegend": true,
         "type": "scatter",
         "x": [
          1.1401343290661081
         ],
         "xaxis": "x",
         "y": [
          0.3493703832861457
         ],
         "yaxis": "y"
        },
        {
         "customdata": [
          [
           14
          ]
         ],
         "hovertemplate": "2=%{y}<br>1=%{marker.color}<br>index=%{customdata[0]}<extra></extra>",
         "legendgroup": "-1.5049832576728088",
         "marker": {
          "color": [
           1.858972872396636
          ],
          "coloraxis": "coloraxis",
          "line": {
           "color": "DarkSlateGrey",
           "width": 2
          },
          "size": 10,
          "symbol": "cross"
         },
         "mode": "markers",
         "name": "-1.5049832576728088",
         "orientation": "v",
         "showlegend": true,
         "type": "scatter",
         "x": [
          1.858972872396636
         ],
         "xaxis": "x",
         "y": [
          -1.5049832576728088
         ],
         "yaxis": "y"
        },
        {
         "customdata": [
          [
           15
          ]
         ],
         "hovertemplate": "2=%{y}<br>1=%{marker.color}<br>index=%{customdata[0]}<extra></extra>",
         "legendgroup": "1.0230935119897069",
         "marker": {
          "color": [
           -2.232277820889942
          ],
          "coloraxis": "coloraxis",
          "line": {
           "color": "DarkSlateGrey",
           "width": 2
          },
          "size": 10,
          "symbol": "circle"
         },
         "mode": "markers",
         "name": "1.0230935119897069",
         "orientation": "v",
         "showlegend": true,
         "type": "scatter",
         "x": [
          -2.232277820889942
         ],
         "xaxis": "x",
         "y": [
          1.0230935119897069
         ],
         "yaxis": "y"
        },
        {
         "customdata": [
          [
           16
          ]
         ],
         "hovertemplate": "2=%{y}<br>1=%{marker.color}<br>index=%{customdata[0]}<extra></extra>",
         "legendgroup": "-0.6263381318372998",
         "marker": {
          "color": [
           -1.5121233423392766
          ],
          "coloraxis": "coloraxis",
          "line": {
           "color": "DarkSlateGrey",
           "width": 2
          },
          "size": 10,
          "symbol": "diamond"
         },
         "mode": "markers",
         "name": "-0.6263381318372998",
         "orientation": "v",
         "showlegend": true,
         "type": "scatter",
         "x": [
          -1.5121233423392766
         ],
         "xaxis": "x",
         "y": [
          -0.6263381318372998
         ],
         "yaxis": "y"
        },
        {
         "customdata": [
          [
           17
          ]
         ],
         "hovertemplate": "2=%{y}<br>1=%{marker.color}<br>index=%{customdata[0]}<extra></extra>",
         "legendgroup": "2.2118150285929317",
         "marker": {
          "color": [
           -2.3248162513408808
          ],
          "coloraxis": "coloraxis",
          "line": {
           "color": "DarkSlateGrey",
           "width": 2
          },
          "size": 10,
          "symbol": "square"
         },
         "mode": "markers",
         "name": "2.2118150285929317",
         "orientation": "v",
         "showlegend": true,
         "type": "scatter",
         "x": [
          -2.3248162513408808
         ],
         "xaxis": "x",
         "y": [
          2.2118150285929317
         ],
         "yaxis": "y"
        },
        {
         "customdata": [
          [
           18
          ]
         ],
         "hovertemplate": "2=%{y}<br>1=%{marker.color}<br>index=%{customdata[0]}<extra></extra>",
         "legendgroup": "0.7867992081313897",
         "marker": {
          "color": [
           -0.8423087308394702
          ],
          "coloraxis": "coloraxis",
          "line": {
           "color": "DarkSlateGrey",
           "width": 2
          },
          "size": 10,
          "symbol": "x"
         },
         "mode": "markers",
         "name": "0.7867992081313897",
         "orientation": "v",
         "showlegend": true,
         "type": "scatter",
         "x": [
          -0.8423087308394702
         ],
         "xaxis": "x",
         "y": [
          0.7867992081313897
         ],
         "yaxis": "y"
        },
        {
         "customdata": [
          [
           19
          ]
         ],
         "hovertemplate": "2=%{y}<br>1=%{marker.color}<br>index=%{customdata[0]}<extra></extra>",
         "legendgroup": "2.244709143581993",
         "marker": {
          "color": [
           -2.915650956747018
          ],
          "coloraxis": "coloraxis",
          "line": {
           "color": "DarkSlateGrey",
           "width": 2
          },
          "size": 10,
          "symbol": "cross"
         },
         "mode": "markers",
         "name": "2.244709143581993",
         "orientation": "v",
         "showlegend": true,
         "type": "scatter",
         "x": [
          -2.915650956747018
         ],
         "xaxis": "x",
         "y": [
          2.244709143581993
         ],
         "yaxis": "y"
        },
        {
         "customdata": [
          [
           20
          ]
         ],
         "hovertemplate": "2=%{y}<br>1=%{marker.color}<br>index=%{customdata[0]}<extra></extra>",
         "legendgroup": "-2.4048408676162607",
         "marker": {
          "color": [
           0.03948599930236945
          ],
          "coloraxis": "coloraxis",
          "line": {
           "color": "DarkSlateGrey",
           "width": 2
          },
          "size": 10,
          "symbol": "circle"
         },
         "mode": "markers",
         "name": "-2.4048408676162607",
         "orientation": "v",
         "showlegend": true,
         "type": "scatter",
         "x": [
          0.03948599930236945
         ],
         "xaxis": "x",
         "y": [
          -2.4048408676162607
         ],
         "yaxis": "y"
        },
        {
         "customdata": [
          [
           21
          ]
         ],
         "hovertemplate": "2=%{y}<br>1=%{marker.color}<br>index=%{customdata[0]}<extra></extra>",
         "legendgroup": "0.5802597508205322",
         "marker": {
          "color": [
           1.7581684981908885
          ],
          "coloraxis": "coloraxis",
          "line": {
           "color": "DarkSlateGrey",
           "width": 2
          },
          "size": 10,
          "symbol": "diamond"
         },
         "mode": "markers",
         "name": "0.5802597508205322",
         "orientation": "v",
         "showlegend": true,
         "type": "scatter",
         "x": [
          1.7581684981908885
         ],
         "xaxis": "x",
         "y": [
          0.5802597508205322
         ],
         "yaxis": "y"
        },
        {
         "customdata": [
          [
           22
          ]
         ],
         "hovertemplate": "2=%{y}<br>1=%{marker.color}<br>index=%{customdata[0]}<extra></extra>",
         "legendgroup": "0.6951406459213667",
         "marker": {
          "color": [
           -2.8250266174169174
          ],
          "coloraxis": "coloraxis",
          "line": {
           "color": "DarkSlateGrey",
           "width": 2
          },
          "size": 10,
          "symbol": "square"
         },
         "mode": "markers",
         "name": "0.6951406459213667",
         "orientation": "v",
         "showlegend": true,
         "type": "scatter",
         "x": [
          -2.8250266174169174
         ],
         "xaxis": "x",
         "y": [
          0.6951406459213667
         ],
         "yaxis": "y"
        },
        {
         "customdata": [
          [
           23
          ]
         ],
         "hovertemplate": "2=%{y}<br>1=%{marker.color}<br>index=%{customdata[0]}<extra></extra>",
         "legendgroup": "-1.1675357978845344",
         "marker": {
          "color": [
           -1.0056951491531536
          ],
          "coloraxis": "coloraxis",
          "line": {
           "color": "DarkSlateGrey",
           "width": 2
          },
          "size": 10,
          "symbol": "x"
         },
         "mode": "markers",
         "name": "-1.1675357978845344",
         "orientation": "v",
         "showlegend": true,
         "type": "scatter",
         "x": [
          -1.0056951491531536
         ],
         "xaxis": "x",
         "y": [
          -1.1675357978845344
         ],
         "yaxis": "y"
        },
        {
         "customdata": [
          [
           24
          ]
         ],
         "hovertemplate": "2=%{y}<br>1=%{marker.color}<br>index=%{customdata[0]}<extra></extra>",
         "legendgroup": "-1.0615267126407206",
         "marker": {
          "color": [
           0.45965095454079385
          ],
          "coloraxis": "coloraxis",
          "line": {
           "color": "DarkSlateGrey",
           "width": 2
          },
          "size": 10,
          "symbol": "cross"
         },
         "mode": "markers",
         "name": "-1.0615267126407206",
         "orientation": "v",
         "showlegend": true,
         "type": "scatter",
         "x": [
          0.45965095454079385
         ],
         "xaxis": "x",
         "y": [
          -1.0615267126407206
         ],
         "yaxis": "y"
        },
        {
         "customdata": [
          [
           25
          ]
         ],
         "hovertemplate": "2=%{y}<br>1=%{marker.color}<br>index=%{customdata[0]}<extra></extra>",
         "legendgroup": "-1.1987565163056266",
         "marker": {
          "color": [
           -2.2429254931407936
          ],
          "coloraxis": "coloraxis",
          "line": {
           "color": "DarkSlateGrey",
           "width": 2
          },
          "size": 10,
          "symbol": "circle"
         },
         "mode": "markers",
         "name": "-1.1987565163056266",
         "orientation": "v",
         "showlegend": true,
         "type": "scatter",
         "x": [
          -2.2429254931407936
         ],
         "xaxis": "x",
         "y": [
          -1.1987565163056266
         ],
         "yaxis": "y"
        },
        {
         "customdata": [
          [
           26
          ]
         ],
         "hovertemplate": "2=%{y}<br>1=%{marker.color}<br>index=%{customdata[0]}<extra></extra>",
         "legendgroup": "-0.662652794990986",
         "marker": {
          "color": [
           0.9480714038178925
          ],
          "coloraxis": "coloraxis",
          "line": {
           "color": "DarkSlateGrey",
           "width": 2
          },
          "size": 10,
          "symbol": "diamond"
         },
         "mode": "markers",
         "name": "-0.662652794990986",
         "orientation": "v",
         "showlegend": true,
         "type": "scatter",
         "x": [
          0.9480714038178925
         ],
         "xaxis": "x",
         "y": [
          -0.662652794990986
         ],
         "yaxis": "y"
        },
        {
         "customdata": [
          [
           27
          ]
         ],
         "hovertemplate": "2=%{y}<br>1=%{marker.color}<br>index=%{customdata[0]}<extra></extra>",
         "legendgroup": "0.5304705271888973",
         "marker": {
          "color": [
           4.24374247930884
          ],
          "coloraxis": "coloraxis",
          "line": {
           "color": "DarkSlateGrey",
           "width": 2
          },
          "size": 10,
          "symbol": "square"
         },
         "mode": "markers",
         "name": "0.5304705271888973",
         "orientation": "v",
         "showlegend": true,
         "type": "scatter",
         "x": [
          4.24374247930884
         ],
         "xaxis": "x",
         "y": [
          0.5304705271888973
         ],
         "yaxis": "y"
        },
        {
         "customdata": [
          [
           28
          ]
         ],
         "hovertemplate": "2=%{y}<br>1=%{marker.color}<br>index=%{customdata[0]}<extra></extra>",
         "legendgroup": "1.8778111883386344",
         "marker": {
          "color": [
           0.9766208665290156
          ],
          "coloraxis": "coloraxis",
          "line": {
           "color": "DarkSlateGrey",
           "width": 2
          },
          "size": 10,
          "symbol": "x"
         },
         "mode": "markers",
         "name": "1.8778111883386344",
         "orientation": "v",
         "showlegend": true,
         "type": "scatter",
         "x": [
          0.9766208665290156
         ],
         "xaxis": "x",
         "y": [
          1.8778111883386344
         ],
         "yaxis": "y"
        },
        {
         "customdata": [
          [
           29
          ]
         ],
         "hovertemplate": "2=%{y}<br>1=%{marker.color}<br>index=%{customdata[0]}<extra></extra>",
         "legendgroup": "-0.8287142761732602",
         "marker": {
          "color": [
           3.0305732067309163
          ],
          "coloraxis": "coloraxis",
          "line": {
           "color": "DarkSlateGrey",
           "width": 2
          },
          "size": 10,
          "symbol": "cross"
         },
         "mode": "markers",
         "name": "-0.8287142761732602",
         "orientation": "v",
         "showlegend": true,
         "type": "scatter",
         "x": [
          3.0305732067309163
         ],
         "xaxis": "x",
         "y": [
          -0.8287142761732602
         ],
         "yaxis": "y"
        },
        {
         "customdata": [
          [
           30
          ]
         ],
         "hovertemplate": "2=%{y}<br>1=%{marker.color}<br>index=%{customdata[0]}<extra></extra>",
         "legendgroup": "0.04066681656985357",
         "marker": {
          "color": [
           -0.1875337571416396
          ],
          "coloraxis": "coloraxis",
          "line": {
           "color": "DarkSlateGrey",
           "width": 2
          },
          "size": 10,
          "symbol": "circle"
         },
         "mode": "markers",
         "name": "0.04066681656985357",
         "orientation": "v",
         "showlegend": true,
         "type": "scatter",
         "x": [
          -0.1875337571416396
         ],
         "xaxis": "x",
         "y": [
          0.04066681656985357
         ],
         "yaxis": "y"
        },
        {
         "customdata": [
          [
           31
          ]
         ],
         "hovertemplate": "2=%{y}<br>1=%{marker.color}<br>index=%{customdata[0]}<extra></extra>",
         "legendgroup": "-1.5636578848675038",
         "marker": {
          "color": [
           -0.8996301150574124
          ],
          "coloraxis": "coloraxis",
          "line": {
           "color": "DarkSlateGrey",
           "width": 2
          },
          "size": 10,
          "symbol": "diamond"
         },
         "mode": "markers",
         "name": "-1.5636578848675038",
         "orientation": "v",
         "showlegend": true,
         "type": "scatter",
         "x": [
          -0.8996301150574124
         ],
         "xaxis": "x",
         "y": [
          -1.5636578848675038
         ],
         "yaxis": "y"
        },
        {
         "customdata": [
          [
           32
          ]
         ],
         "hovertemplate": "2=%{y}<br>1=%{marker.color}<br>index=%{customdata[0]}<extra></extra>",
         "legendgroup": "4.202316496782345",
         "marker": {
          "color": [
           6.6083704875045
          ],
          "coloraxis": "coloraxis",
          "line": {
           "color": "DarkSlateGrey",
           "width": 2
          },
          "size": 10,
          "symbol": "square"
         },
         "mode": "markers",
         "name": "4.202316496782345",
         "orientation": "v",
         "showlegend": true,
         "type": "scatter",
         "x": [
          6.6083704875045
         ],
         "xaxis": "x",
         "y": [
          4.202316496782345
         ],
         "yaxis": "y"
        }
       ],
       "layout": {
        "autosize": true,
        "coloraxis": {
         "colorbar": {
          "title": {
           "text": "1"
          }
         },
         "colorscale": [
          [
           0,
           "#0d0887"
          ],
          [
           0.1111111111111111,
           "#46039f"
          ],
          [
           0.2222222222222222,
           "#7201a8"
          ],
          [
           0.3333333333333333,
           "#9c179e"
          ],
          [
           0.4444444444444444,
           "#bd3786"
          ],
          [
           0.5555555555555556,
           "#d8576b"
          ],
          [
           0.6666666666666666,
           "#ed7953"
          ],
          [
           0.7777777777777778,
           "#fb9f3a"
          ],
          [
           0.8888888888888888,
           "#fdca26"
          ],
          [
           1,
           "#f0f921"
          ]
         ]
        },
        "hovermode": "closest",
        "legend": {
         "title": {
          "text": "2"
         },
         "tracegroupgap": 0
        },
        "margin": {
         "t": 60
        },
        "paper_bgcolor": "LightSteelBlue",
        "plot_bgcolor": "Azure",
        "template": {
         "data": {
          "bar": [
           {
            "error_x": {
             "color": "#2a3f5f"
            },
            "error_y": {
             "color": "#2a3f5f"
            },
            "marker": {
             "line": {
              "color": "#E5ECF6",
              "width": 0.5
             },
             "pattern": {
              "fillmode": "overlay",
              "size": 10,
              "solidity": 0.2
             }
            },
            "type": "bar"
           }
          ],
          "barpolar": [
           {
            "marker": {
             "line": {
              "color": "#E5ECF6",
              "width": 0.5
             },
             "pattern": {
              "fillmode": "overlay",
              "size": 10,
              "solidity": 0.2
             }
            },
            "type": "barpolar"
           }
          ],
          "carpet": [
           {
            "aaxis": {
             "endlinecolor": "#2a3f5f",
             "gridcolor": "white",
             "linecolor": "white",
             "minorgridcolor": "white",
             "startlinecolor": "#2a3f5f"
            },
            "baxis": {
             "endlinecolor": "#2a3f5f",
             "gridcolor": "white",
             "linecolor": "white",
             "minorgridcolor": "white",
             "startlinecolor": "#2a3f5f"
            },
            "type": "carpet"
           }
          ],
          "choropleth": [
           {
            "colorbar": {
             "outlinewidth": 0,
             "ticks": ""
            },
            "type": "choropleth"
           }
          ],
          "contour": [
           {
            "colorbar": {
             "outlinewidth": 0,
             "ticks": ""
            },
            "colorscale": [
             [
              0,
              "#0d0887"
             ],
             [
              0.1111111111111111,
              "#46039f"
             ],
             [
              0.2222222222222222,
              "#7201a8"
             ],
             [
              0.3333333333333333,
              "#9c179e"
             ],
             [
              0.4444444444444444,
              "#bd3786"
             ],
             [
              0.5555555555555556,
              "#d8576b"
             ],
             [
              0.6666666666666666,
              "#ed7953"
             ],
             [
              0.7777777777777778,
              "#fb9f3a"
             ],
             [
              0.8888888888888888,
              "#fdca26"
             ],
             [
              1,
              "#f0f921"
             ]
            ],
            "type": "contour"
           }
          ],
          "contourcarpet": [
           {
            "colorbar": {
             "outlinewidth": 0,
             "ticks": ""
            },
            "type": "contourcarpet"
           }
          ],
          "heatmap": [
           {
            "colorbar": {
             "outlinewidth": 0,
             "ticks": ""
            },
            "colorscale": [
             [
              0,
              "#0d0887"
             ],
             [
              0.1111111111111111,
              "#46039f"
             ],
             [
              0.2222222222222222,
              "#7201a8"
             ],
             [
              0.3333333333333333,
              "#9c179e"
             ],
             [
              0.4444444444444444,
              "#bd3786"
             ],
             [
              0.5555555555555556,
              "#d8576b"
             ],
             [
              0.6666666666666666,
              "#ed7953"
             ],
             [
              0.7777777777777778,
              "#fb9f3a"
             ],
             [
              0.8888888888888888,
              "#fdca26"
             ],
             [
              1,
              "#f0f921"
             ]
            ],
            "type": "heatmap"
           }
          ],
          "heatmapgl": [
           {
            "colorbar": {
             "outlinewidth": 0,
             "ticks": ""
            },
            "colorscale": [
             [
              0,
              "#0d0887"
             ],
             [
              0.1111111111111111,
              "#46039f"
             ],
             [
              0.2222222222222222,
              "#7201a8"
             ],
             [
              0.3333333333333333,
              "#9c179e"
             ],
             [
              0.4444444444444444,
              "#bd3786"
             ],
             [
              0.5555555555555556,
              "#d8576b"
             ],
             [
              0.6666666666666666,
              "#ed7953"
             ],
             [
              0.7777777777777778,
              "#fb9f3a"
             ],
             [
              0.8888888888888888,
              "#fdca26"
             ],
             [
              1,
              "#f0f921"
             ]
            ],
            "type": "heatmapgl"
           }
          ],
          "histogram": [
           {
            "marker": {
             "pattern": {
              "fillmode": "overlay",
              "size": 10,
              "solidity": 0.2
             }
            },
            "type": "histogram"
           }
          ],
          "histogram2d": [
           {
            "colorbar": {
             "outlinewidth": 0,
             "ticks": ""
            },
            "colorscale": [
             [
              0,
              "#0d0887"
             ],
             [
              0.1111111111111111,
              "#46039f"
             ],
             [
              0.2222222222222222,
              "#7201a8"
             ],
             [
              0.3333333333333333,
              "#9c179e"
             ],
             [
              0.4444444444444444,
              "#bd3786"
             ],
             [
              0.5555555555555556,
              "#d8576b"
             ],
             [
              0.6666666666666666,
              "#ed7953"
             ],
             [
              0.7777777777777778,
              "#fb9f3a"
             ],
             [
              0.8888888888888888,
              "#fdca26"
             ],
             [
              1,
              "#f0f921"
             ]
            ],
            "type": "histogram2d"
           }
          ],
          "histogram2dcontour": [
           {
            "colorbar": {
             "outlinewidth": 0,
             "ticks": ""
            },
            "colorscale": [
             [
              0,
              "#0d0887"
             ],
             [
              0.1111111111111111,
              "#46039f"
             ],
             [
              0.2222222222222222,
              "#7201a8"
             ],
             [
              0.3333333333333333,
              "#9c179e"
             ],
             [
              0.4444444444444444,
              "#bd3786"
             ],
             [
              0.5555555555555556,
              "#d8576b"
             ],
             [
              0.6666666666666666,
              "#ed7953"
             ],
             [
              0.7777777777777778,
              "#fb9f3a"
             ],
             [
              0.8888888888888888,
              "#fdca26"
             ],
             [
              1,
              "#f0f921"
             ]
            ],
            "type": "histogram2dcontour"
           }
          ],
          "mesh3d": [
           {
            "colorbar": {
             "outlinewidth": 0,
             "ticks": ""
            },
            "type": "mesh3d"
           }
          ],
          "parcoords": [
           {
            "line": {
             "colorbar": {
              "outlinewidth": 0,
              "ticks": ""
             }
            },
            "type": "parcoords"
           }
          ],
          "pie": [
           {
            "automargin": true,
            "type": "pie"
           }
          ],
          "scatter": [
           {
            "fillpattern": {
             "fillmode": "overlay",
             "size": 10,
             "solidity": 0.2
            },
            "type": "scatter"
           }
          ],
          "scatter3d": [
           {
            "line": {
             "colorbar": {
              "outlinewidth": 0,
              "ticks": ""
             }
            },
            "marker": {
             "colorbar": {
              "outlinewidth": 0,
              "ticks": ""
             }
            },
            "type": "scatter3d"
           }
          ],
          "scattercarpet": [
           {
            "marker": {
             "colorbar": {
              "outlinewidth": 0,
              "ticks": ""
             }
            },
            "type": "scattercarpet"
           }
          ],
          "scattergeo": [
           {
            "marker": {
             "colorbar": {
              "outlinewidth": 0,
              "ticks": ""
             }
            },
            "type": "scattergeo"
           }
          ],
          "scattergl": [
           {
            "marker": {
             "colorbar": {
              "outlinewidth": 0,
              "ticks": ""
             }
            },
            "type": "scattergl"
           }
          ],
          "scattermapbox": [
           {
            "marker": {
             "colorbar": {
              "outlinewidth": 0,
              "ticks": ""
             }
            },
            "type": "scattermapbox"
           }
          ],
          "scatterpolar": [
           {
            "marker": {
             "colorbar": {
              "outlinewidth": 0,
              "ticks": ""
             }
            },
            "type": "scatterpolar"
           }
          ],
          "scatterpolargl": [
           {
            "marker": {
             "colorbar": {
              "outlinewidth": 0,
              "ticks": ""
             }
            },
            "type": "scatterpolargl"
           }
          ],
          "scatterternary": [
           {
            "marker": {
             "colorbar": {
              "outlinewidth": 0,
              "ticks": ""
             }
            },
            "type": "scatterternary"
           }
          ],
          "surface": [
           {
            "colorbar": {
             "outlinewidth": 0,
             "ticks": ""
            },
            "colorscale": [
             [
              0,
              "#0d0887"
             ],
             [
              0.1111111111111111,
              "#46039f"
             ],
             [
              0.2222222222222222,
              "#7201a8"
             ],
             [
              0.3333333333333333,
              "#9c179e"
             ],
             [
              0.4444444444444444,
              "#bd3786"
             ],
             [
              0.5555555555555556,
              "#d8576b"
             ],
             [
              0.6666666666666666,
              "#ed7953"
             ],
             [
              0.7777777777777778,
              "#fb9f3a"
             ],
             [
              0.8888888888888888,
              "#fdca26"
             ],
             [
              1,
              "#f0f921"
             ]
            ],
            "type": "surface"
           }
          ],
          "table": [
           {
            "cells": {
             "fill": {
              "color": "#EBF0F8"
             },
             "line": {
              "color": "white"
             }
            },
            "header": {
             "fill": {
              "color": "#C8D4E3"
             },
             "line": {
              "color": "white"
             }
            },
            "type": "table"
           }
          ]
         },
         "layout": {
          "annotationdefaults": {
           "arrowcolor": "#2a3f5f",
           "arrowhead": 0,
           "arrowwidth": 1
          },
          "autotypenumbers": "strict",
          "coloraxis": {
           "colorbar": {
            "outlinewidth": 0,
            "ticks": ""
           }
          },
          "colorscale": {
           "diverging": [
            [
             0,
             "#8e0152"
            ],
            [
             0.1,
             "#c51b7d"
            ],
            [
             0.2,
             "#de77ae"
            ],
            [
             0.3,
             "#f1b6da"
            ],
            [
             0.4,
             "#fde0ef"
            ],
            [
             0.5,
             "#f7f7f7"
            ],
            [
             0.6,
             "#e6f5d0"
            ],
            [
             0.7,
             "#b8e186"
            ],
            [
             0.8,
             "#7fbc41"
            ],
            [
             0.9,
             "#4d9221"
            ],
            [
             1,
             "#276419"
            ]
           ],
           "sequential": [
            [
             0,
             "#0d0887"
            ],
            [
             0.1111111111111111,
             "#46039f"
            ],
            [
             0.2222222222222222,
             "#7201a8"
            ],
            [
             0.3333333333333333,
             "#9c179e"
            ],
            [
             0.4444444444444444,
             "#bd3786"
            ],
            [
             0.5555555555555556,
             "#d8576b"
            ],
            [
             0.6666666666666666,
             "#ed7953"
            ],
            [
             0.7777777777777778,
             "#fb9f3a"
            ],
            [
             0.8888888888888888,
             "#fdca26"
            ],
            [
             1,
             "#f0f921"
            ]
           ],
           "sequentialminus": [
            [
             0,
             "#0d0887"
            ],
            [
             0.1111111111111111,
             "#46039f"
            ],
            [
             0.2222222222222222,
             "#7201a8"
            ],
            [
             0.3333333333333333,
             "#9c179e"
            ],
            [
             0.4444444444444444,
             "#bd3786"
            ],
            [
             0.5555555555555556,
             "#d8576b"
            ],
            [
             0.6666666666666666,
             "#ed7953"
            ],
            [
             0.7777777777777778,
             "#fb9f3a"
            ],
            [
             0.8888888888888888,
             "#fdca26"
            ],
            [
             1,
             "#f0f921"
            ]
           ]
          },
          "colorway": [
           "#636efa",
           "#EF553B",
           "#00cc96",
           "#ab63fa",
           "#FFA15A",
           "#19d3f3",
           "#FF6692",
           "#B6E880",
           "#FF97FF",
           "#FECB52"
          ],
          "font": {
           "color": "#2a3f5f"
          },
          "geo": {
           "bgcolor": "white",
           "lakecolor": "white",
           "landcolor": "#E5ECF6",
           "showlakes": true,
           "showland": true,
           "subunitcolor": "white"
          },
          "hoverlabel": {
           "align": "left"
          },
          "hovermode": "closest",
          "mapbox": {
           "style": "light"
          },
          "paper_bgcolor": "white",
          "plot_bgcolor": "#E5ECF6",
          "polar": {
           "angularaxis": {
            "gridcolor": "white",
            "linecolor": "white",
            "ticks": ""
           },
           "bgcolor": "#E5ECF6",
           "radialaxis": {
            "gridcolor": "white",
            "linecolor": "white",
            "ticks": ""
           }
          },
          "scene": {
           "xaxis": {
            "backgroundcolor": "#E5ECF6",
            "gridcolor": "white",
            "gridwidth": 2,
            "linecolor": "white",
            "showbackground": true,
            "ticks": "",
            "zerolinecolor": "white"
           },
           "yaxis": {
            "backgroundcolor": "#E5ECF6",
            "gridcolor": "white",
            "gridwidth": 2,
            "linecolor": "white",
            "showbackground": true,
            "ticks": "",
            "zerolinecolor": "white"
           },
           "zaxis": {
            "backgroundcolor": "#E5ECF6",
            "gridcolor": "white",
            "gridwidth": 2,
            "linecolor": "white",
            "showbackground": true,
            "ticks": "",
            "zerolinecolor": "white"
           }
          },
          "shapedefaults": {
           "line": {
            "color": "#2a3f5f"
           }
          },
          "ternary": {
           "aaxis": {
            "gridcolor": "white",
            "linecolor": "white",
            "ticks": ""
           },
           "baxis": {
            "gridcolor": "white",
            "linecolor": "white",
            "ticks": ""
           },
           "bgcolor": "#E5ECF6",
           "caxis": {
            "gridcolor": "white",
            "linecolor": "white",
            "ticks": ""
           }
          },
          "title": {
           "x": 0.05
          },
          "xaxis": {
           "automargin": true,
           "gridcolor": "white",
           "linecolor": "white",
           "ticks": "",
           "title": {
            "standoff": 15
           },
           "zerolinecolor": "white",
           "zerolinewidth": 2
          },
          "yaxis": {
           "automargin": true,
           "gridcolor": "white",
           "linecolor": "white",
           "ticks": "",
           "title": {
            "standoff": 15
           },
           "zerolinecolor": "white",
           "zerolinewidth": 2
          }
         }
        },
        "title": {
         "text": "Relationship Between Component 1 and Component 2",
         "x": 0.5
        },
        "xaxis": {
         "anchor": "y",
         "autorange": true,
         "domain": [
          0,
          1
         ],
         "gridcolor": "LightGray",
         "range": [
          -3.5394505001607715,
          7.232170030918254
         ],
         "title": {
          "text": "Component 1"
         },
         "type": "linear"
        },
        "yaxis": {
         "anchor": "x",
         "autorange": true,
         "categoryarray": [
          4.202316496782345,
          -1.5636578848675038,
          0.04066681656985357,
          -0.8287142761732602,
          1.8778111883386344,
          0.5304705271888973,
          -0.662652794990986,
          -1.1987565163056266,
          -1.0615267126407206,
          -1.1675357978845344,
          0.6951406459213667,
          0.5802597508205322,
          -2.4048408676162607,
          2.244709143581993,
          0.7867992081313897,
          2.2118150285929317,
          -0.6263381318372998,
          1.0230935119897069,
          -1.5049832576728088,
          0.3493703832861457,
          0.6796134473292654,
          -0.10388385069503328,
          -0.17613857425544333,
          0.7783300250691578,
          -3.7104212932186185,
          1.7378012577640753,
          -0.09459042634529309,
          -3.141507382067896,
          -0.6872451685640764,
          1.742018109770191,
          -1.3322572311639709,
          0.5916612916627739,
          0.19317333350007393
         ],
         "categoryorder": "array",
         "domain": [
          0,
          1
         ],
         "gridcolor": "LightGray",
         "range": [
          -4.4462419232860935,
          4.93813712684982
         ],
         "title": {
          "text": "Component 2"
         },
         "type": "linear"
        }
       }
      },
      "image/png": "[encoded data removed]",
      "text/html": [
       "<div>                            <div id=\"4e349c56-f778-446e-82b3-70bed6e66d7d\" class=\"plotly-graph-div\" style=\"height:525px; width:100%;\"></div>            <script type=\"text/javascript\">                require([\"plotly\"], function(Plotly) {                    window.PLOTLYENV=window.PLOTLYENV || {};                                    if (document.getElementById(\"4e349c56-f778-446e-82b3-70bed6e66d7d\")) {                    Plotly.newPlot(                        \"4e349c56-f778-446e-82b3-70bed6e66d7d\",                        [{\"customdata\":[[0]],\"hovertemplate\":\"2=%{y}\\u003cbr\\u003e1=%{marker.color}\\u003cbr\\u003eindex=%{customdata[0]}\\u003cextra\\u003e\\u003c\\u002fextra\\u003e\",\"legendgroup\":\"0.19317333350007393\",\"marker\":{\"color\":[-0.6208410559806395],\"coloraxis\":\"coloraxis\",\"symbol\":\"circle\",\"line\":{\"color\":\"DarkSlateGrey\",\"width\":2},\"size\":10},\"mode\":\"markers\",\"name\":\"0.19317333350007393\",\"orientation\":\"v\",\"showlegend\":true,\"x\":[-0.6208410559806395],\"xaxis\":\"x\",\"y\":[0.19317333350007393],\"yaxis\":\"y\",\"type\":\"scatter\"},{\"customdata\":[[1]],\"hovertemplate\":\"2=%{y}\\u003cbr\\u003e1=%{marker.color}\\u003cbr\\u003eindex=%{customdata[0]}\\u003cextra\\u003e\\u003c\\u002fextra\\u003e\",\"legendgroup\":\"0.5916612916627739\",\"marker\":{\"color\":[1.4998482533534274],\"coloraxis\":\"coloraxis\",\"symbol\":\"diamond\",\"line\":{\"color\":\"DarkSlateGrey\",\"width\":2},\"size\":10},\"mode\":\"markers\",\"name\":\"0.5916612916627739\",\"orientation\":\"v\",\"showlegend\":true,\"x\":[1.4998482533534274],\"xaxis\":\"x\",\"y\":[0.5916612916627739],\"yaxis\":\"y\",\"type\":\"scatter\"},{\"customdata\":[[2]],\"hovertemplate\":\"2=%{y}\\u003cbr\\u003e1=%{marker.color}\\u003cbr\\u003eindex=%{customdata[0]}\\u003cextra\\u003e\\u003c\\u002fextra\\u003e\",\"legendgroup\":\"-1.3322572311639709\",\"marker\":{\"color\":[-0.9407720836969619],\"coloraxis\":\"coloraxis\",\"symbol\":\"square\",\"line\":{\"color\":\"DarkSlateGrey\",\"width\":2},\"size\":10},\"mode\":\"markers\",\"name\":\"-1.3322572311639709\",\"orientation\":\"v\",\"showlegend\":true,\"x\":[-0.9407720836969619],\"xaxis\":\"x\",\"y\":[-1.3322572311639709],\"yaxis\":\"y\",\"type\":\"scatter\"},{\"customdata\":[[3]],\"hovertemplate\":\"2=%{y}\\u003cbr\\u003e1=%{marker.color}\\u003cbr\\u003eindex=%{customdata[0]}\\u003cextra\\u003e\\u003c\\u002fextra\\u003e\",\"legendgroup\":\"1.742018109770191\",\"marker\":{\"color\":[-2.727649070534471],\"coloraxis\":\"coloraxis\",\"symbol\":\"x\",\"line\":{\"color\":\"DarkSlateGrey\",\"width\":2},\"size\":10},\"mode\":\"markers\",\"name\":\"1.742018109770191\",\"orientation\":\"v\",\"showlegend\":true,\"x\":[-2.727649070534471],\"xaxis\":\"x\",\"y\":[1.742018109770191],\"yaxis\":\"y\",\"type\":\"scatter\"},{\"customdata\":[[4]],\"hovertemplate\":\"2=%{y}\\u003cbr\\u003e1=%{marker.color}\\u003cbr\\u003eindex=%{customdata[0]}\\u003cextra\\u003e\\u003c\\u002fextra\\u003e\",\"legendgroup\":\"-0.6872451685640764\",\"marker\":{\"color\":[-0.06748451142622192],\"coloraxis\":\"coloraxis\",\"symbol\":\"cross\",\"line\":{\"color\":\"DarkSlateGrey\",\"width\":2},\"size\":10},\"mode\":\"markers\",\"name\":\"-0.6872451685640764\",\"orientation\":\"v\",\"showlegend\":true,\"x\":[-0.06748451142622192],\"xaxis\":\"x\",\"y\":[-0.6872451685640764],\"yaxis\":\"y\",\"type\":\"scatter\"},{\"customdata\":[[5]],\"hovertemplate\":\"2=%{y}\\u003cbr\\u003e1=%{marker.color}\\u003cbr\\u003eindex=%{customdata[0]}\\u003cextra\\u003e\\u003c\\u002fextra\\u003e\",\"legendgroup\":\"-3.141507382067896\",\"marker\":{\"color\":[0.9101646482359691],\"coloraxis\":\"coloraxis\",\"symbol\":\"circle\",\"line\":{\"color\":\"DarkSlateGrey\",\"width\":2},\"size\":10},\"mode\":\"markers\",\"name\":\"-3.141507382067896\",\"orientation\":\"v\",\"showlegend\":true,\"x\":[0.9101646482359691],\"xaxis\":\"x\",\"y\":[-3.141507382067896],\"yaxis\":\"y\",\"type\":\"scatter\"},{\"customdata\":[[6]],\"hovertemplate\":\"2=%{y}\\u003cbr\\u003e1=%{marker.color}\\u003cbr\\u003eindex=%{customdata[0]}\\u003cextra\\u003e\\u003c\\u002fextra\\u003e\",\"legendgroup\":\"-0.09459042634529309\",\"marker\":{\"color\":[-0.4602482316517361],\"coloraxis\":\"coloraxis\",\"symbol\":\"diamond\",\"line\":{\"color\":\"DarkSlateGrey\",\"width\":2},\"size\":10},\"mode\":\"markers\",\"name\":\"-0.09459042634529309\",\"orientation\":\"v\",\"showlegend\":true,\"x\":[-0.4602482316517361],\"xaxis\":\"x\",\"y\":[-0.09459042634529309],\"yaxis\":\"y\",\"type\":\"scatter\"},{\"customdata\":[[7]],\"hovertemplate\":\"2=%{y}\\u003cbr\\u003e1=%{marker.color}\\u003cbr\\u003eindex=%{customdata[0]}\\u003cextra\\u003e\\u003c\\u002fextra\\u003e\",\"legendgroup\":\"1.7378012577640753\",\"marker\":{\"color\":[-1.5878091551581024],\"coloraxis\":\"coloraxis\",\"symbol\":\"square\",\"line\":{\"color\":\"DarkSlateGrey\",\"width\":2},\"size\":10},\"mode\":\"markers\",\"name\":\"1.7378012577640753\",\"orientation\":\"v\",\"showlegend\":true,\"x\":[-1.5878091551581024],\"xaxis\":\"x\",\"y\":[1.7378012577640753],\"yaxis\":\"y\",\"type\":\"scatter\"},{\"customdata\":[[8]],\"hovertemplate\":\"2=%{y}\\u003cbr\\u003e1=%{marker.color}\\u003cbr\\u003eindex=%{customdata[0]}\\u003cextra\\u003e\\u003c\\u002fextra\\u003e\",\"legendgroup\":\"-3.7104212932186185\",\"marker\":{\"color\":[1.9236671968590207],\"coloraxis\":\"coloraxis\",\"symbol\":\"x\",\"line\":{\"color\":\"DarkSlateGrey\",\"width\":2},\"size\":10},\"mode\":\"markers\",\"name\":\"-3.7104212932186185\",\"orientation\":\"v\",\"showlegend\":true,\"x\":[1.9236671968590207],\"xaxis\":\"x\",\"y\":[-3.7104212932186185],\"yaxis\":\"y\",\"type\":\"scatter\"},{\"customdata\":[[9]],\"hovertemplate\":\"2=%{y}\\u003cbr\\u003e1=%{marker.color}\\u003cbr\\u003eindex=%{customdata[0]}\\u003cextra\\u003e\\u003c\\u002fextra\\u003e\",\"legendgroup\":\"0.7783300250691578\",\"marker\":{\"color\":[-1.6769205858233998],\"coloraxis\":\"coloraxis\",\"symbol\":\"cross\",\"line\":{\"color\":\"DarkSlateGrey\",\"width\":2},\"size\":10},\"mode\":\"markers\",\"name\":\"0.7783300250691578\",\"orientation\":\"v\",\"showlegend\":true,\"x\":[-1.6769205858233998],\"xaxis\":\"x\",\"y\":[0.7783300250691578],\"yaxis\":\"y\",\"type\":\"scatter\"},{\"customdata\":[[10]],\"hovertemplate\":\"2=%{y}\\u003cbr\\u003e1=%{marker.color}\\u003cbr\\u003eindex=%{customdata[0]}\\u003cextra\\u003e\\u003c\\u002fextra\\u003e\",\"legendgroup\":\"-0.17613857425544333\",\"marker\":{\"color\":[-1.5742863760006316],\"coloraxis\":\"coloraxis\",\"symbol\":\"circle\",\"line\":{\"color\":\"DarkSlateGrey\",\"width\":2},\"size\":10},\"mode\":\"markers\",\"name\":\"-0.17613857425544333\",\"orientation\":\"v\",\"showlegend\":true,\"x\":[-1.5742863760006316],\"xaxis\":\"x\",\"y\":[-0.17613857425544333],\"yaxis\":\"y\",\"type\":\"scatter\"},{\"customdata\":[[11]],\"hovertemplate\":\"2=%{y}\\u003cbr\\u003e1=%{marker.color}\\u003cbr\\u003eindex=%{customdata[0]}\\u003cextra\\u003e\\u003c\\u002fextra\\u003e\",\"legendgroup\":\"-0.10388385069503328\",\"marker\":{\"color\":[1.0055066296536328],\"coloraxis\":\"coloraxis\",\"symbol\":\"diamond\",\"line\":{\"color\":\"DarkSlateGrey\",\"width\":2},\"size\":10},\"mode\":\"markers\",\"name\":\"-0.10388385069503328\",\"orientation\":\"v\",\"showlegend\":true,\"x\":[1.0055066296536328],\"xaxis\":\"x\",\"y\":[-0.10388385069503328],\"yaxis\":\"y\",\"type\":\"scatter\"},{\"customdata\":[[12]],\"hovertemplate\":\"2=%{y}\\u003cbr\\u003e1=%{marker.color}\\u003cbr\\u003eindex=%{customdata[0]}\\u003cextra\\u003e\\u003c\\u002fextra\\u003e\",\"legendgroup\":\"0.6796134473292654\",\"marker\":{\"color\":[0.24102147884865432],\"coloraxis\":\"coloraxis\",\"symbol\":\"square\",\"line\":{\"color\":\"DarkSlateGrey\",\"width\":2},\"size\":10},\"mode\":\"markers\",\"name\":\"0.6796134473292654\",\"orientation\":\"v\",\"showlegend\":true,\"x\":[0.24102147884865432],\"xaxis\":\"x\",\"y\":[0.6796134473292654],\"yaxis\":\"y\",\"type\":\"scatter\"},{\"customdata\":[[13]],\"hovertemplate\":\"2=%{y}\\u003cbr\\u003e1=%{marker.color}\\u003cbr\\u003eindex=%{customdata[0]}\\u003cextra\\u003e\\u003c\\u002fextra\\u003e\",\"legendgroup\":\"0.3493703832861457\",\"marker\":{\"color\":[1.1401343290661081],\"coloraxis\":\"coloraxis\",\"symbol\":\"x\",\"line\":{\"color\":\"DarkSlateGrey\",\"width\":2},\"size\":10},\"mode\":\"markers\",\"name\":\"0.3493703832861457\",\"orientation\":\"v\",\"showlegend\":true,\"x\":[1.1401343290661081],\"xaxis\":\"x\",\"y\":[0.3493703832861457],\"yaxis\":\"y\",\"type\":\"scatter\"},{\"customdata\":[[14]],\"hovertemplate\":\"2=%{y}\\u003cbr\\u003e1=%{marker.color}\\u003cbr\\u003eindex=%{customdata[0]}\\u003cextra\\u003e\\u003c\\u002fextra\\u003e\",\"legendgroup\":\"-1.5049832576728088\",\"marker\":{\"color\":[1.858972872396636],\"coloraxis\":\"coloraxis\",\"symbol\":\"cross\",\"line\":{\"color\":\"DarkSlateGrey\",\"width\":2},\"size\":10},\"mode\":\"markers\",\"name\":\"-1.5049832576728088\",\"orientation\":\"v\",\"showlegend\":true,\"x\":[1.858972872396636],\"xaxis\":\"x\",\"y\":[-1.5049832576728088],\"yaxis\":\"y\",\"type\":\"scatter\"},{\"customdata\":[[15]],\"hovertemplate\":\"2=%{y}\\u003cbr\\u003e1=%{marker.color}\\u003cbr\\u003eindex=%{customdata[0]}\\u003cextra\\u003e\\u003c\\u002fextra\\u003e\",\"legendgroup\":\"1.0230935119897069\",\"marker\":{\"color\":[-2.232277820889942],\"coloraxis\":\"coloraxis\",\"symbol\":\"circle\",\"line\":{\"color\":\"DarkSlateGrey\",\"width\":2},\"size\":10},\"mode\":\"markers\",\"name\":\"1.0230935119897069\",\"orientation\":\"v\",\"showlegend\":true,\"x\":[-2.232277820889942],\"xaxis\":\"x\",\"y\":[1.0230935119897069],\"yaxis\":\"y\",\"type\":\"scatter\"},{\"customdata\":[[16]],\"hovertemplate\":\"2=%{y}\\u003cbr\\u003e1=%{marker.color}\\u003cbr\\u003eindex=%{customdata[0]}\\u003cextra\\u003e\\u003c\\u002fextra\\u003e\",\"legendgroup\":\"-0.6263381318372998\",\"marker\":{\"color\":[-1.5121233423392766],\"coloraxis\":\"coloraxis\",\"symbol\":\"diamond\",\"line\":{\"color\":\"DarkSlateGrey\",\"width\":2},\"size\":10},\"mode\":\"markers\",\"name\":\"-0.6263381318372998\",\"orientation\":\"v\",\"showlegend\":true,\"x\":[-1.5121233423392766],\"xaxis\":\"x\",\"y\":[-0.6263381318372998],\"yaxis\":\"y\",\"type\":\"scatter\"},{\"customdata\":[[17]],\"hovertemplate\":\"2=%{y}\\u003cbr\\u003e1=%{marker.color}\\u003cbr\\u003eindex=%{customdata[0]}\\u003cextra\\u003e\\u003c\\u002fextra\\u003e\",\"legendgroup\":\"2.2118150285929317\",\"marker\":{\"color\":[-2.3248162513408808],\"coloraxis\":\"coloraxis\",\"symbol\":\"square\",\"line\":{\"color\":\"DarkSlateGrey\",\"width\":2},\"size\":10},\"mode\":\"markers\",\"name\":\"2.2118150285929317\",\"orientation\":\"v\",\"showlegend\":true,\"x\":[-2.3248162513408808],\"xaxis\":\"x\",\"y\":[2.2118150285929317],\"yaxis\":\"y\",\"type\":\"scatter\"},{\"customdata\":[[18]],\"hovertemplate\":\"2=%{y}\\u003cbr\\u003e1=%{marker.color}\\u003cbr\\u003eindex=%{customdata[0]}\\u003cextra\\u003e\\u003c\\u002fextra\\u003e\",\"legendgroup\":\"0.7867992081313897\",\"marker\":{\"color\":[-0.8423087308394702],\"coloraxis\":\"coloraxis\",\"symbol\":\"x\",\"line\":{\"color\":\"DarkSlateGrey\",\"width\":2},\"size\":10},\"mode\":\"markers\",\"name\":\"0.7867992081313897\",\"orientation\":\"v\",\"showlegend\":true,\"x\":[-0.8423087308394702],\"xaxis\":\"x\",\"y\":[0.7867992081313897],\"yaxis\":\"y\",\"type\":\"scatter\"},{\"customdata\":[[19]],\"hovertemplate\":\"2=%{y}\\u003cbr\\u003e1=%{marker.color}\\u003cbr\\u003eindex=%{customdata[0]}\\u003cextra\\u003e\\u003c\\u002fextra\\u003e\",\"legendgroup\":\"2.244709143581993\",\"marker\":{\"color\":[-2.915650956747018],\"coloraxis\":\"coloraxis\",\"symbol\":\"cross\",\"line\":{\"color\":\"DarkSlateGrey\",\"width\":2},\"size\":10},\"mode\":\"markers\",\"name\":\"2.244709143581993\",\"orientation\":\"v\",\"showlegend\":true,\"x\":[-2.915650956747018],\"xaxis\":\"x\",\"y\":[2.244709143581993],\"yaxis\":\"y\",\"type\":\"scatter\"},{\"customdata\":[[20]],\"hovertemplate\":\"2=%{y}\\u003cbr\\u003e1=%{marker.color}\\u003cbr\\u003eindex=%{customdata[0]}\\u003cextra\\u003e\\u003c\\u002fextra\\u003e\",\"legendgroup\":\"-2.4048408676162607\",\"marker\":{\"color\":[0.03948599930236945],\"coloraxis\":\"coloraxis\",\"symbol\":\"circle\",\"line\":{\"color\":\"DarkSlateGrey\",\"width\":2},\"size\":10},\"mode\":\"markers\",\"name\":\"-2.4048408676162607\",\"orientation\":\"v\",\"showlegend\":true,\"x\":[0.03948599930236945],\"xaxis\":\"x\",\"y\":[-2.4048408676162607],\"yaxis\":\"y\",\"type\":\"scatter\"},{\"customdata\":[[21]],\"hovertemplate\":\"2=%{y}\\u003cbr\\u003e1=%{marker.color}\\u003cbr\\u003eindex=%{customdata[0]}\\u003cextra\\u003e\\u003c\\u002fextra\\u003e\",\"legendgroup\":\"0.5802597508205322\",\"marker\":{\"color\":[1.7581684981908885],\"coloraxis\":\"coloraxis\",\"symbol\":\"diamond\",\"line\":{\"color\":\"DarkSlateGrey\",\"width\":2},\"size\":10},\"mode\":\"markers\",\"name\":\"0.5802597508205322\",\"orientation\":\"v\",\"showlegend\":true,\"x\":[1.7581684981908885],\"xaxis\":\"x\",\"y\":[0.5802597508205322],\"yaxis\":\"y\",\"type\":\"scatter\"},{\"customdata\":[[22]],\"hovertemplate\":\"2=%{y}\\u003cbr\\u003e1=%{marker.color}\\u003cbr\\u003eindex=%{customdata[0]}\\u003cextra\\u003e\\u003c\\u002fextra\\u003e\",\"legendgroup\":\"0.6951406459213667\",\"marker\":{\"color\":[-2.8250266174169174],\"coloraxis\":\"coloraxis\",\"symbol\":\"square\",\"line\":{\"color\":\"DarkSlateGrey\",\"width\":2},\"size\":10},\"mode\":\"markers\",\"name\":\"0.6951406459213667\",\"orientation\":\"v\",\"showlegend\":true,\"x\":[-2.8250266174169174],\"xaxis\":\"x\",\"y\":[0.6951406459213667],\"yaxis\":\"y\",\"type\":\"scatter\"},{\"customdata\":[[23]],\"hovertemplate\":\"2=%{y}\\u003cbr\\u003e1=%{marker.color}\\u003cbr\\u003eindex=%{customdata[0]}\\u003cextra\\u003e\\u003c\\u002fextra\\u003e\",\"legendgroup\":\"-1.1675357978845344\",\"marker\":{\"color\":[-1.0056951491531536],\"coloraxis\":\"coloraxis\",\"symbol\":\"x\",\"line\":{\"color\":\"DarkSlateGrey\",\"width\":2},\"size\":10},\"mode\":\"markers\",\"name\":\"-1.1675357978845344\",\"orientation\":\"v\",\"showlegend\":true,\"x\":[-1.0056951491531536],\"xaxis\":\"x\",\"y\":[-1.1675357978845344],\"yaxis\":\"y\",\"type\":\"scatter\"},{\"customdata\":[[24]],\"hovertemplate\":\"2=%{y}\\u003cbr\\u003e1=%{marker.color}\\u003cbr\\u003eindex=%{customdata[0]}\\u003cextra\\u003e\\u003c\\u002fextra\\u003e\",\"legendgroup\":\"-1.0615267126407206\",\"marker\":{\"color\":[0.45965095454079385],\"coloraxis\":\"coloraxis\",\"symbol\":\"cross\",\"line\":{\"color\":\"DarkSlateGrey\",\"width\":2},\"size\":10},\"mode\":\"markers\",\"name\":\"-1.0615267126407206\",\"orientation\":\"v\",\"showlegend\":true,\"x\":[0.45965095454079385],\"xaxis\":\"x\",\"y\":[-1.0615267126407206],\"yaxis\":\"y\",\"type\":\"scatter\"},{\"customdata\":[[25]],\"hovertemplate\":\"2=%{y}\\u003cbr\\u003e1=%{marker.color}\\u003cbr\\u003eindex=%{customdata[0]}\\u003cextra\\u003e\\u003c\\u002fextra\\u003e\",\"legendgroup\":\"-1.1987565163056266\",\"marker\":{\"color\":[-2.2429254931407936],\"coloraxis\":\"coloraxis\",\"symbol\":\"circle\",\"line\":{\"color\":\"DarkSlateGrey\",\"width\":2},\"size\":10},\"mode\":\"markers\",\"name\":\"-1.1987565163056266\",\"orientation\":\"v\",\"showlegend\":true,\"x\":[-2.2429254931407936],\"xaxis\":\"x\",\"y\":[-1.1987565163056266],\"yaxis\":\"y\",\"type\":\"scatter\"},{\"customdata\":[[26]],\"hovertemplate\":\"2=%{y}\\u003cbr\\u003e1=%{marker.color}\\u003cbr\\u003eindex=%{customdata[0]}\\u003cextra\\u003e\\u003c\\u002fextra\\u003e\",\"legendgroup\":\"-0.662652794990986\",\"marker\":{\"color\":[0.9480714038178925],\"coloraxis\":\"coloraxis\",\"symbol\":\"diamond\",\"line\":{\"color\":\"DarkSlateGrey\",\"width\":2},\"size\":10},\"mode\":\"markers\",\"name\":\"-0.662652794990986\",\"orientation\":\"v\",\"showlegend\":true,\"x\":[0.9480714038178925],\"xaxis\":\"x\",\"y\":[-0.662652794990986],\"yaxis\":\"y\",\"type\":\"scatter\"},{\"customdata\":[[27]],\"hovertemplate\":\"2=%{y}\\u003cbr\\u003e1=%{marker.color}\\u003cbr\\u003eindex=%{customdata[0]}\\u003cextra\\u003e\\u003c\\u002fextra\\u003e\",\"legendgroup\":\"0.5304705271888973\",\"marker\":{\"color\":[4.24374247930884],\"coloraxis\":\"coloraxis\",\"symbol\":\"square\",\"line\":{\"color\":\"DarkSlateGrey\",\"width\":2},\"size\":10},\"mode\":\"markers\",\"name\":\"0.5304705271888973\",\"orientation\":\"v\",\"showlegend\":true,\"x\":[4.24374247930884],\"xaxis\":\"x\",\"y\":[0.5304705271888973],\"yaxis\":\"y\",\"type\":\"scatter\"},{\"customdata\":[[28]],\"hovertemplate\":\"2=%{y}\\u003cbr\\u003e1=%{marker.color}\\u003cbr\\u003eindex=%{customdata[0]}\\u003cextra\\u003e\\u003c\\u002fextra\\u003e\",\"legendgroup\":\"1.8778111883386344\",\"marker\":{\"color\":[0.9766208665290156],\"coloraxis\":\"coloraxis\",\"symbol\":\"x\",\"line\":{\"color\":\"DarkSlateGrey\",\"width\":2},\"size\":10},\"mode\":\"markers\",\"name\":\"1.8778111883386344\",\"orientation\":\"v\",\"showlegend\":true,\"x\":[0.9766208665290156],\"xaxis\":\"x\",\"y\":[1.8778111883386344],\"yaxis\":\"y\",\"type\":\"scatter\"},{\"customdata\":[[29]],\"hovertemplate\":\"2=%{y}\\u003cbr\\u003e1=%{marker.color}\\u003cbr\\u003eindex=%{customdata[0]}\\u003cextra\\u003e\\u003c\\u002fextra\\u003e\",\"legendgroup\":\"-0.8287142761732602\",\"marker\":{\"color\":[3.0305732067309163],\"coloraxis\":\"coloraxis\",\"symbol\":\"cross\",\"line\":{\"color\":\"DarkSlateGrey\",\"width\":2},\"size\":10},\"mode\":\"markers\",\"name\":\"-0.8287142761732602\",\"orientation\":\"v\",\"showlegend\":true,\"x\":[3.0305732067309163],\"xaxis\":\"x\",\"y\":[-0.8287142761732602],\"yaxis\":\"y\",\"type\":\"scatter\"},{\"customdata\":[[30]],\"hovertemplate\":\"2=%{y}\\u003cbr\\u003e1=%{marker.color}\\u003cbr\\u003eindex=%{customdata[0]}\\u003cextra\\u003e\\u003c\\u002fextra\\u003e\",\"legendgroup\":\"0.04066681656985357\",\"marker\":{\"color\":[-0.1875337571416396],\"coloraxis\":\"coloraxis\",\"symbol\":\"circle\",\"line\":{\"color\":\"DarkSlateGrey\",\"width\":2},\"size\":10},\"mode\":\"markers\",\"name\":\"0.04066681656985357\",\"orientation\":\"v\",\"showlegend\":true,\"x\":[-0.1875337571416396],\"xaxis\":\"x\",\"y\":[0.04066681656985357],\"yaxis\":\"y\",\"type\":\"scatter\"},{\"customdata\":[[31]],\"hovertemplate\":\"2=%{y}\\u003cbr\\u003e1=%{marker.color}\\u003cbr\\u003eindex=%{customdata[0]}\\u003cextra\\u003e\\u003c\\u002fextra\\u003e\",\"legendgroup\":\"-1.5636578848675038\",\"marker\":{\"color\":[-0.8996301150574124],\"coloraxis\":\"coloraxis\",\"symbol\":\"diamond\",\"line\":{\"color\":\"DarkSlateGrey\",\"width\":2},\"size\":10},\"mode\":\"markers\",\"name\":\"-1.5636578848675038\",\"orientation\":\"v\",\"showlegend\":true,\"x\":[-0.8996301150574124],\"xaxis\":\"x\",\"y\":[-1.5636578848675038],\"yaxis\":\"y\",\"type\":\"scatter\"},{\"customdata\":[[32]],\"hovertemplate\":\"2=%{y}\\u003cbr\\u003e1=%{marker.color}\\u003cbr\\u003eindex=%{customdata[0]}\\u003cextra\\u003e\\u003c\\u002fextra\\u003e\",\"legendgroup\":\"4.202316496782345\",\"marker\":{\"color\":[6.6083704875045],\"coloraxis\":\"coloraxis\",\"symbol\":\"square\",\"line\":{\"color\":\"DarkSlateGrey\",\"width\":2},\"size\":10},\"mode\":\"markers\",\"name\":\"4.202316496782345\",\"orientation\":\"v\",\"showlegend\":true,\"x\":[6.6083704875045],\"xaxis\":\"x\",\"y\":[4.202316496782345],\"yaxis\":\"y\",\"type\":\"scatter\"}],                        {\"template\":{\"data\":{\"histogram2dcontour\":[{\"type\":\"histogram2dcontour\",\"colorbar\":{\"outlinewidth\":0,\"ticks\":\"\"},\"colorscale\":[[0.0,\"#0d0887\"],[0.1111111111111111,\"#46039f\"],[0.2222222222222222,\"#7201a8\"],[0.3333333333333333,\"#9c179e\"],[0.4444444444444444,\"#bd3786\"],[0.5555555555555556,\"#d8576b\"],[0.6666666666666666,\"#ed7953\"],[0.7777777777777778,\"#fb9f3a\"],[0.8888888888888888,\"#fdca26\"],[1.0,\"#f0f921\"]]}],\"choropleth\":[{\"type\":\"choropleth\",\"colorbar\":{\"outlinewidth\":0,\"ticks\":\"\"}}],\"histogram2d\":[{\"type\":\"histogram2d\",\"colorbar\":{\"outlinewidth\":0,\"ticks\":\"\"},\"colorscale\":[[0.0,\"#0d0887\"],[0.1111111111111111,\"#46039f\"],[0.2222222222222222,\"#7201a8\"],[0.3333333333333333,\"#9c179e\"],[0.4444444444444444,\"#bd3786\"],[0.5555555555555556,\"#d8576b\"],[0.6666666666666666,\"#ed7953\"],[0.7777777777777778,\"#fb9f3a\"],[0.8888888888888888,\"#fdca26\"],[1.0,\"#f0f921\"]]}],\"heatmap\":[{\"type\":\"heatmap\",\"colorbar\":{\"outlinewidth\":0,\"ticks\":\"\"},\"colorscale\":[[0.0,\"#0d0887\"],[0.1111111111111111,\"#46039f\"],[0.2222222222222222,\"#7201a8\"],[0.3333333333333333,\"#9c179e\"],[0.4444444444444444,\"#bd3786\"],[0.5555555555555556,\"#d8576b\"],[0.6666666666666666,\"#ed7953\"],[0.7777777777777778,\"#fb9f3a\"],[0.8888888888888888,\"#fdca26\"],[1.0,\"#f0f921\"]]}],\"heatmapgl\":[{\"type\":\"heatmapgl\",\"colorbar\":{\"outlinewidth\":0,\"ticks\":\"\"},\"colorscale\":[[0.0,\"#0d0887\"],[0.1111111111111111,\"#46039f\"],[0.2222222222222222,\"#7201a8\"],[0.3333333333333333,\"#9c179e\"],[0.4444444444444444,\"#bd3786\"],[0.5555555555555556,\"#d8576b\"],[0.6666666666666666,\"#ed7953\"],[0.7777777777777778,\"#fb9f3a\"],[0.8888888888888888,\"#fdca26\"],[1.0,\"#f0f921\"]]}],\"contourcarpet\":[{\"type\":\"contourcarpet\",\"colorbar\":{\"outlinewidth\":0,\"ticks\":\"\"}}],\"contour\":[{\"type\":\"contour\",\"colorbar\":{\"outlinewidth\":0,\"ticks\":\"\"},\"colorscale\":[[0.0,\"#0d0887\"],[0.1111111111111111,\"#46039f\"],[0.2222222222222222,\"#7201a8\"],[0.3333333333333333,\"#9c179e\"],[0.4444444444444444,\"#bd3786\"],[0.5555555555555556,\"#d8576b\"],[0.6666666666666666,\"#ed7953\"],[0.7777777777777778,\"#fb9f3a\"],[0.8888888888888888,\"#fdca26\"],[1.0,\"#f0f921\"]]}],\"surface\":[{\"type\":\"surface\",\"colorbar\":{\"outlinewidth\":0,\"ticks\":\"\"},\"colorscale\":[[0.0,\"#0d0887\"],[0.1111111111111111,\"#46039f\"],[0.2222222222222222,\"#7201a8\"],[0.3333333333333333,\"#9c179e\"],[0.4444444444444444,\"#bd3786\"],[0.5555555555555556,\"#d8576b\"],[0.6666666666666666,\"#ed7953\"],[0.7777777777777778,\"#fb9f3a\"],[0.8888888888888888,\"#fdca26\"],[1.0,\"#f0f921\"]]}],\"mesh3d\":[{\"type\":\"mesh3d\",\"colorbar\":{\"outlinewidth\":0,\"ticks\":\"\"}}],\"scatter\":[{\"fillpattern\":{\"fillmode\":\"overlay\",\"size\":10,\"solidity\":0.2},\"type\":\"scatter\"}],\"parcoords\":[{\"type\":\"parcoords\",\"line\":{\"colorbar\":{\"outlinewidth\":0,\"ticks\":\"\"}}}],\"scatterpolargl\":[{\"type\":\"scatterpolargl\",\"marker\":{\"colorbar\":{\"outlinewidth\":0,\"ticks\":\"\"}}}],\"bar\":[{\"error_x\":{\"color\":\"#2a3f5f\"},\"error_y\":{\"color\":\"#2a3f5f\"},\"marker\":{\"line\":{\"color\":\"#E5ECF6\",\"width\":0.5},\"pattern\":{\"fillmode\":\"overlay\",\"size\":10,\"solidity\":0.2}},\"type\":\"bar\"}],\"scattergeo\":[{\"type\":\"scattergeo\",\"marker\":{\"colorbar\":{\"outlinewidth\":0,\"ticks\":\"\"}}}],\"scatterpolar\":[{\"type\":\"scatterpolar\",\"marker\":{\"colorbar\":{\"outlinewidth\":0,\"ticks\":\"\"}}}],\"histogram\":[{\"marker\":{\"pattern\":{\"fillmode\":\"overlay\",\"size\":10,\"solidity\":0.2}},\"type\":\"histogram\"}],\"scattergl\":[{\"type\":\"scattergl\",\"marker\":{\"colorbar\":{\"outlinewidth\":0,\"ticks\":\"\"}}}],\"scatter3d\":[{\"type\":\"scatter3d\",\"line\":{\"colorbar\":{\"outlinewidth\":0,\"ticks\":\"\"}},\"marker\":{\"colorbar\":{\"outlinewidth\":0,\"ticks\":\"\"}}}],\"scattermapbox\":[{\"type\":\"scattermapbox\",\"marker\":{\"colorbar\":{\"outlinewidth\":0,\"ticks\":\"\"}}}],\"scatterternary\":[{\"type\":\"scatterternary\",\"marker\":{\"colorbar\":{\"outlinewidth\":0,\"ticks\":\"\"}}}],\"scattercarpet\":[{\"type\":\"scattercarpet\",\"marker\":{\"colorbar\":{\"outlinewidth\":0,\"ticks\":\"\"}}}],\"carpet\":[{\"aaxis\":{\"endlinecolor\":\"#2a3f5f\",\"gridcolor\":\"white\",\"linecolor\":\"white\",\"minorgridcolor\":\"white\",\"startlinecolor\":\"#2a3f5f\"},\"baxis\":{\"endlinecolor\":\"#2a3f5f\",\"gridcolor\":\"white\",\"linecolor\":\"white\",\"minorgridcolor\":\"white\",\"startlinecolor\":\"#2a3f5f\"},\"type\":\"carpet\"}],\"table\":[{\"cells\":{\"fill\":{\"color\":\"#EBF0F8\"},\"line\":{\"color\":\"white\"}},\"header\":{\"fill\":{\"color\":\"#C8D4E3\"},\"line\":{\"color\":\"white\"}},\"type\":\"table\"}],\"barpolar\":[{\"marker\":{\"line\":{\"color\":\"#E5ECF6\",\"width\":0.5},\"pattern\":{\"fillmode\":\"overlay\",\"size\":10,\"solidity\":0.2}},\"type\":\"barpolar\"}],\"pie\":[{\"automargin\":true,\"type\":\"pie\"}]},\"layout\":{\"autotypenumbers\":\"strict\",\"colorway\":[\"#636efa\",\"#EF553B\",\"#00cc96\",\"#ab63fa\",\"#FFA15A\",\"#19d3f3\",\"#FF6692\",\"#B6E880\",\"#FF97FF\",\"#FECB52\"],\"font\":{\"color\":\"#2a3f5f\"},\"hovermode\":\"closest\",\"hoverlabel\":{\"align\":\"left\"},\"paper_bgcolor\":\"white\",\"plot_bgcolor\":\"#E5ECF6\",\"polar\":{\"bgcolor\":\"#E5ECF6\",\"angularaxis\":{\"gridcolor\":\"white\",\"linecolor\":\"white\",\"ticks\":\"\"},\"radialaxis\":{\"gridcolor\":\"white\",\"linecolor\":\"white\",\"ticks\":\"\"}},\"ternary\":{\"bgcolor\":\"#E5ECF6\",\"aaxis\":{\"gridcolor\":\"white\",\"linecolor\":\"white\",\"ticks\":\"\"},\"baxis\":{\"gridcolor\":\"white\",\"linecolor\":\"white\",\"ticks\":\"\"},\"caxis\":{\"gridcolor\":\"white\",\"linecolor\":\"white\",\"ticks\":\"\"}},\"coloraxis\":{\"colorbar\":{\"outlinewidth\":0,\"ticks\":\"\"}},\"colorscale\":{\"sequential\":[[0.0,\"#0d0887\"],[0.1111111111111111,\"#46039f\"],[0.2222222222222222,\"#7201a8\"],[0.3333333333333333,\"#9c179e\"],[0.4444444444444444,\"#bd3786\"],[0.5555555555555556,\"#d8576b\"],[0.6666666666666666,\"#ed7953\"],[0.7777777777777778,\"#fb9f3a\"],[0.8888888888888888,\"#fdca26\"],[1.0,\"#f0f921\"]],\"sequentialminus\":[[0.0,\"#0d0887\"],[0.1111111111111111,\"#46039f\"],[0.2222222222222222,\"#7201a8\"],[0.3333333333333333,\"#9c179e\"],[0.4444444444444444,\"#bd3786\"],[0.5555555555555556,\"#d8576b\"],[0.6666666666666666,\"#ed7953\"],[0.7777777777777778,\"#fb9f3a\"],[0.8888888888888888,\"#fdca26\"],[1.0,\"#f0f921\"]],\"diverging\":[[0,\"#8e0152\"],[0.1,\"#c51b7d\"],[0.2,\"#de77ae\"],[0.3,\"#f1b6da\"],[0.4,\"#fde0ef\"],[0.5,\"#f7f7f7\"],[0.6,\"#e6f5d0\"],[0.7,\"#b8e186\"],[0.8,\"#7fbc41\"],[0.9,\"#4d9221\"],[1,\"#276419\"]]},\"xaxis\":{\"gridcolor\":\"white\",\"linecolor\":\"white\",\"ticks\":\"\",\"title\":{\"standoff\":15},\"zerolinecolor\":\"white\",\"automargin\":true,\"zerolinewidth\":2},\"yaxis\":{\"gridcolor\":\"white\",\"linecolor\":\"white\",\"ticks\":\"\",\"title\":{\"standoff\":15},\"zerolinecolor\":\"white\",\"automargin\":true,\"zerolinewidth\":2},\"scene\":{\"xaxis\":{\"backgroundcolor\":\"#E5ECF6\",\"gridcolor\":\"white\",\"linecolor\":\"white\",\"showbackground\":true,\"ticks\":\"\",\"zerolinecolor\":\"white\",\"gridwidth\":2},\"yaxis\":{\"backgroundcolor\":\"#E5ECF6\",\"gridcolor\":\"white\",\"linecolor\":\"white\",\"showbackground\":true,\"ticks\":\"\",\"zerolinecolor\":\"white\",\"gridwidth\":2},\"zaxis\":{\"backgroundcolor\":\"#E5ECF6\",\"gridcolor\":\"white\",\"linecolor\":\"white\",\"showbackground\":true,\"ticks\":\"\",\"zerolinecolor\":\"white\",\"gridwidth\":2}},\"shapedefaults\":{\"line\":{\"color\":\"#2a3f5f\"}},\"annotationdefaults\":{\"arrowcolor\":\"#2a3f5f\",\"arrowhead\":0,\"arrowwidth\":1},\"geo\":{\"bgcolor\":\"white\",\"landcolor\":\"#E5ECF6\",\"subunitcolor\":\"white\",\"showland\":true,\"showlakes\":true,\"lakecolor\":\"white\"},\"title\":{\"x\":0.05},\"mapbox\":{\"style\":\"light\"}}},\"xaxis\":{\"anchor\":\"y\",\"domain\":[0.0,1.0],\"title\":{\"text\":\"Component 1\"},\"gridcolor\":\"LightGray\"},\"yaxis\":{\"anchor\":\"x\",\"domain\":[0.0,1.0],\"title\":{\"text\":\"Component 2\"},\"categoryorder\":\"array\",\"categoryarray\":[4.202316496782345,-1.5636578848675038,0.04066681656985357,-0.8287142761732602,1.8778111883386344,0.5304705271888973,-0.662652794990986,-1.1987565163056266,-1.0615267126407206,-1.1675357978845344,0.6951406459213667,0.5802597508205322,-2.4048408676162607,2.244709143581993,0.7867992081313897,2.2118150285929317,-0.6263381318372998,1.0230935119897069,-1.5049832576728088,0.3493703832861457,0.6796134473292654,-0.10388385069503328,-0.17613857425544333,0.7783300250691578,-3.7104212932186185,1.7378012577640753,-0.09459042634529309,-3.141507382067896,-0.6872451685640764,1.742018109770191,-1.3322572311639709,0.5916612916627739,0.19317333350007393],\"gridcolor\":\"LightGray\"},\"coloraxis\":{\"colorbar\":{\"title\":{\"text\":\"1\"}},\"colorscale\":[[0.0,\"#0d0887\"],[0.1111111111111111,\"#46039f\"],[0.2222222222222222,\"#7201a8\"],[0.3333333333333333,\"#9c179e\"],[0.4444444444444444,\"#bd3786\"],[0.5555555555555556,\"#d8576b\"],[0.6666666666666666,\"#ed7953\"],[0.7777777777777778,\"#fb9f3a\"],[0.8888888888888888,\"#fdca26\"],[1.0,\"#f0f921\"]]},\"legend\":{\"title\":{\"text\":\"2\"},\"tracegroupgap\":0},\"margin\":{\"t\":60},\"title\":{\"text\":\"Relationship Between Component 1 and Component 2\",\"x\":0.5},\"paper_bgcolor\":\"LightSteelBlue\",\"plot_bgcolor\":\"Azure\",\"hovermode\":\"closest\"},                        {\"responsive\": true}                    ).then(function(){\n",
       "                            \n",
       "var gd = document.getElementById('4e349c56-f778-446e-82b3-70bed6e66d7d');\n",
       "var x = new MutationObserver(function (mutations, observer) {{\n",
       "        var display = window.getComputedStyle(gd).display;\n",
       "        if (!display || display === 'none') {{\n",
       "            console.log([gd, 'removed!']);\n",
       "            Plotly.purge(gd);\n",
       "            observer.disconnect();\n",
       "        }}\n",
       "}});\n",
       "\n",
       "// Listen for the removal of the full notebook cells\n",
       "var notebookContainer = gd.closest('#notebook-container');\n",
       "if (notebookContainer) {{\n",
       "    x.observe(notebookContainer, {childList: true});\n",
       "}}\n",
       "\n",
       "// Listen for the clearing of the current output cell\n",
       "var outputEl = gd.closest('.output');\n",
       "if (outputEl) {{\n",
       "    x.observe(outputEl, {childList: true});\n",
       "}}\n",
       "\n",
       "                        })                };                });            </script>        </div>"
      ]
     },
     "metadata": {},
     "output_type": "display_data"
    }
   ],
   "source": [
    "compare_component_scores(first_day_scores, 1, 2)"
   ]
  },
  {
   "cell_type": "code",
   "execution_count": null,
   "id": "6ecb7bc0-d4ee-44a9-9f57-15598a61dccf",
   "metadata": {},
   "outputs": [],
   "source": []
  }
 ],
 "metadata": {
  "kernelspec": {
   "display_name": "Python 3 (ipykernel)",
   "language": "python",
   "name": "python3"
  },
  "language_info": {
   "codemirror_mode": {
    "name": "ipython",
    "version": 3
   },
   "file_extension": ".py",
   "mimetype": "text/x-python",
   "name": "python",
   "nbconvert_exporter": "python",
   "pygments_lexer": "ipython3",
   "version": "3.8.18"
  }
 },
 "nbformat": 4,
 "nbformat_minor": 5
}
