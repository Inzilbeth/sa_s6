{
 "cells": [
  {
   "cell_type": "markdown",
   "id": "57525191-c68c-4016-95c8-158284d247c6",
   "metadata": {},
   "source": [
    "# Задание 6\n",
    "\n",
    "## Описание\n",
    "\n",
    "Определить наличие значимой связи между двумя категориальными переменными по таблице методом критерия хи-квадрат и точным тестом Фишера."
   ]
  },
  {
   "cell_type": "markdown",
   "id": "8b4291bd-376e-4f78-b689-6a29564889bd",
   "metadata": {},
   "source": [
    "## Подготовка"
   ]
  },
  {
   "cell_type": "code",
   "execution_count": 2,
   "id": "f1b53013-be52-42d9-8e68-bc3c77ea68be",
   "metadata": {},
   "outputs": [],
   "source": [
    "from itertools import product\n",
    "from math import factorial\n",
    "from typing import Generator\n",
    "\n",
    "import numpy as np\n",
    "from scipy.stats import chi2, chi2_contingency, fisher_exact, hypergeom"
   ]
  },
  {
   "cell_type": "code",
   "execution_count": 8,
   "id": "795a48a9-a1b2-4224-99ef-52ae1cf33c97",
   "metadata": {},
   "outputs": [],
   "source": [
    "# Вариант 5, влияние ВВП на естественный прирост населения в 1997 году\n",
    "contingency_table = np.array([\n",
    "    [4, 3],\n",
    "    [2, 12],\n",
    "])"
   ]
  },
  {
   "cell_type": "markdown",
   "id": "c8171949-5be1-487c-b57f-3f7e531be31a",
   "metadata": {},
   "source": [
    "## Решение"
   ]
  },
  {
   "cell_type": "code",
   "execution_count": 5,
   "id": "b74b0cbc-304d-413d-b3ce-445d425e1b8e",
   "metadata": {},
   "outputs": [
    {
     "name": "stdout",
     "output_type": "stream",
     "text": [
      "chi2: 4.2\n",
      "p-value: 0.040423979336908625\n"
     ]
    }
   ],
   "source": [
    "chi2_statistics, chi2_p_value, _, _ = chi2_contingency(contingency_table, correction=False)\n",
    "print(f'chi2: {chi2_statistics}')\n",
    "print(f'p-value: {chi2_p_value}')"
   ]
  },
  {
   "cell_type": "code",
   "execution_count": 7,
   "id": "51f02b0b-d7d3-41f0-9540-60d90a195e35",
   "metadata": {},
   "outputs": [
    {
     "name": "stdout",
     "output_type": "stream",
     "text": [
      "p-value: 0.11958204334365326\n"
     ]
    }
   ],
   "source": [
    "_, true_fisher_p_value = fisher_exact(contingency_table)\n",
    "print(f'p-value: {true_fisher_p_value}')"
   ]
  }
 ],
 "metadata": {
  "kernelspec": {
   "display_name": "Python 3 (ipykernel)",
   "language": "python",
   "name": "python3"
  },
  "language_info": {
   "codemirror_mode": {
    "name": "ipython",
    "version": 3
   },
   "file_extension": ".py",
   "mimetype": "text/x-python",
   "name": "python",
   "nbconvert_exporter": "python",
   "pygments_lexer": "ipython3",
   "version": "3.8.18"
  }
 },
 "nbformat": 4,
 "nbformat_minor": 5
}
