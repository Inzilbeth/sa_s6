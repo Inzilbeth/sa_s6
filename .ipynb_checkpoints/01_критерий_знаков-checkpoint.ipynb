{
 "cells": [
  {
   "cell_type": "markdown",
   "id": "b0a1729b-99b2-414a-9015-5d0a13dd06ca",
   "metadata": {},
   "source": [
    "# Задание 1.1\n",
    "\n",
    "## Описание\n",
    "\n",
    "Применить критерий знаков для решения задачи:\n",
    "\n",
    "Проверка значимости изменений. Считаем знаки разностей между значениями в первой и второй точек: n−, n0, n+ и для n− + n+ = n проверяем гипотезу H0 : p = 0.5, где p вероятность (−) снижения тяжести состояния."
   ]
  },
  {
   "cell_type": "markdown",
   "id": "7431ba31-b328-4420-83d7-e8885800ea6d",
   "metadata": {},
   "source": [
    "## Подготовка"
   ]
  },
  {
   "cell_type": "code",
   "execution_count": 37,
   "id": "1eef06d0-38b7-4261-bff3-ab0c7f6d2bed",
   "metadata": {},
   "outputs": [],
   "source": [
    "import pandas as pd\n",
    "from IPython.display import display\n",
    "import numpy as np\n",
    "from math import comb"
   ]
  },
  {
   "cell_type": "code",
   "execution_count": 38,
   "id": "ce605dd9-08b3-41a0-a212-60e1a1be15ba",
   "metadata": {},
   "outputs": [],
   "source": [
    "pd.options.mode.chained_assignment = None"
   ]
  },
  {
   "cell_type": "code",
   "execution_count": 39,
   "id": "12394e60-378c-46bd-9c5a-fce535581e12",
   "metadata": {},
   "outputs": [],
   "source": [
    "DERFAULT_PROBABILITY_THRESHOLD = 0.05"
   ]
  },
  {
   "cell_type": "code",
   "execution_count": 40,
   "id": "33c89f37-ebee-48d9-9143-c6809c82cfbb",
   "metadata": {},
   "outputs": [],
   "source": [
    "df = pd.read_csv('data_big.csv')\n"
   ]
  },
  {
   "cell_type": "markdown",
   "id": "ca7e74f8-26c0-479b-8cb2-b5b337336585",
   "metadata": {},
   "source": [
    "## Решение"
   ]
  },
  {
   "cell_type": "markdown",
   "id": "3b5f2e37-b902-4e50-a56f-842f789aa55d",
   "metadata": {},
   "source": [
    "Гипотеза: улучшение состояния больного является случайным событием\n",
    "\n",
    "Альтернативная гипотеза: улучшение состояния больного является статистически значимым событием."
   ]
  },
  {
   "cell_type": "code",
   "execution_count": 41,
   "id": "e0ca5234-592c-446d-ba5e-d96353e99b0d",
   "metadata": {},
   "outputs": [
    {
     "data": {
      "text/html": [
       "<div>\n",
       "<style scoped>\n",
       "    .dataframe tbody tr th:only-of-type {\n",
       "        vertical-align: middle;\n",
       "    }\n",
       "\n",
       "    .dataframe tbody tr th {\n",
       "        vertical-align: top;\n",
       "    }\n",
       "\n",
       "    .dataframe thead th {\n",
       "        text-align: right;\n",
       "    }\n",
       "</style>\n",
       "<table border=\"1\" class=\"dataframe\">\n",
       "  <thead>\n",
       "    <tr style=\"text-align: right;\">\n",
       "      <th></th>\n",
       "      <th>count</th>\n",
       "    </tr>\n",
       "    <tr>\n",
       "      <th>sign</th>\n",
       "      <th></th>\n",
       "    </tr>\n",
       "  </thead>\n",
       "  <tbody>\n",
       "    <tr>\n",
       "      <th>+</th>\n",
       "      <td>16</td>\n",
       "    </tr>\n",
       "    <tr>\n",
       "      <th>-</th>\n",
       "      <td>2</td>\n",
       "    </tr>\n",
       "  </tbody>\n",
       "</table>\n",
       "</div>"
      ],
      "text/plain": [
       "      count\n",
       "sign       \n",
       "+        16\n",
       "-         2"
      ]
     },
     "execution_count": 41,
     "metadata": {},
     "output_type": "execute_result"
    }
   ],
   "source": [
    "df_1 = df[['anxiety.1', 'anxiety.2']] # Тревожность\n",
    "\n",
    "df_1['sign'] = (df_1['anxiety.2'] - df_1['anxiety.1'])\n",
    "df_1.drop(df_1[df_1['sign'] == 0].index, inplace=True) # 0 не вносят вклад в критерий знаков\n",
    "df_1['sign'] = np.where(df_1['sign'] > 0, '-', '+')\n",
    "\n",
    "df_1['sign'].value_counts().to_frame()"
   ]
  },
  {
   "cell_type": "code",
   "execution_count": 42,
   "id": "2a96cadb-0d44-4152-be57-bff3767c87f0",
   "metadata": {},
   "outputs": [],
   "source": [
    "n = 16 + 2\n",
    "k = 16\n",
    "\n",
    "# Рассчитывается вероятность prob, что наблюдается k или больше отрицательных изменений при условии, \n",
    "# что истинная вероятность отрицательного изменения (p) равна 0.5. Для этого используется биномиальное распределение, \n",
    "# где вероятность каждого исхода равна 1 / (2 ** n) (поскольку предполагается, что p = 0.5).\n",
    "prob = 0\n",
    "for i in range(k, n + 1):\n",
    "    prob += comb(n, i) / (2 ** n)"
   ]
  },
  {
   "cell_type": "code",
   "execution_count": 43,
   "id": "e02aab2c-1b71-4f1b-a526-a65fa292ce15",
   "metadata": {},
   "outputs": [
    {
     "name": "stdout",
     "output_type": "stream",
     "text": [
      "P = 0.000656\n",
      "P < a = 0.05 => гипотеза отвергается\n"
     ]
    }
   ],
   "source": [
    "rounded_prob = round(prob, 6)\n",
    "\n",
    "print(f'P = {rounded_prob}')\n",
    "\n",
    "if rounded_prob < DERFAULT_PROBABILITY_THRESHOLD:\n",
    "    print(f'P < a = {DERFAULT_PROBABILITY_THRESHOLD} => гипотеза отвергается')\n",
    "else:\n",
    "    print(f'P >= a = {DERFAULT_PROBABILITY_THRESHOLD} => гипотеза не отвергается')"
   ]
  },
  {
   "cell_type": "markdown",
   "id": "8be13005-7ba0-4c18-ba24-1a5776624e79",
   "metadata": {},
   "source": [
    "# Задание 1.2\n",
    "\n",
    "## Описание\n",
    "\n",
    "Применить критерий знаков для решения задачи:\n",
    "\n",
    "Вводим переменную-индикатор неухудшения состояния: 1, если был 0 и остался 0 или тяжесть снизилась. Проверяем гипотезу о том, что изменения случайны. то есть состояние может неухудшиться с вероятность 0.5. Если гипотеза отвергается, то нужно сказать в пользу какой альтернативы."
   ]
  },
  {
   "cell_type": "markdown",
   "id": "8efdc9e7-a5f1-4719-9a30-ef64d8848c2a",
   "metadata": {},
   "source": [
    "## Решение"
   ]
  },
  {
   "cell_type": "markdown",
   "id": "972fba47-6f12-42d6-aa61-7e65921b3524",
   "metadata": {},
   "source": [
    "Гипотеза: улучшение или стабильно нормальное состояние больного является случайным событием.\n",
    "\n",
    "Альтернативная гипотеза: улучшение или стабильно нормальное состояние больного является статистически значимым событием."
   ]
  },
  {
   "cell_type": "code",
   "execution_count": 44,
   "id": "6969a4f3-56c6-4668-936a-7b3ae7eb728b",
   "metadata": {},
   "outputs": [
    {
     "data": {
      "text/html": [
       "<div>\n",
       "<style scoped>\n",
       "    .dataframe tbody tr th:only-of-type {\n",
       "        vertical-align: middle;\n",
       "    }\n",
       "\n",
       "    .dataframe tbody tr th {\n",
       "        vertical-align: top;\n",
       "    }\n",
       "\n",
       "    .dataframe thead th {\n",
       "        text-align: right;\n",
       "    }\n",
       "</style>\n",
       "<table border=\"1\" class=\"dataframe\">\n",
       "  <thead>\n",
       "    <tr style=\"text-align: right;\">\n",
       "      <th></th>\n",
       "      <th>count</th>\n",
       "    </tr>\n",
       "    <tr>\n",
       "      <th>indicator</th>\n",
       "      <th></th>\n",
       "    </tr>\n",
       "  </thead>\n",
       "  <tbody>\n",
       "    <tr>\n",
       "      <th>1</th>\n",
       "      <td>19</td>\n",
       "    </tr>\n",
       "    <tr>\n",
       "      <th>0</th>\n",
       "      <td>15</td>\n",
       "    </tr>\n",
       "  </tbody>\n",
       "</table>\n",
       "</div>"
      ],
      "text/plain": [
       "           count\n",
       "indicator       \n",
       "1             19\n",
       "0             15"
      ]
     },
     "execution_count": 44,
     "metadata": {},
     "output_type": "execute_result"
    }
   ],
   "source": [
    "df_2 = df[['anxiety.1', 'anxiety.2']] # Тревожность\n",
    "\n",
    "df_2['indicator'] = (df_2['anxiety.2'] < df_2['anxiety.1']) | ((df_2['anxiety.2'] == 0) & (df_2['anxiety.1'] == 0))\n",
    "df_2['indicator'] = df_2['indicator'].astype(int)\n",
    "\n",
    "df_2['indicator'].value_counts().to_frame()"
   ]
  },
  {
   "cell_type": "code",
   "execution_count": 45,
   "id": "dec0d93f-820a-4d22-bec8-bef8f0df8b81",
   "metadata": {},
   "outputs": [],
   "source": [
    "n = 19 + 15\n",
    "k = 19\n",
    "\n",
    "# Рассчитывается вероятность prob, что наблюдается k или больше случаев неухудшения при условии, \n",
    "# что истинная вероятность отрицательного изменения (p) равна 0.5.\n",
    "prob = 0\n",
    "for i in range(k, n + 1):\n",
    "    prob += comb(n, i) / (2 ** n)"
   ]
  },
  {
   "cell_type": "code",
   "execution_count": 46,
   "id": "150e570b-91c3-4437-b655-7b855e1c7b13",
   "metadata": {},
   "outputs": [
    {
     "name": "stdout",
     "output_type": "stream",
     "text": [
      "P = 0.303796\n",
      "P >= a = 0.05 => гипотеза не отвергается\n"
     ]
    }
   ],
   "source": [
    "rounded_prob = round(prob, 6)\n",
    "\n",
    "print(f'P = {rounded_prob}')\n",
    "\n",
    "if rounded_prob < DERFAULT_PROBABILITY_THRESHOLD:\n",
    "    print(f'P < a = {DERFAULT_PROBABILITY_THRESHOLD} => гипотеза отвергается')\n",
    "else:\n",
    "    print(f'P >= a = {DERFAULT_PROBABILITY_THRESHOLD} => гипотеза не отвергается')"
   ]
  }
 ],
 "metadata": {
  "kernelspec": {
   "display_name": "Python 3 (ipykernel)",
   "language": "python",
   "name": "python3"
  },
  "language_info": {
   "codemirror_mode": {
    "name": "ipython",
    "version": 3
   },
   "file_extension": ".py",
   "mimetype": "text/x-python",
   "name": "python",
   "nbconvert_exporter": "python",
   "pygments_lexer": "ipython3",
   "version": "3.8.18"
  }
 },
 "nbformat": 4,
 "nbformat_minor": 5
}
